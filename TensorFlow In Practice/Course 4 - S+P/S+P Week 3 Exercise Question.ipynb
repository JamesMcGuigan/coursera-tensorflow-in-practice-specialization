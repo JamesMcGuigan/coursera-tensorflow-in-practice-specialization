{
  "nbformat": 4,
  "nbformat_minor": 0,
  "metadata": {
    "colab": {
      "name": "S+P Week 3 Exercise Question.ipynb",
      "provenance": [],
      "collapsed_sections": [],
      "include_colab_link": true
    },
    "kernelspec": {
      "name": "python3",
      "display_name": "Python 3"
    },
    "accelerator": "GPU"
  },
  "cells": [
    {
      "cell_type": "markdown",
      "metadata": {
        "id": "view-in-github",
        "colab_type": "text"
      },
      "source": [
        "<a href=\"https://colab.research.google.com/github/JamesMcGuigan/dlaicourse/blob/master/TensorFlow%20In%20Practice/Course%204%20-%20S%2BP/S%2BP%20Week%203%20Exercise%20Question.ipynb\" target=\"_parent\"><img src=\"https://colab.research.google.com/assets/colab-badge.svg\" alt=\"Open In Colab\"/></a>"
      ]
    },
    {
      "cell_type": "code",
      "metadata": {
        "id": "D1J15Vh_1Jih",
        "colab_type": "code",
        "colab": {}
      },
      "source": [
        "# !pip install tf-nightly-2.0-preview"
      ],
      "execution_count": 0,
      "outputs": []
    },
    {
      "cell_type": "code",
      "metadata": {
        "id": "BOjujz601HcS",
        "colab_type": "code",
        "colab": {
          "base_uri": "https://localhost:8080/",
          "height": 34
        },
        "outputId": "f9e55e86-cbc8-4bd3-9297-9673da5b2d03"
      },
      "source": [
        "import tensorflow as tf\n",
        "import numpy as np\n",
        "import matplotlib.pyplot as plt\n",
        "print(tf.__version__)"
      ],
      "execution_count": 2,
      "outputs": [
        {
          "output_type": "stream",
          "text": [
            "2.2.0-rc1\n"
          ],
          "name": "stdout"
        }
      ]
    },
    {
      "cell_type": "code",
      "metadata": {
        "colab_type": "code",
        "id": "Zswl7jRtGzkk",
        "colab": {
          "base_uri": "https://localhost:8080/",
          "height": 279
        },
        "outputId": "f47d7656-3b78-4737-87d2-0c250b0e0117"
      },
      "source": [
        " def plot_series(time, series, format=\"-\", start=0, end=None):\n",
        "    plt.plot(time[start:end], series[start:end], format)\n",
        "    plt.xlabel(\"Time\")\n",
        "    plt.ylabel(\"Value\")\n",
        "    plt.grid(False)\n",
        "\n",
        "def trend(time, slope=0):\n",
        "    return slope * time\n",
        "\n",
        "def seasonal_pattern(season_time):\n",
        "    \"\"\"Just an arbitrary pattern, you can change it if you wish\"\"\"\n",
        "    return np.where(season_time < 0.1,\n",
        "                    np.cos(season_time * 6 * np.pi),\n",
        "                    2 / np.exp(9 * season_time))\n",
        "\n",
        "def seasonality(time, period, amplitude=1, phase=0):\n",
        "    \"\"\"Repeats the same pattern at each period\"\"\"\n",
        "    season_time = ((time + phase) % period) / period\n",
        "    return amplitude * seasonal_pattern(season_time)\n",
        "\n",
        "def noise(time, noise_level=1, seed=None):\n",
        "    rnd = np.random.RandomState(seed)\n",
        "    return rnd.randn(len(time)) * noise_level\n",
        "\n",
        "time = np.arange(10 * 365 + 1, dtype=\"float32\")\n",
        "baseline  = 10\n",
        "series    = trend(time, 0.1)  \n",
        "baseline  = 10\n",
        "amplitude = 40\n",
        "slope     = 0.005\n",
        "noise_level = 3\n",
        "\n",
        "# Create the series\n",
        "series = baseline + trend(time, slope) + seasonality(time, period=365, amplitude=amplitude)\n",
        "# Update with noise\n",
        "series += noise(time, noise_level, seed=51)\n",
        "\n",
        "split_time = 3000\n",
        "time_train = time[:split_time]\n",
        "x_train    = series[:split_time]\n",
        "time_valid = time[split_time:]\n",
        "x_valid    = series[split_time:]\n",
        "\n",
        "window_size = 20\n",
        "batch_size = 32\n",
        "shuffle_buffer_size = 1000\n",
        "\n",
        "plot_series(time, series)"
      ],
      "execution_count": 5,
      "outputs": [
        {
          "output_type": "display_data",
          "data": {
            "image/png": "[encoded data removed]",
            "text/plain": [
              "<Figure size 432x288 with 1 Axes>"
            ]
          },
          "metadata": {
            "tags": []
          }
        }
      ]
    },
    {
      "cell_type": "code",
      "metadata": {
        "id": "4sTTIOCbyShY",
        "colab_type": "code",
        "colab": {}
      },
      "source": [
        "def windowed_dataset(series, window_size, batch_size, shuffle_buffer):\n",
        "  dataset = tf.data.Dataset.from_tensor_slices(series)\n",
        "  dataset = dataset.window(window_size + 1, shift=1, drop_remainder=True)\n",
        "  dataset = dataset.flat_map(lambda window: window.batch(window_size + 1))\n",
        "  dataset = dataset.shuffle(shuffle_buffer).map(lambda window: (window[:-1], window[-1]))\n",
        "  dataset = dataset.batch(batch_size).prefetch(1)\n",
        "  return dataset"
      ],
      "execution_count": 0,
      "outputs": []
    },
    {
      "cell_type": "code",
      "metadata": {
        "id": "A1Hl39rklkLm",
        "colab_type": "code",
        "colab": {}
      },
      "source": [
        "tf.keras.backend.clear_session()\n",
        "tf.random.set_seed(51)\n",
        "np.random.seed(51)\n",
        "\n",
        "tf.keras.backend.clear_session()\n",
        "dataset = windowed_dataset(x_train, window_size, batch_size, shuffle_buffer_size)\n",
        "\n",
        "model = tf.keras.models.Sequential([\n",
        "  tf.keras.layers.Lambda(lambda x: tf.expand_dims(x, -1), input_shape=[None]),\n",
        "  tf.keras.layers.Bidirectional(tf.keras.layers.LSTM(32, return_sequences=True)),\n",
        "  tf.keras.layers.Bidirectional(tf.keras.layers.LSTM(32)),\n",
        "  tf.keras.layers.Dense(1),\n",
        "  tf.keras.layers.Lambda(lambda x: x * 100)\n",
        "])\n",
        "\n",
        "lr_schedule = tf.keras.callbacks.LearningRateScheduler(\n",
        "    lambda epoch: 1e-8 * 10**(epoch / 20))\n",
        "optimizer = tf.keras.optimizers.SGD(lr=1e-8, momentum=0.9)\n",
        "model.compile(loss=tf.keras.losses.Huber(),\n",
        "              optimizer=optimizer,\n",
        "              metrics=[\"mae\"])\n",
        "history = model.fit(dataset, epochs=100, callbacks=[lr_schedule], verbose=False)"
      ],
      "execution_count": 0,
      "outputs": []
    },
    {
      "cell_type": "code",
      "metadata": {
        "id": "AkBsrsXMzoWR",
        "colab_type": "code",
        "colab": {
          "base_uri": "https://localhost:8080/",
          "height": 290
        },
        "outputId": "a93b02ce-73b6-4487-fbb5-94e1ab92f42e"
      },
      "source": [
        "plt.semilogx(history.history[\"lr\"], history.history[\"loss\"])\n",
        "plt.axis([1e-8, 1e-4, 0, 30])\n",
        "\n",
        "# FROM THIS PICK A LEARNING RATE"
      ],
      "execution_count": 10,
      "outputs": [
        {
          "output_type": "execute_result",
          "data": {
            "text/plain": [
              "(1e-08, 0.0001, 0.0, 30.0)"
            ]
          },
          "metadata": {
            "tags": []
          },
          "execution_count": 10
        },
        {
          "output_type": "display_data",
          "data": {
            "image/png": "[encoded data removed]",
            "text/plain": [
              "<Figure size 432x288 with 1 Axes>"
            ]
          },
          "metadata": {
            "tags": []
          }
        }
      ]
    },
    {
      "cell_type": "code",
      "metadata": {
        "id": "4uh-97bpLZCA",
        "colab_type": "code",
        "colab": {
          "base_uri": "https://localhost:8080/",
          "height": 1000
        },
        "outputId": "9e1aa05c-dd86-40aa-cb41-8444a52ee3e4"
      },
      "source": [
        "tf.keras.backend.clear_session()\n",
        "tf.random.set_seed(51)\n",
        "np.random.seed(51)\n",
        "\n",
        "tf.keras.backend.clear_session()\n",
        "dataset = windowed_dataset(x_train, window_size, batch_size, shuffle_buffer_size)\n",
        "\n",
        "model = tf.keras.models.Sequential([\n",
        "  tf.keras.layers.Lambda(lambda x: tf.expand_dims(x, -1), input_shape=[None]),\n",
        "  tf.keras.layers.Bidirectional(tf.keras.layers.LSTM(32, return_sequences=True)),\n",
        "  tf.keras.layers.Bidirectional(tf.keras.layers.LSTM(32)),\n",
        "  tf.keras.layers.Dense(1),\n",
        "  tf.keras.layers.Lambda(lambda x: x * 100)\n",
        "])\n",
        "\n",
        "model.compile(loss=\"mse\", optimizer=tf.keras.optimizers.SGD(lr=2e-6, momentum=0.9),metrics=[\"mae\"])\n",
        "history = model.fit(\n",
        "    dataset,\n",
        "    epochs=5000,\n",
        "    verbose=1,\n",
        "    callbacks=[\n",
        "      tf.keras.callbacks.EarlyStopping(monitor='loss', patience=25)\n",
        "    ]\n",
        ")\n",
        "                                                            \n",
        "# FIND A MODEL AND A LR THAT TRAINS TO AN MAE < 3                                                          "
      ],
      "execution_count": 14,
      "outputs": [
        {
          "output_type": "stream",
          "text": [
            "Epoch 1/5000\n",
            "94/94 [==============================] - 1s 9ms/step - loss: 61.8168 - mae: 5.4015\n",
            "Epoch 2/5000\n",
            "94/94 [==============================] - 1s 9ms/step - loss: 33.6524 - mae: 3.8370\n",
            "Epoch 3/5000\n",
            "94/94 [==============================] - 1s 10ms/step - loss: 28.0447 - mae: 3.4704\n",
            "Epoch 4/5000\n",
            "94/94 [==============================] - 1s 9ms/step - loss: 29.4536 - mae: 3.6279\n",
            "Epoch 5/5000\n",
            "94/94 [==============================] - 1s 10ms/step - loss: 30.3415 - mae: 3.7977\n",
            "Epoch 6/5000\n",
            "94/94 [==============================] - 1s 10ms/step - loss: 27.0352 - mae: 3.4625\n",
            "Epoch 7/5000\n",
            "94/94 [==============================] - 1s 9ms/step - loss: 25.9754 - mae: 3.3946\n",
            "Epoch 8/5000\n",
            "94/94 [==============================] - 1s 9ms/step - loss: 26.9022 - mae: 3.4959\n",
            "Epoch 9/5000\n",
            "94/94 [==============================] - 1s 9ms/step - loss: 25.7355 - mae: 3.3636\n",
            "Epoch 10/5000\n",
            "94/94 [==============================] - 1s 9ms/step - loss: 25.7076 - mae: 3.3716\n",
            "Epoch 11/5000\n",
            "94/94 [==============================] - 1s 9ms/step - loss: 27.4738 - mae: 3.5776\n",
            "Epoch 12/5000\n",
            "94/94 [==============================] - 1s 9ms/step - loss: 25.0294 - mae: 3.3460\n",
            "Epoch 13/5000\n",
            "94/94 [==============================] - 1s 10ms/step - loss: 25.3073 - mae: 3.3671\n",
            "Epoch 14/5000\n",
            "94/94 [==============================] - 1s 9ms/step - loss: 27.6119 - mae: 3.6061\n",
            "Epoch 15/5000\n",
            "94/94 [==============================] - 1s 10ms/step - loss: 25.6931 - mae: 3.4300\n",
            "Epoch 16/5000\n",
            "94/94 [==============================] - 1s 10ms/step - loss: 24.7500 - mae: 3.3474\n",
            "Epoch 17/5000\n",
            "94/94 [==============================] - 1s 9ms/step - loss: 24.1148 - mae: 3.2931\n",
            "Epoch 18/5000\n",
            "94/94 [==============================] - 1s 10ms/step - loss: 25.0207 - mae: 3.3396\n",
            "Epoch 19/5000\n",
            "94/94 [==============================] - 1s 10ms/step - loss: 26.9081 - mae: 3.5845\n",
            "Epoch 20/5000\n",
            "94/94 [==============================] - 1s 9ms/step - loss: 24.7603 - mae: 3.3967\n",
            "Epoch 21/5000\n",
            "94/94 [==============================] - 1s 9ms/step - loss: 23.9834 - mae: 3.2931\n",
            "Epoch 22/5000\n",
            "94/94 [==============================] - 1s 10ms/step - loss: 23.8763 - mae: 3.2465\n",
            "Epoch 23/5000\n",
            "94/94 [==============================] - 1s 9ms/step - loss: 24.6278 - mae: 3.3802\n",
            "Epoch 24/5000\n",
            "94/94 [==============================] - 1s 9ms/step - loss: 25.1052 - mae: 3.4244\n",
            "Epoch 25/5000\n",
            "94/94 [==============================] - 1s 10ms/step - loss: 23.7129 - mae: 3.2673\n",
            "Epoch 26/5000\n",
            "94/94 [==============================] - 1s 9ms/step - loss: 24.4524 - mae: 3.3370\n",
            "Epoch 27/5000\n",
            "94/94 [==============================] - 1s 9ms/step - loss: 24.2458 - mae: 3.3066\n",
            "Epoch 28/5000\n",
            "94/94 [==============================] - 1s 9ms/step - loss: 25.1025 - mae: 3.4186\n",
            "Epoch 29/5000\n",
            "94/94 [==============================] - 1s 9ms/step - loss: 24.0891 - mae: 3.3115\n",
            "Epoch 30/5000\n",
            "94/94 [==============================] - 1s 9ms/step - loss: 24.3055 - mae: 3.3632\n",
            "Epoch 31/5000\n",
            "94/94 [==============================] - 1s 9ms/step - loss: 24.3277 - mae: 3.2904\n",
            "Epoch 32/5000\n",
            "94/94 [==============================] - 1s 9ms/step - loss: 27.7434 - mae: 3.6024\n",
            "Epoch 33/5000\n",
            "94/94 [==============================] - 1s 9ms/step - loss: 25.8817 - mae: 3.5512\n",
            "Epoch 34/5000\n",
            "94/94 [==============================] - 1s 9ms/step - loss: 25.6245 - mae: 3.4783\n",
            "Epoch 35/5000\n",
            "94/94 [==============================] - 1s 9ms/step - loss: 29.0033 - mae: 3.4805\n",
            "Epoch 36/5000\n",
            "94/94 [==============================] - 1s 9ms/step - loss: 24.0721 - mae: 3.3029\n",
            "Epoch 37/5000\n",
            "94/94 [==============================] - 1s 9ms/step - loss: 24.2710 - mae: 3.3537\n",
            "Epoch 38/5000\n",
            "94/94 [==============================] - 1s 9ms/step - loss: 25.0526 - mae: 3.4344\n",
            "Epoch 39/5000\n",
            "94/94 [==============================] - 1s 9ms/step - loss: 24.6835 - mae: 3.3947\n",
            "Epoch 40/5000\n",
            "94/94 [==============================] - 1s 10ms/step - loss: 24.0809 - mae: 3.3309\n",
            "Epoch 41/5000\n",
            "94/94 [==============================] - 1s 10ms/step - loss: 24.6459 - mae: 3.3992\n",
            "Epoch 42/5000\n",
            "94/94 [==============================] - 1s 10ms/step - loss: 24.9284 - mae: 3.4338\n",
            "Epoch 43/5000\n",
            "94/94 [==============================] - 1s 9ms/step - loss: 23.4858 - mae: 3.2511\n",
            "Epoch 44/5000\n",
            "94/94 [==============================] - 1s 9ms/step - loss: 23.5590 - mae: 3.3053\n",
            "Epoch 45/5000\n",
            "94/94 [==============================] - 1s 9ms/step - loss: 25.1658 - mae: 3.4310\n",
            "Epoch 46/5000\n",
            "94/94 [==============================] - 1s 9ms/step - loss: 26.2834 - mae: 3.2989\n",
            "Epoch 47/5000\n",
            "94/94 [==============================] - 1s 10ms/step - loss: 27.5154 - mae: 3.6708\n",
            "Epoch 48/5000\n",
            "94/94 [==============================] - 1s 9ms/step - loss: 24.2544 - mae: 3.3496\n",
            "Epoch 49/5000\n",
            "94/94 [==============================] - 1s 9ms/step - loss: 23.4948 - mae: 3.2819\n",
            "Epoch 50/5000\n",
            "94/94 [==============================] - 1s 9ms/step - loss: 22.9147 - mae: 3.2468\n",
            "Epoch 51/5000\n",
            "94/94 [==============================] - 1s 10ms/step - loss: 23.8500 - mae: 3.3031\n",
            "Epoch 52/5000\n",
            "94/94 [==============================] - 1s 9ms/step - loss: 23.4422 - mae: 3.2706\n",
            "Epoch 53/5000\n",
            "94/94 [==============================] - 1s 9ms/step - loss: 24.0579 - mae: 3.2764\n",
            "Epoch 54/5000\n",
            "94/94 [==============================] - 1s 9ms/step - loss: 23.9103 - mae: 3.3341\n",
            "Epoch 55/5000\n",
            "94/94 [==============================] - 1s 10ms/step - loss: 22.3847 - mae: 3.1409\n",
            "Epoch 56/5000\n",
            "94/94 [==============================] - 1s 10ms/step - loss: 22.8615 - mae: 3.2422\n",
            "Epoch 57/5000\n",
            "94/94 [==============================] - 1s 10ms/step - loss: 22.6734 - mae: 3.1883\n",
            "Epoch 58/5000\n",
            "94/94 [==============================] - 1s 10ms/step - loss: 23.3490 - mae: 3.2620\n",
            "Epoch 59/5000\n",
            "94/94 [==============================] - 1s 10ms/step - loss: 22.7634 - mae: 3.2297\n",
            "Epoch 60/5000\n",
            "94/94 [==============================] - 1s 10ms/step - loss: 22.3266 - mae: 3.1777\n",
            "Epoch 61/5000\n",
            "94/94 [==============================] - 1s 9ms/step - loss: 22.8435 - mae: 3.2287\n",
            "Epoch 62/5000\n",
            "94/94 [==============================] - 1s 9ms/step - loss: 24.5154 - mae: 3.3693\n",
            "Epoch 63/5000\n",
            "94/94 [==============================] - 1s 9ms/step - loss: 22.1595 - mae: 3.1525\n",
            "Epoch 64/5000\n",
            "94/94 [==============================] - 1s 10ms/step - loss: 22.5084 - mae: 3.1945\n",
            "Epoch 65/5000\n",
            "94/94 [==============================] - 1s 10ms/step - loss: 21.9821 - mae: 3.1538\n",
            "Epoch 66/5000\n",
            "94/94 [==============================] - 1s 10ms/step - loss: 22.8525 - mae: 3.2162\n",
            "Epoch 67/5000\n",
            "94/94 [==============================] - 1s 10ms/step - loss: 22.5487 - mae: 3.1867\n",
            "Epoch 68/5000\n",
            "94/94 [==============================] - 1s 10ms/step - loss: 22.3138 - mae: 3.1487\n",
            "Epoch 69/5000\n",
            "94/94 [==============================] - 1s 10ms/step - loss: 23.4458 - mae: 3.2937\n",
            "Epoch 70/5000\n",
            "94/94 [==============================] - 1s 10ms/step - loss: 23.8982 - mae: 3.3318\n",
            "Epoch 71/5000\n",
            "94/94 [==============================] - 1s 10ms/step - loss: 23.0932 - mae: 3.2825\n",
            "Epoch 72/5000\n",
            "94/94 [==============================] - 1s 10ms/step - loss: 22.2617 - mae: 3.1915\n",
            "Epoch 73/5000\n",
            "94/94 [==============================] - 1s 10ms/step - loss: 22.7777 - mae: 3.2169\n",
            "Epoch 74/5000\n",
            "94/94 [==============================] - 1s 10ms/step - loss: 23.3393 - mae: 3.2887\n",
            "Epoch 75/5000\n",
            "94/94 [==============================] - 1s 10ms/step - loss: 22.1373 - mae: 3.1590\n",
            "Epoch 76/5000\n",
            "94/94 [==============================] - 1s 9ms/step - loss: 22.6203 - mae: 3.1904\n",
            "Epoch 77/5000\n",
            "94/94 [==============================] - 1s 10ms/step - loss: 23.0879 - mae: 3.2612\n",
            "Epoch 78/5000\n",
            "94/94 [==============================] - 1s 10ms/step - loss: 22.0217 - mae: 3.1227\n",
            "Epoch 79/5000\n",
            "94/94 [==============================] - 1s 10ms/step - loss: 22.0081 - mae: 3.1532\n",
            "Epoch 80/5000\n",
            "94/94 [==============================] - 1s 10ms/step - loss: 21.8417 - mae: 3.1360\n",
            "Epoch 81/5000\n",
            "94/94 [==============================] - 1s 10ms/step - loss: 22.3453 - mae: 3.1761\n",
            "Epoch 82/5000\n",
            "94/94 [==============================] - 1s 10ms/step - loss: 22.3938 - mae: 3.1882\n",
            "Epoch 83/5000\n",
            "94/94 [==============================] - 1s 10ms/step - loss: 25.5122 - mae: 3.5347\n",
            "Epoch 84/5000\n",
            "94/94 [==============================] - 1s 10ms/step - loss: 22.2976 - mae: 3.2008\n",
            "Epoch 85/5000\n",
            "94/94 [==============================] - 1s 10ms/step - loss: 21.8408 - mae: 3.1223\n",
            "Epoch 86/5000\n",
            "94/94 [==============================] - 1s 10ms/step - loss: 22.2916 - mae: 3.1455\n",
            "Epoch 87/5000\n",
            "94/94 [==============================] - 1s 10ms/step - loss: 23.4992 - mae: 3.3461\n",
            "Epoch 88/5000\n",
            "94/94 [==============================] - 1s 10ms/step - loss: 21.4704 - mae: 3.1136\n",
            "Epoch 89/5000\n",
            "94/94 [==============================] - 1s 10ms/step - loss: 22.3851 - mae: 3.1601\n",
            "Epoch 90/5000\n",
            "94/94 [==============================] - 1s 9ms/step - loss: 21.9016 - mae: 3.1554\n",
            "Epoch 91/5000\n",
            "94/94 [==============================] - 1s 9ms/step - loss: 22.2690 - mae: 3.1870\n",
            "Epoch 92/5000\n",
            "94/94 [==============================] - 1s 9ms/step - loss: 23.1914 - mae: 3.2698\n",
            "Epoch 93/5000\n",
            "94/94 [==============================] - 1s 10ms/step - loss: 21.7346 - mae: 3.1162\n",
            "Epoch 94/5000\n",
            "94/94 [==============================] - 1s 10ms/step - loss: 22.5688 - mae: 3.1929\n",
            "Epoch 95/5000\n",
            "94/94 [==============================] - 1s 10ms/step - loss: 22.1907 - mae: 3.1844\n",
            "Epoch 96/5000\n",
            "94/94 [==============================] - 1s 10ms/step - loss: 22.0286 - mae: 3.1658\n",
            "Epoch 97/5000\n",
            "94/94 [==============================] - 1s 10ms/step - loss: 23.4736 - mae: 3.3387\n",
            "Epoch 98/5000\n",
            "94/94 [==============================] - 1s 9ms/step - loss: 24.4061 - mae: 3.3044\n",
            "Epoch 99/5000\n",
            "94/94 [==============================] - 1s 10ms/step - loss: 24.2139 - mae: 3.4024\n",
            "Epoch 100/5000\n",
            "94/94 [==============================] - 1s 10ms/step - loss: 23.2666 - mae: 3.3059\n",
            "Epoch 101/5000\n",
            "94/94 [==============================] - 1s 10ms/step - loss: 24.5082 - mae: 3.4421\n",
            "Epoch 102/5000\n",
            "94/94 [==============================] - 1s 9ms/step - loss: 23.6804 - mae: 3.3073\n",
            "Epoch 103/5000\n",
            "94/94 [==============================] - 1s 10ms/step - loss: 21.2983 - mae: 3.0797\n",
            "Epoch 104/5000\n",
            "94/94 [==============================] - 1s 10ms/step - loss: 26.1579 - mae: 3.1732\n",
            "Epoch 105/5000\n",
            "94/94 [==============================] - 1s 10ms/step - loss: 27.1988 - mae: 3.6713\n",
            "Epoch 106/5000\n",
            "94/94 [==============================] - 1s 10ms/step - loss: 22.7662 - mae: 3.2614\n",
            "Epoch 107/5000\n",
            "94/94 [==============================] - 1s 9ms/step - loss: 21.6449 - mae: 3.1151\n",
            "Epoch 108/5000\n",
            "94/94 [==============================] - 1s 10ms/step - loss: 21.6707 - mae: 3.1340\n",
            "Epoch 109/5000\n",
            "94/94 [==============================] - 1s 10ms/step - loss: 23.8444 - mae: 3.3321\n",
            "Epoch 110/5000\n",
            "94/94 [==============================] - 1s 10ms/step - loss: 21.7109 - mae: 3.1403\n",
            "Epoch 111/5000\n",
            "94/94 [==============================] - 1s 10ms/step - loss: 21.9120 - mae: 3.1456\n",
            "Epoch 112/5000\n",
            "94/94 [==============================] - 1s 10ms/step - loss: 22.3850 - mae: 3.1942\n",
            "Epoch 113/5000\n",
            "94/94 [==============================] - 1s 10ms/step - loss: 22.1000 - mae: 3.1719\n",
            "Epoch 114/5000\n",
            "94/94 [==============================] - 1s 10ms/step - loss: 23.6282 - mae: 3.3737\n",
            "Epoch 115/5000\n",
            "94/94 [==============================] - 1s 10ms/step - loss: 21.6782 - mae: 3.1217\n",
            "Epoch 116/5000\n",
            "94/94 [==============================] - 1s 10ms/step - loss: 21.8999 - mae: 3.1287\n",
            "Epoch 117/5000\n",
            "94/94 [==============================] - 1s 10ms/step - loss: 22.8087 - mae: 3.2344\n",
            "Epoch 118/5000\n",
            "94/94 [==============================] - 1s 10ms/step - loss: 23.0818 - mae: 3.2532\n",
            "Epoch 119/5000\n",
            "94/94 [==============================] - 1s 10ms/step - loss: 22.3941 - mae: 3.2336\n",
            "Epoch 120/5000\n",
            "94/94 [==============================] - 1s 10ms/step - loss: 21.8361 - mae: 3.1321\n",
            "Epoch 121/5000\n",
            "94/94 [==============================] - 1s 10ms/step - loss: 23.1676 - mae: 3.2645\n",
            "Epoch 122/5000\n",
            "94/94 [==============================] - 1s 10ms/step - loss: 22.0471 - mae: 3.1520\n",
            "Epoch 123/5000\n",
            "94/94 [==============================] - 1s 10ms/step - loss: 22.4689 - mae: 3.2411\n",
            "Epoch 124/5000\n",
            "94/94 [==============================] - 1s 10ms/step - loss: 23.5501 - mae: 3.2241\n",
            "Epoch 125/5000\n",
            "94/94 [==============================] - 1s 10ms/step - loss: 25.5414 - mae: 3.5374\n",
            "Epoch 126/5000\n",
            "94/94 [==============================] - 1s 10ms/step - loss: 21.8194 - mae: 3.1432\n",
            "Epoch 127/5000\n",
            "94/94 [==============================] - 1s 10ms/step - loss: 21.8526 - mae: 3.1425\n",
            "Epoch 128/5000\n",
            "94/94 [==============================] - 1s 10ms/step - loss: 23.6418 - mae: 3.3297\n"
          ],
          "name": "stdout"
        }
      ]
    },
    {
      "cell_type": "code",
      "metadata": {
        "id": "icGDaND7z0ne",
        "colab_type": "code",
        "colab": {
          "base_uri": "https://localhost:8080/",
          "height": 388
        },
        "outputId": "f396d8f7-5c4c-4e0e-d0c8-4ae8c014f36d"
      },
      "source": [
        "forecast = []\n",
        "results = []\n",
        "for time in range(len(series) - window_size):\n",
        "  forecast.append(model.predict(series[time:time + window_size][np.newaxis]))\n",
        "\n",
        "forecast = forecast[split_time-window_size:]\n",
        "results = np.array(forecast)[:, 0, 0]\n",
        "\n",
        "\n",
        "plt.figure(figsize=(10, 6))\n",
        "\n",
        "plot_series(time_valid, x_valid)\n",
        "plot_series(time_valid, results)"
      ],
      "execution_count": 15,
      "outputs": [
        {
          "output_type": "display_data",
          "data": {
            "image/png": "[encoded data removed]",
            "text/plain": [
              "<Figure size 720x432 with 1 Axes>"
            ]
          },
          "metadata": {
            "tags": []
          }
        }
      ]
    },
    {
      "cell_type": "code",
      "metadata": {
        "id": "KfPeqI7rz4LD",
        "colab_type": "code",
        "outputId": "f9aa6e22-6ea3-46fc-a751-eccbc2dd55e8",
        "colab": {
          "base_uri": "https://localhost:8080/",
          "height": 34
        }
      },
      "source": [
        "tf.keras.metrics.mean_absolute_error(x_valid, results).numpy()\n",
        "\n",
        "# YOUR RESULT HERE SHOULD BE LESS THAN 4"
      ],
      "execution_count": 16,
      "outputs": [
        {
          "output_type": "execute_result",
          "data": {
            "text/plain": [
              "3.1885676"
            ]
          },
          "metadata": {
            "tags": []
          },
          "execution_count": 16
        }
      ]
    },
    {
      "cell_type": "code",
      "metadata": {
        "id": "JUsdZB_tzDLe",
        "colab_type": "code",
        "colab": {}
      },
      "source": [
        "import matplotlib.image  as mpimg\n",
        "import matplotlib.pyplot as plt\n",
        "\n",
        "#-----------------------------------------------------------\n",
        "# Retrieve a list of list results on training and test data\n",
        "# sets for each training epoch\n",
        "#-----------------------------------------------------------\n",
        "mae=history.history['mae']\n",
        "loss=history.history['loss']\n",
        "\n",
        "epochs=range(len(loss)) # Get number of epochs\n",
        "\n",
        "#------------------------------------------------\n",
        "# Plot MAE and Loss\n",
        "#------------------------------------------------\n",
        "plt.plot(epochs, mae, 'r')\n",
        "plt.plot(epochs, loss, 'b')\n",
        "plt.title('MAE and Loss')\n",
        "plt.xlabel(\"Epochs\")\n",
        "plt.ylabel(\"Accuracy\")\n",
        "plt.legend([\"MAE\", \"Loss\"])\n",
        "\n",
        "plt.figure()\n",
        "\n",
        "epochs_zoom = epochs[200:]\n",
        "mae_zoom = mae[200:]\n",
        "loss_zoom = loss[200:]\n",
        "\n",
        "#------------------------------------------------\n",
        "# Plot Zoomed MAE and Loss\n",
        "#------------------------------------------------\n",
        "plt.plot(epochs_zoom, mae_zoom, 'r')\n",
        "plt.plot(epochs_zoom, loss_zoom, 'b')\n",
        "plt.title('MAE and Loss')\n",
        "plt.xlabel(\"Epochs\")\n",
        "plt.ylabel(\"Accuracy\")\n",
        "plt.legend([\"MAE\", \"Loss\"])\n",
        "\n",
        "plt.figure()"
      ],
      "execution_count": 0,
      "outputs": []
    }
  ]
}