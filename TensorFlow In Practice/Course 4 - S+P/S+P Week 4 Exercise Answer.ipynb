{
  "nbformat": 4,
  "nbformat_minor": 0,
  "metadata": {
    "colab": {
      "name": "S+P Week 4 Exercise Answer.ipynb",
      "provenance": [],
      "collapsed_sections": [],
      "include_colab_link": true
    },
    "kernelspec": {
      "name": "python3",
      "display_name": "Python 3"
    },
    "accelerator": "GPU"
  },
  "cells": [
    {
      "cell_type": "markdown",
      "metadata": {
        "id": "view-in-github",
        "colab_type": "text"
      },
      "source": [
        "<a href=\"https://colab.research.google.com/github/JamesMcGuigan/dlaicourse/blob/master/TensorFlow%20In%20Practice/Course%204%20-%20S%2BP/S%2BP%20Week%204%20Exercise%20Answer.ipynb\" target=\"_parent\"><img src=\"https://colab.research.google.com/assets/colab-badge.svg\" alt=\"Open In Colab\"/></a>"
      ]
    },
    {
      "cell_type": "code",
      "metadata": {
        "id": "GNkzTFfynsmV",
        "colab_type": "code",
        "colab": {}
      },
      "source": [
        "# !pip install tensorflow==2.0.0b1"
      ],
      "execution_count": 0,
      "outputs": []
    },
    {
      "cell_type": "code",
      "metadata": {
        "id": "56XEQOGknrAk",
        "colab_type": "code",
        "outputId": "0cec2f32-a818-483b-db68-1b5ce189b494",
        "colab": {
          "base_uri": "https://localhost:8080/",
          "height": 34
        }
      },
      "source": [
        "import tensorflow as tf\n",
        "print(tf.__version__)"
      ],
      "execution_count": 2,
      "outputs": [
        {
          "output_type": "stream",
          "text": [
            "2.2.0-rc1\n"
          ],
          "name": "stdout"
        }
      ]
    },
    {
      "cell_type": "code",
      "metadata": {
        "id": "sLl52leVp5wU",
        "colab_type": "code",
        "colab": {}
      },
      "source": [
        "import numpy as np\n",
        "import matplotlib.pyplot as plt\n",
        "def plot_series(time, series, format=\"-\", start=0, end=None):\n",
        "    plt.plot(time[start:end], series[start:end], format)\n",
        "    plt.xlabel(\"Time\")\n",
        "    plt.ylabel(\"Value\")\n",
        "    plt.grid(True)"
      ],
      "execution_count": 0,
      "outputs": []
    },
    {
      "cell_type": "code",
      "metadata": {
        "id": "tP7oqUdkk0gY",
        "colab_type": "code",
        "colab": {
          "base_uri": "https://localhost:8080/",
          "height": 202
        },
        "outputId": "73dbf2a6-c83b-404b-d03c-905156b0a49d"
      },
      "source": [
        "!wget --no-check-certificate \\\n",
        "    https://raw.githubusercontent.com/jbrownlee/Datasets/master/daily-min-temperatures.csv \\\n",
        "    -O /tmp/daily-min-temperatures.csv"
      ],
      "execution_count": 4,
      "outputs": [
        {
          "output_type": "stream",
          "text": [
            "--2020-03-29 16:34:10--  https://raw.githubusercontent.com/jbrownlee/Datasets/master/daily-min-temperatures.csv\n",
            "Resolving raw.githubusercontent.com (raw.githubusercontent.com)... 151.101.0.133, 151.101.64.133, 151.101.128.133, ...\n",
            "Connecting to raw.githubusercontent.com (raw.githubusercontent.com)|151.101.0.133|:443... connected.\n",
            "HTTP request sent, awaiting response... 200 OK\n",
            "Length: 67921 (66K) [text/plain]\n",
            "Saving to: ‘/tmp/daily-min-temperatures.csv’\n",
            "\n",
            "\r          /tmp/dail   0%[                    ]       0  --.-KB/s               \r/tmp/daily-min-temp 100%[===================>]  66.33K  --.-KB/s    in 0.02s   \n",
            "\n",
            "2020-03-29 16:34:10 (3.14 MB/s) - ‘/tmp/daily-min-temperatures.csv’ saved [67921/67921]\n",
            "\n"
          ],
          "name": "stdout"
        }
      ]
    },
    {
      "cell_type": "code",
      "metadata": {
        "id": "NcG9r1eClbTh",
        "colab_type": "code",
        "outputId": "1fed5872-5bb0-47e3-850d-ec9a0f5e3c2a",
        "colab": {
          "base_uri": "https://localhost:8080/",
          "height": 388
        }
      },
      "source": [
        "import csv\n",
        "time_step = []\n",
        "temps = []\n",
        "\n",
        "with open('/tmp/daily-min-temperatures.csv') as csvfile:\n",
        "  reader = csv.reader(csvfile, delimiter=',')\n",
        "  next(reader)\n",
        "  step=0\n",
        "  for row in reader:\n",
        "    temps.append(float(row[1]))\n",
        "    time_step.append(step)\n",
        "    step = step + 1\n",
        "\n",
        "series = np.array(temps)\n",
        "time = np.array(time_step)\n",
        "plt.figure(figsize=(10, 6))\n",
        "plot_series(time, series)"
      ],
      "execution_count": 5,
      "outputs": [
        {
          "output_type": "display_data",
          "data": {
            "image/png": "[encoded data removed]",
            "text/plain": [
              "<Figure size 720x432 with 1 Axes>"
            ]
          },
          "metadata": {
            "tags": []
          }
        }
      ]
    },
    {
      "cell_type": "code",
      "metadata": {
        "id": "L92YRw_IpCFG",
        "colab_type": "code",
        "colab": {}
      },
      "source": [
        "split_time = 2500\n",
        "time_train = time[:split_time]\n",
        "x_train = series[:split_time]\n",
        "time_valid = time[split_time:]\n",
        "x_valid = series[split_time:]\n",
        "\n",
        "window_size = 30\n",
        "batch_size = 32\n",
        "shuffle_buffer_size = 1000\n",
        "\n"
      ],
      "execution_count": 0,
      "outputs": []
    },
    {
      "cell_type": "code",
      "metadata": {
        "id": "lJwUUZscnG38",
        "colab_type": "code",
        "colab": {}
      },
      "source": [
        "def windowed_dataset(series, window_size, batch_size, shuffle_buffer):\n",
        "    series = tf.expand_dims(series, axis=-1)\n",
        "    ds = tf.data.Dataset.from_tensor_slices(series)\n",
        "    ds = ds.window(window_size + 1, shift=1, drop_remainder=True)\n",
        "    ds = ds.flat_map(lambda w: w.batch(window_size + 1))\n",
        "    ds = ds.shuffle(shuffle_buffer)\n",
        "    ds = ds.map(lambda w: (w[:-1], w[1:]))\n",
        "    return ds.batch(batch_size).prefetch(1)"
      ],
      "execution_count": 0,
      "outputs": []
    },
    {
      "cell_type": "code",
      "metadata": {
        "id": "4XwGrf-A_wF0",
        "colab_type": "code",
        "colab": {}
      },
      "source": [
        "def model_forecast(model, series, window_size):\n",
        "    ds = tf.data.Dataset.from_tensor_slices(series)\n",
        "    ds = ds.window(window_size, shift=1, drop_remainder=True)\n",
        "    ds = ds.flat_map(lambda w: w.batch(window_size))\n",
        "    ds = ds.batch(32).prefetch(1)\n",
        "    forecast = model.predict(ds)\n",
        "    return forecast"
      ],
      "execution_count": 0,
      "outputs": []
    },
    {
      "cell_type": "code",
      "metadata": {
        "id": "AclfYY3Mn6Ph",
        "colab_type": "code",
        "outputId": "e1a45551-173b-4925-b2c0-abe3af8043b8",
        "colab": {
          "base_uri": "https://localhost:8080/",
          "height": 1000
        }
      },
      "source": [
        "tf.keras.backend.clear_session()\n",
        "tf.random.set_seed(51)\n",
        "np.random.seed(51)\n",
        "window_size = 64\n",
        "batch_size = 256\n",
        "train_set = windowed_dataset(x_train, window_size, batch_size, shuffle_buffer_size)\n",
        "print(train_set)\n",
        "print(x_train.shape)\n",
        "\n",
        "model = tf.keras.models.Sequential([\n",
        "  tf.keras.layers.Conv1D(filters=32, kernel_size=5,\n",
        "                      strides=1, padding=\"causal\",\n",
        "                      activation=\"relu\",\n",
        "                      input_shape=[None, 1]),\n",
        "  tf.keras.layers.LSTM(64, return_sequences=True),\n",
        "  tf.keras.layers.LSTM(64, return_sequences=True),\n",
        "  tf.keras.layers.Dense(30, activation=\"relu\"),\n",
        "  tf.keras.layers.Dense(10, activation=\"relu\"),\n",
        "  tf.keras.layers.Dense(1),\n",
        "  tf.keras.layers.Lambda(lambda x: x * 400)\n",
        "])\n",
        "\n",
        "lr_schedule = tf.keras.callbacks.LearningRateScheduler(\n",
        "    lambda epoch: 1e-8 * 10**(epoch / 20))\n",
        "optimizer = tf.keras.optimizers.SGD(lr=1e-8, momentum=0.9)\n",
        "model.compile(loss=tf.keras.losses.Huber(),\n",
        "              optimizer=optimizer,\n",
        "              metrics=[\"mae\"])\n",
        "history = model.fit(train_set, epochs=100, callbacks=[lr_schedule], verbose=0)\n",
        "\n",
        "\n"
      ],
      "execution_count": 9,
      "outputs": [
        {
          "output_type": "stream",
          "text": [
            "<PrefetchDataset shapes: ((None, None, 1), (None, None, 1)), types: (tf.float64, tf.float64)>\n",
            "(2500,)\n",
            "Epoch 1/100\n",
            "10/10 [==============================] - 1s 53ms/step - loss: 31.1706 - mae: 31.6550 - lr: 1.0000e-08\n",
            "Epoch 2/100\n",
            "10/10 [==============================] - 1s 54ms/step - loss: 30.5228 - mae: 31.0756 - lr: 1.1220e-08\n",
            "Epoch 3/100\n",
            "10/10 [==============================] - 1s 54ms/step - loss: 29.6681 - mae: 30.1801 - lr: 1.2589e-08\n",
            "Epoch 4/100\n",
            "10/10 [==============================] - 1s 53ms/step - loss: 28.6311 - mae: 29.0586 - lr: 1.4125e-08\n",
            "Epoch 5/100\n",
            "10/10 [==============================] - 1s 55ms/step - loss: 27.1851 - mae: 27.6945 - lr: 1.5849e-08\n",
            "Epoch 6/100\n",
            "10/10 [==============================] - 1s 54ms/step - loss: 25.5238 - mae: 25.9986 - lr: 1.7783e-08\n",
            "Epoch 7/100\n",
            "10/10 [==============================] - 1s 55ms/step - loss: 23.2871 - mae: 23.8429 - lr: 1.9953e-08\n",
            "Epoch 8/100\n",
            "10/10 [==============================] - 1s 53ms/step - loss: 20.5082 - mae: 21.1108 - lr: 2.2387e-08\n",
            "Epoch 9/100\n",
            "10/10 [==============================] - 1s 56ms/step - loss: 17.1935 - mae: 17.8091 - lr: 2.5119e-08\n",
            "Epoch 10/100\n",
            "10/10 [==============================] - 1s 57ms/step - loss: 13.4642 - mae: 14.1371 - lr: 2.8184e-08\n",
            "Epoch 11/100\n",
            "10/10 [==============================] - 1s 54ms/step - loss: 10.0364 - mae: 10.6152 - lr: 3.1623e-08\n",
            "Epoch 12/100\n",
            "10/10 [==============================] - 1s 57ms/step - loss: 7.5764 - mae: 8.1025 - lr: 3.5481e-08\n",
            "Epoch 13/100\n",
            "10/10 [==============================] - 1s 57ms/step - loss: 6.2482 - mae: 6.7711 - lr: 3.9811e-08\n",
            "Epoch 14/100\n",
            "10/10 [==============================] - 1s 56ms/step - loss: 5.6777 - mae: 6.1856 - lr: 4.4668e-08\n",
            "Epoch 15/100\n",
            "10/10 [==============================] - 1s 55ms/step - loss: 5.3116 - mae: 5.8166 - lr: 5.0119e-08\n",
            "Epoch 16/100\n",
            "10/10 [==============================] - 1s 60ms/step - loss: 4.9275 - mae: 5.4206 - lr: 5.6234e-08\n",
            "Epoch 17/100\n",
            "10/10 [==============================] - 1s 55ms/step - loss: 4.5450 - mae: 5.0338 - lr: 6.3096e-08\n",
            "Epoch 18/100\n",
            "10/10 [==============================] - 1s 58ms/step - loss: 4.2185 - mae: 4.7085 - lr: 7.0795e-08\n",
            "Epoch 19/100\n",
            "10/10 [==============================] - 1s 55ms/step - loss: 3.9399 - mae: 4.4360 - lr: 7.9433e-08\n",
            "Epoch 20/100\n",
            "10/10 [==============================] - 1s 55ms/step - loss: 3.7303 - mae: 4.2177 - lr: 8.9125e-08\n",
            "Epoch 21/100\n",
            "10/10 [==============================] - 1s 56ms/step - loss: 3.5704 - mae: 4.0566 - lr: 1.0000e-07\n",
            "Epoch 22/100\n",
            "10/10 [==============================] - 1s 56ms/step - loss: 3.4603 - mae: 3.9344 - lr: 1.1220e-07\n",
            "Epoch 23/100\n",
            "10/10 [==============================] - 1s 55ms/step - loss: 3.3656 - mae: 3.8414 - lr: 1.2589e-07\n",
            "Epoch 24/100\n",
            "10/10 [==============================] - 1s 52ms/step - loss: 3.2869 - mae: 3.7645 - lr: 1.4125e-07\n",
            "Epoch 25/100\n",
            "10/10 [==============================] - 1s 55ms/step - loss: 3.2232 - mae: 3.6978 - lr: 1.5849e-07\n",
            "Epoch 26/100\n",
            "10/10 [==============================] - 1s 55ms/step - loss: 3.1540 - mae: 3.6346 - lr: 1.7783e-07\n",
            "Epoch 27/100\n",
            "10/10 [==============================] - 1s 54ms/step - loss: 3.1000 - mae: 3.5693 - lr: 1.9953e-07\n",
            "Epoch 28/100\n",
            "10/10 [==============================] - 1s 56ms/step - loss: 3.0355 - mae: 3.5053 - lr: 2.2387e-07\n",
            "Epoch 29/100\n",
            "10/10 [==============================] - 1s 55ms/step - loss: 2.9662 - mae: 3.4379 - lr: 2.5119e-07\n",
            "Epoch 30/100\n",
            "10/10 [==============================] - 1s 55ms/step - loss: 2.9018 - mae: 3.3712 - lr: 2.8184e-07\n",
            "Epoch 31/100\n",
            "10/10 [==============================] - 1s 53ms/step - loss: 2.8406 - mae: 3.3098 - lr: 3.1623e-07\n",
            "Epoch 32/100\n",
            "10/10 [==============================] - 1s 55ms/step - loss: 2.7815 - mae: 3.2479 - lr: 3.5481e-07\n",
            "Epoch 33/100\n",
            "10/10 [==============================] - 1s 56ms/step - loss: 2.7205 - mae: 3.1891 - lr: 3.9811e-07\n",
            "Epoch 34/100\n",
            "10/10 [==============================] - 1s 55ms/step - loss: 2.6695 - mae: 3.1379 - lr: 4.4668e-07\n",
            "Epoch 35/100\n",
            "10/10 [==============================] - 1s 56ms/step - loss: 2.6166 - mae: 3.0849 - lr: 5.0119e-07\n",
            "Epoch 36/100\n",
            "10/10 [==============================] - 1s 55ms/step - loss: 2.5696 - mae: 3.0357 - lr: 5.6234e-07\n",
            "Epoch 37/100\n",
            "10/10 [==============================] - 1s 54ms/step - loss: 2.5223 - mae: 2.9877 - lr: 6.3096e-07\n",
            "Epoch 38/100\n",
            "10/10 [==============================] - 1s 54ms/step - loss: 2.4715 - mae: 2.9415 - lr: 7.0795e-07\n",
            "Epoch 39/100\n",
            "10/10 [==============================] - 1s 51ms/step - loss: 2.4295 - mae: 2.8968 - lr: 7.9433e-07\n",
            "Epoch 40/100\n",
            "10/10 [==============================] - 1s 54ms/step - loss: 2.3863 - mae: 2.8541 - lr: 8.9125e-07\n",
            "Epoch 41/100\n",
            "10/10 [==============================] - 1s 57ms/step - loss: 2.3447 - mae: 2.8124 - lr: 1.0000e-06\n",
            "Epoch 42/100\n",
            "10/10 [==============================] - 1s 54ms/step - loss: 2.3051 - mae: 2.7718 - lr: 1.1220e-06\n",
            "Epoch 43/100\n",
            "10/10 [==============================] - 1s 53ms/step - loss: 2.2710 - mae: 2.7315 - lr: 1.2589e-06\n",
            "Epoch 44/100\n",
            "10/10 [==============================] - 1s 55ms/step - loss: 2.2294 - mae: 2.6913 - lr: 1.4125e-06\n",
            "Epoch 45/100\n",
            "10/10 [==============================] - 1s 55ms/step - loss: 2.1910 - mae: 2.6523 - lr: 1.5849e-06\n",
            "Epoch 46/100\n",
            "10/10 [==============================] - 1s 56ms/step - loss: 2.1624 - mae: 2.6190 - lr: 1.7783e-06\n",
            "Epoch 47/100\n",
            "10/10 [==============================] - 1s 56ms/step - loss: 2.1291 - mae: 2.5877 - lr: 1.9953e-06\n",
            "Epoch 48/100\n",
            "10/10 [==============================] - 1s 62ms/step - loss: 2.0990 - mae: 2.5607 - lr: 2.2387e-06\n",
            "Epoch 49/100\n",
            "10/10 [==============================] - 1s 55ms/step - loss: 2.0698 - mae: 2.5300 - lr: 2.5119e-06\n",
            "Epoch 50/100\n",
            "10/10 [==============================] - 1s 58ms/step - loss: 2.0455 - mae: 2.5040 - lr: 2.8184e-06\n",
            "Epoch 51/100\n",
            "10/10 [==============================] - 1s 55ms/step - loss: 2.0226 - mae: 2.4818 - lr: 3.1623e-06\n",
            "Epoch 52/100\n",
            "10/10 [==============================] - 1s 56ms/step - loss: 2.0002 - mae: 2.4598 - lr: 3.5481e-06\n",
            "Epoch 53/100\n",
            "10/10 [==============================] - 1s 52ms/step - loss: 1.9872 - mae: 2.4444 - lr: 3.9811e-06\n",
            "Epoch 54/100\n",
            "10/10 [==============================] - 1s 58ms/step - loss: 1.9620 - mae: 2.4193 - lr: 4.4668e-06\n",
            "Epoch 55/100\n",
            "10/10 [==============================] - 1s 60ms/step - loss: 1.9474 - mae: 2.4008 - lr: 5.0119e-06\n",
            "Epoch 56/100\n",
            "10/10 [==============================] - 1s 57ms/step - loss: 1.9220 - mae: 2.3784 - lr: 5.6234e-06\n",
            "Epoch 57/100\n",
            "10/10 [==============================] - 1s 58ms/step - loss: 1.9025 - mae: 2.3620 - lr: 6.3096e-06\n",
            "Epoch 58/100\n",
            "10/10 [==============================] - 1s 59ms/step - loss: 1.8872 - mae: 2.3394 - lr: 7.0795e-06\n",
            "Epoch 59/100\n",
            "10/10 [==============================] - 1s 59ms/step - loss: 1.8567 - mae: 2.3120 - lr: 7.9433e-06\n",
            "Epoch 60/100\n",
            "10/10 [==============================] - 1s 53ms/step - loss: 2.1803 - mae: 2.6553 - lr: 8.9125e-06\n",
            "Epoch 61/100\n",
            "10/10 [==============================] - 1s 56ms/step - loss: 2.6795 - mae: 3.1549 - lr: 1.0000e-05\n",
            "Epoch 62/100\n",
            "10/10 [==============================] - 1s 53ms/step - loss: 3.0777 - mae: 3.5613 - lr: 1.1220e-05\n",
            "Epoch 63/100\n",
            "10/10 [==============================] - 1s 56ms/step - loss: 3.5632 - mae: 3.9957 - lr: 1.2589e-05\n",
            "Epoch 64/100\n",
            "10/10 [==============================] - 1s 59ms/step - loss: 3.6597 - mae: 4.1374 - lr: 1.4125e-05\n",
            "Epoch 65/100\n",
            "10/10 [==============================] - 1s 55ms/step - loss: 4.1851 - mae: 4.6941 - lr: 1.5849e-05\n",
            "Epoch 66/100\n",
            "10/10 [==============================] - 1s 56ms/step - loss: 4.3608 - mae: 4.8697 - lr: 1.7783e-05\n",
            "Epoch 67/100\n",
            "10/10 [==============================] - 1s 54ms/step - loss: 4.6191 - mae: 5.1192 - lr: 1.9953e-05\n",
            "Epoch 68/100\n",
            "10/10 [==============================] - 1s 54ms/step - loss: 4.6700 - mae: 5.1877 - lr: 2.2387e-05\n",
            "Epoch 69/100\n",
            "10/10 [==============================] - 1s 53ms/step - loss: 4.8795 - mae: 5.4751 - lr: 2.5119e-05\n",
            "Epoch 70/100\n",
            "10/10 [==============================] - 1s 55ms/step - loss: 5.1892 - mae: 5.7697 - lr: 2.8184e-05\n",
            "Epoch 71/100\n",
            "10/10 [==============================] - 1s 58ms/step - loss: 13.6700 - mae: 14.0128 - lr: 3.1623e-05\n",
            "Epoch 72/100\n",
            "10/10 [==============================] - 1s 57ms/step - loss: 10.5961 - mae: 10.9517 - lr: 3.5481e-05\n",
            "Epoch 73/100\n",
            "10/10 [==============================] - 1s 55ms/step - loss: 8.3475 - mae: 8.7942 - lr: 3.9811e-05\n",
            "Epoch 74/100\n",
            "10/10 [==============================] - 1s 54ms/step - loss: 4.4939 - mae: 5.0648 - lr: 4.4668e-05\n",
            "Epoch 75/100\n",
            "10/10 [==============================] - 1s 56ms/step - loss: 3.2968 - mae: 3.7983 - lr: 5.0119e-05\n",
            "Epoch 76/100\n",
            "10/10 [==============================] - 1s 58ms/step - loss: 3.1939 - mae: 3.6737 - lr: 5.6234e-05\n",
            "Epoch 77/100\n",
            "10/10 [==============================] - 1s 59ms/step - loss: 2.8494 - mae: 3.3141 - lr: 6.3096e-05\n",
            "Epoch 78/100\n",
            "10/10 [==============================] - 1s 54ms/step - loss: 2.7697 - mae: 3.2264 - lr: 7.0795e-05\n",
            "Epoch 79/100\n",
            "10/10 [==============================] - 1s 58ms/step - loss: 2.7681 - mae: 3.2286 - lr: 7.9433e-05\n",
            "Epoch 80/100\n",
            "10/10 [==============================] - 1s 56ms/step - loss: 2.5423 - mae: 3.0020 - lr: 8.9125e-05\n",
            "Epoch 81/100\n",
            "10/10 [==============================] - 1s 54ms/step - loss: 3.0130 - mae: 3.4675 - lr: 1.0000e-04\n",
            "Epoch 82/100\n",
            "10/10 [==============================] - 1s 54ms/step - loss: 3.8266 - mae: 4.3194 - lr: 1.1220e-04\n",
            "Epoch 83/100\n",
            "10/10 [==============================] - 1s 57ms/step - loss: 4.4798 - mae: 4.9227 - lr: 1.2589e-04\n",
            "Epoch 84/100\n",
            "10/10 [==============================] - 1s 58ms/step - loss: 5.1637 - mae: 5.6826 - lr: 1.4125e-04\n",
            "Epoch 85/100\n",
            "10/10 [==============================] - 1s 55ms/step - loss: 5.7567 - mae: 6.2728 - lr: 1.5849e-04\n",
            "Epoch 86/100\n",
            "10/10 [==============================] - 1s 55ms/step - loss: 6.2933 - mae: 6.8277 - lr: 1.7783e-04\n",
            "Epoch 87/100\n",
            "10/10 [==============================] - 1s 54ms/step - loss: 8.0151 - mae: 8.3896 - lr: 1.9953e-04\n",
            "Epoch 88/100\n",
            "10/10 [==============================] - 1s 52ms/step - loss: 18.6107 - mae: 17.2705 - lr: 2.2387e-04\n",
            "Epoch 89/100\n",
            "10/10 [==============================] - 1s 54ms/step - loss: 39.7706 - mae: 40.3356 - lr: 2.5119e-04\n",
            "Epoch 90/100\n",
            "10/10 [==============================] - 1s 54ms/step - loss: 40.8228 - mae: 42.1854 - lr: 2.8184e-04\n",
            "Epoch 91/100\n",
            "10/10 [==============================] - 1s 56ms/step - loss: 41.9096 - mae: 43.0369 - lr: 3.1623e-04\n",
            "Epoch 92/100\n",
            "10/10 [==============================] - 1s 58ms/step - loss: 75.1346 - mae: 71.0601 - lr: 3.5481e-04\n",
            "Epoch 93/100\n",
            "10/10 [==============================] - 1s 57ms/step - loss: 57.1738 - mae: 57.3156 - lr: 3.9811e-04\n",
            "Epoch 94/100\n",
            "10/10 [==============================] - 1s 54ms/step - loss: 34.0768 - mae: 33.8926 - lr: 4.4668e-04\n",
            "Epoch 95/100\n",
            "10/10 [==============================] - 1s 55ms/step - loss: 58.1723 - mae: 57.2977 - lr: 5.0119e-04\n",
            "Epoch 96/100\n",
            "10/10 [==============================] - 1s 60ms/step - loss: 86.2486 - mae: 87.3321 - lr: 5.6234e-04\n",
            "Epoch 97/100\n",
            "10/10 [==============================] - 1s 56ms/step - loss: 98.9369 - mae: 99.8034 - lr: 6.3096e-04\n",
            "Epoch 98/100\n",
            "10/10 [==============================] - 1s 56ms/step - loss: 160.7167 - mae: 154.4128 - lr: 7.0795e-04\n",
            "Epoch 99/100\n",
            "10/10 [==============================] - 1s 58ms/step - loss: 77.1061 - mae: 80.9973 - lr: 7.9433e-04\n",
            "Epoch 100/100\n",
            "10/10 [==============================] - 1s 55ms/step - loss: 37.5624 - mae: 38.7731 - lr: 8.9125e-04\n"
          ],
          "name": "stdout"
        }
      ]
    },
    {
      "cell_type": "code",
      "metadata": {
        "id": "vVcKmg7Q_7rD",
        "colab_type": "code",
        "outputId": "0310962f-9c84-47d0-99b7-7494d41a204d",
        "colab": {
          "base_uri": "https://localhost:8080/",
          "height": 290
        }
      },
      "source": [
        "plt.semilogx(history.history[\"lr\"], history.history[\"loss\"])\n",
        "plt.axis([1e-8, 1e-4, 0, 60])"
      ],
      "execution_count": 10,
      "outputs": [
        {
          "output_type": "execute_result",
          "data": {
            "text/plain": [
              "(1e-08, 0.0001, 0.0, 60.0)"
            ]
          },
          "metadata": {
            "tags": []
          },
          "execution_count": 10
        },
        {
          "output_type": "display_data",
          "data": {
            "image/png": "[encoded data removed]",
            "text/plain": [
              "<Figure size 432x288 with 1 Axes>"
            ]
          },
          "metadata": {
            "tags": []
          }
        }
      ]
    },
    {
      "cell_type": "code",
      "metadata": {
        "id": "QsksvkcXAAgq",
        "colab_type": "code",
        "outputId": "903b805d-bab6-4f8c-9232-83caa711c07e",
        "colab": {
          "base_uri": "https://localhost:8080/",
          "height": 1000
        }
      },
      "source": [
        "tf.keras.backend.clear_session()\n",
        "tf.random.set_seed(51)\n",
        "np.random.seed(51)\n",
        "train_set = windowed_dataset(x_train, window_size=60, batch_size=100, shuffle_buffer=shuffle_buffer_size)\n",
        "model = tf.keras.models.Sequential([\n",
        "  tf.keras.layers.Conv1D(filters=60, kernel_size=5,\n",
        "                      strides=1, padding=\"causal\",\n",
        "                      activation=\"relu\",\n",
        "                      input_shape=[None, 1]),\n",
        "  tf.keras.layers.LSTM(60, return_sequences=True),\n",
        "  tf.keras.layers.LSTM(60, return_sequences=True),\n",
        "  tf.keras.layers.Dense(30, activation=\"relu\"),\n",
        "  tf.keras.layers.Dense(10, activation=\"relu\"),\n",
        "  tf.keras.layers.Dense(1),\n",
        "  tf.keras.layers.Lambda(lambda x: x * 400)\n",
        "])\n",
        "\n",
        "\n",
        "optimizer = tf.keras.optimizers.SGD(lr=1e-5, momentum=0.9)\n",
        "model.compile(loss=tf.keras.losses.Huber(),\n",
        "              optimizer=optimizer,\n",
        "              metrics=[\"mae\"])\n",
        "history = model.fit(train_set,epochs=150)"
      ],
      "execution_count": 11,
      "outputs": [
        {
          "output_type": "stream",
          "text": [
            "Epoch 1/150\n",
            "25/25 [==============================] - 1s 33ms/step - loss: 9.8211 - mae: 10.4694\n",
            "Epoch 2/150\n",
            "25/25 [==============================] - 1s 34ms/step - loss: 2.5191 - mae: 2.9923\n",
            "Epoch 3/150\n",
            "25/25 [==============================] - 1s 36ms/step - loss: 1.9513 - mae: 2.4047\n",
            "Epoch 4/150\n",
            "25/25 [==============================] - 1s 33ms/step - loss: 1.8610 - mae: 2.3151\n",
            "Epoch 5/150\n",
            "25/25 [==============================] - 1s 34ms/step - loss: 1.8209 - mae: 2.2733\n",
            "Epoch 6/150\n",
            "25/25 [==============================] - 1s 35ms/step - loss: 1.7905 - mae: 2.2418\n",
            "Epoch 7/150\n",
            "25/25 [==============================] - 1s 35ms/step - loss: 1.7667 - mae: 2.2186\n",
            "Epoch 8/150\n",
            "25/25 [==============================] - 1s 33ms/step - loss: 1.7387 - mae: 2.1906\n",
            "Epoch 9/150\n",
            "25/25 [==============================] - 1s 33ms/step - loss: 1.7173 - mae: 2.1681\n",
            "Epoch 10/150\n",
            "25/25 [==============================] - 1s 33ms/step - loss: 1.6987 - mae: 2.1482\n",
            "Epoch 11/150\n",
            "25/25 [==============================] - 1s 33ms/step - loss: 1.6815 - mae: 2.1287\n",
            "Epoch 12/150\n",
            "25/25 [==============================] - 1s 32ms/step - loss: 1.6685 - mae: 2.1159\n",
            "Epoch 13/150\n",
            "25/25 [==============================] - 1s 33ms/step - loss: 1.6576 - mae: 2.1030\n",
            "Epoch 14/150\n",
            "25/25 [==============================] - 1s 33ms/step - loss: 1.6430 - mae: 2.0891\n",
            "Epoch 15/150\n",
            "25/25 [==============================] - 1s 33ms/step - loss: 1.6353 - mae: 2.0803\n",
            "Epoch 16/150\n",
            "25/25 [==============================] - 1s 33ms/step - loss: 1.6261 - mae: 2.0710\n",
            "Epoch 17/150\n",
            "25/25 [==============================] - 1s 34ms/step - loss: 1.6115 - mae: 2.0581\n",
            "Epoch 18/150\n",
            "25/25 [==============================] - 1s 34ms/step - loss: 1.6095 - mae: 2.0553\n",
            "Epoch 19/150\n",
            "25/25 [==============================] - 1s 33ms/step - loss: 1.5999 - mae: 2.0444\n",
            "Epoch 20/150\n",
            "25/25 [==============================] - 1s 33ms/step - loss: 1.5926 - mae: 2.0365\n",
            "Epoch 21/150\n",
            "25/25 [==============================] - 1s 33ms/step - loss: 1.5908 - mae: 2.0348\n",
            "Epoch 22/150\n",
            "25/25 [==============================] - 1s 32ms/step - loss: 1.5844 - mae: 2.0276\n",
            "Epoch 23/150\n",
            "25/25 [==============================] - 1s 32ms/step - loss: 1.5807 - mae: 2.0232\n",
            "Epoch 24/150\n",
            "25/25 [==============================] - 1s 34ms/step - loss: 1.5768 - mae: 2.0222\n",
            "Epoch 25/150\n",
            "25/25 [==============================] - 1s 34ms/step - loss: 1.5698 - mae: 2.0120\n",
            "Epoch 26/150\n",
            "25/25 [==============================] - 1s 33ms/step - loss: 1.5637 - mae: 2.0085\n",
            "Epoch 27/150\n",
            "25/25 [==============================] - 1s 33ms/step - loss: 1.5641 - mae: 2.0057\n",
            "Epoch 28/150\n",
            "25/25 [==============================] - 1s 34ms/step - loss: 1.5579 - mae: 2.0014\n",
            "Epoch 29/150\n",
            "25/25 [==============================] - 1s 32ms/step - loss: 1.5549 - mae: 1.9991\n",
            "Epoch 30/150\n",
            "25/25 [==============================] - 1s 33ms/step - loss: 1.5540 - mae: 1.9972\n",
            "Epoch 31/150\n",
            "25/25 [==============================] - 1s 34ms/step - loss: 1.5538 - mae: 1.9967\n",
            "Epoch 32/150\n",
            "25/25 [==============================] - 1s 33ms/step - loss: 1.5524 - mae: 1.9937\n",
            "Epoch 33/150\n",
            "25/25 [==============================] - 1s 33ms/step - loss: 1.5457 - mae: 1.9897\n",
            "Epoch 34/150\n",
            "25/25 [==============================] - 1s 32ms/step - loss: 1.5513 - mae: 1.9939\n",
            "Epoch 35/150\n",
            "25/25 [==============================] - 1s 34ms/step - loss: 1.5474 - mae: 1.9909\n",
            "Epoch 36/150\n",
            "25/25 [==============================] - 1s 35ms/step - loss: 1.5412 - mae: 1.9846\n",
            "Epoch 37/150\n",
            "25/25 [==============================] - 1s 35ms/step - loss: 1.5417 - mae: 1.9836\n",
            "Epoch 38/150\n",
            "25/25 [==============================] - 1s 33ms/step - loss: 1.5404 - mae: 1.9816\n",
            "Epoch 39/150\n",
            "25/25 [==============================] - 1s 33ms/step - loss: 1.5388 - mae: 1.9822\n",
            "Epoch 40/150\n",
            "25/25 [==============================] - 1s 32ms/step - loss: 1.5403 - mae: 1.9829\n",
            "Epoch 41/150\n",
            "25/25 [==============================] - 1s 33ms/step - loss: 1.5337 - mae: 1.9769\n",
            "Epoch 42/150\n",
            "25/25 [==============================] - 1s 32ms/step - loss: 1.5355 - mae: 1.9770\n",
            "Epoch 43/150\n",
            "25/25 [==============================] - 1s 33ms/step - loss: 1.5336 - mae: 1.9768\n",
            "Epoch 44/150\n",
            "25/25 [==============================] - 1s 33ms/step - loss: 1.5366 - mae: 1.9780\n",
            "Epoch 45/150\n",
            "25/25 [==============================] - 1s 32ms/step - loss: 1.5292 - mae: 1.9723\n",
            "Epoch 46/150\n",
            "25/25 [==============================] - 1s 34ms/step - loss: 1.5328 - mae: 1.9748\n",
            "Epoch 47/150\n",
            "25/25 [==============================] - 1s 33ms/step - loss: 1.5282 - mae: 1.9699\n",
            "Epoch 48/150\n",
            "25/25 [==============================] - 1s 33ms/step - loss: 1.5311 - mae: 1.9730\n",
            "Epoch 49/150\n",
            "25/25 [==============================] - 1s 34ms/step - loss: 1.5290 - mae: 1.9724\n",
            "Epoch 50/150\n",
            "25/25 [==============================] - 1s 33ms/step - loss: 1.5247 - mae: 1.9678\n",
            "Epoch 51/150\n",
            "25/25 [==============================] - 1s 35ms/step - loss: 1.5281 - mae: 1.9708\n",
            "Epoch 52/150\n",
            "25/25 [==============================] - 1s 34ms/step - loss: 1.5263 - mae: 1.9692\n",
            "Epoch 53/150\n",
            "25/25 [==============================] - 1s 33ms/step - loss: 1.5287 - mae: 1.9708\n",
            "Epoch 54/150\n",
            "25/25 [==============================] - 1s 32ms/step - loss: 1.5250 - mae: 1.9656\n",
            "Epoch 55/150\n",
            "25/25 [==============================] - 1s 32ms/step - loss: 1.5232 - mae: 1.9654\n",
            "Epoch 56/150\n",
            "25/25 [==============================] - 1s 33ms/step - loss: 1.5211 - mae: 1.9629\n",
            "Epoch 57/150\n",
            "25/25 [==============================] - 1s 33ms/step - loss: 1.5191 - mae: 1.9634\n",
            "Epoch 58/150\n",
            "25/25 [==============================] - 1s 33ms/step - loss: 1.5340 - mae: 1.9776\n",
            "Epoch 59/150\n",
            "25/25 [==============================] - 1s 33ms/step - loss: 1.5233 - mae: 1.9669\n",
            "Epoch 60/150\n",
            "25/25 [==============================] - 1s 33ms/step - loss: 1.5237 - mae: 1.9638\n",
            "Epoch 61/150\n",
            "25/25 [==============================] - 1s 32ms/step - loss: 1.5177 - mae: 1.9600\n",
            "Epoch 62/150\n",
            "25/25 [==============================] - 1s 34ms/step - loss: 1.5201 - mae: 1.9612\n",
            "Epoch 63/150\n",
            "25/25 [==============================] - 1s 33ms/step - loss: 1.5145 - mae: 1.9584\n",
            "Epoch 64/150\n",
            "25/25 [==============================] - 1s 33ms/step - loss: 1.5180 - mae: 1.9589\n",
            "Epoch 65/150\n",
            "25/25 [==============================] - 1s 33ms/step - loss: 1.5152 - mae: 1.9581\n",
            "Epoch 66/150\n",
            "25/25 [==============================] - 1s 33ms/step - loss: 1.5176 - mae: 1.9585\n",
            "Epoch 67/150\n",
            "25/25 [==============================] - 1s 33ms/step - loss: 1.5227 - mae: 1.9635\n",
            "Epoch 68/150\n",
            "25/25 [==============================] - 1s 34ms/step - loss: 1.5158 - mae: 1.9579\n",
            "Epoch 69/150\n",
            "25/25 [==============================] - 1s 33ms/step - loss: 1.5119 - mae: 1.9561\n",
            "Epoch 70/150\n",
            "25/25 [==============================] - 1s 33ms/step - loss: 1.5140 - mae: 1.9559\n",
            "Epoch 71/150\n",
            "25/25 [==============================] - 1s 34ms/step - loss: 1.5121 - mae: 1.9542\n",
            "Epoch 72/150\n",
            "25/25 [==============================] - 1s 34ms/step - loss: 1.5133 - mae: 1.9537\n",
            "Epoch 73/150\n",
            "25/25 [==============================] - 1s 35ms/step - loss: 1.5139 - mae: 1.9569\n",
            "Epoch 74/150\n",
            "25/25 [==============================] - 1s 34ms/step - loss: 1.5125 - mae: 1.9527\n",
            "Epoch 75/150\n",
            "25/25 [==============================] - 1s 34ms/step - loss: 1.5114 - mae: 1.9542\n",
            "Epoch 76/150\n",
            "25/25 [==============================] - 1s 33ms/step - loss: 1.5116 - mae: 1.9527\n",
            "Epoch 77/150\n",
            "25/25 [==============================] - 1s 32ms/step - loss: 1.5096 - mae: 1.9520\n",
            "Epoch 78/150\n",
            "25/25 [==============================] - 1s 32ms/step - loss: 1.5137 - mae: 1.9559\n",
            "Epoch 79/150\n",
            "25/25 [==============================] - 1s 33ms/step - loss: 1.5082 - mae: 1.9505\n",
            "Epoch 80/150\n",
            "25/25 [==============================] - 1s 32ms/step - loss: 1.5103 - mae: 1.9520\n",
            "Epoch 81/150\n",
            "25/25 [==============================] - 1s 33ms/step - loss: 1.5143 - mae: 1.9565\n",
            "Epoch 82/150\n",
            "25/25 [==============================] - 1s 33ms/step - loss: 1.5063 - mae: 1.9490\n",
            "Epoch 83/150\n",
            "25/25 [==============================] - 1s 35ms/step - loss: 1.5078 - mae: 1.9494\n",
            "Epoch 84/150\n",
            "25/25 [==============================] - 1s 32ms/step - loss: 1.5068 - mae: 1.9501\n",
            "Epoch 85/150\n",
            "25/25 [==============================] - 1s 33ms/step - loss: 1.5061 - mae: 1.9484\n",
            "Epoch 86/150\n",
            "25/25 [==============================] - 1s 33ms/step - loss: 1.5057 - mae: 1.9475\n",
            "Epoch 87/150\n",
            "25/25 [==============================] - 1s 35ms/step - loss: 1.5075 - mae: 1.9489\n",
            "Epoch 88/150\n",
            "25/25 [==============================] - 1s 35ms/step - loss: 1.5035 - mae: 1.9467\n",
            "Epoch 89/150\n",
            "25/25 [==============================] - 1s 34ms/step - loss: 1.5054 - mae: 1.9463\n",
            "Epoch 90/150\n",
            "25/25 [==============================] - 1s 35ms/step - loss: 1.5052 - mae: 1.9479\n",
            "Epoch 91/150\n",
            "25/25 [==============================] - 1s 35ms/step - loss: 1.5045 - mae: 1.9468\n",
            "Epoch 92/150\n",
            "25/25 [==============================] - 1s 33ms/step - loss: 1.5034 - mae: 1.9459\n",
            "Epoch 93/150\n",
            "25/25 [==============================] - 1s 33ms/step - loss: 1.5025 - mae: 1.9445\n",
            "Epoch 94/150\n",
            "25/25 [==============================] - 1s 33ms/step - loss: 1.5010 - mae: 1.9437\n",
            "Epoch 95/150\n",
            "25/25 [==============================] - 1s 33ms/step - loss: 1.5092 - mae: 1.9529\n",
            "Epoch 96/150\n",
            "25/25 [==============================] - 1s 33ms/step - loss: 1.5012 - mae: 1.9448\n",
            "Epoch 97/150\n",
            "25/25 [==============================] - 1s 33ms/step - loss: 1.5042 - mae: 1.9469\n",
            "Epoch 98/150\n",
            "25/25 [==============================] - 1s 34ms/step - loss: 1.5051 - mae: 1.9469\n",
            "Epoch 99/150\n",
            "25/25 [==============================] - 1s 33ms/step - loss: 1.5012 - mae: 1.9426\n",
            "Epoch 100/150\n",
            "25/25 [==============================] - 1s 32ms/step - loss: 1.4997 - mae: 1.9425\n",
            "Epoch 101/150\n",
            "25/25 [==============================] - 1s 32ms/step - loss: 1.5004 - mae: 1.9427\n",
            "Epoch 102/150\n",
            "25/25 [==============================] - 1s 33ms/step - loss: 1.4979 - mae: 1.9410\n",
            "Epoch 103/150\n",
            "25/25 [==============================] - 1s 33ms/step - loss: 1.4986 - mae: 1.9412\n",
            "Epoch 104/150\n",
            "25/25 [==============================] - 1s 32ms/step - loss: 1.4993 - mae: 1.9418\n",
            "Epoch 105/150\n",
            "25/25 [==============================] - 1s 33ms/step - loss: 1.4987 - mae: 1.9410\n",
            "Epoch 106/150\n",
            "25/25 [==============================] - 1s 35ms/step - loss: 1.4996 - mae: 1.9411\n",
            "Epoch 107/150\n",
            "25/25 [==============================] - 1s 32ms/step - loss: 1.5003 - mae: 1.9430\n",
            "Epoch 108/150\n",
            "25/25 [==============================] - 1s 34ms/step - loss: 1.5015 - mae: 1.9414\n",
            "Epoch 109/150\n",
            "25/25 [==============================] - 1s 32ms/step - loss: 1.4990 - mae: 1.9413\n",
            "Epoch 110/150\n",
            "25/25 [==============================] - 1s 32ms/step - loss: 1.5006 - mae: 1.9427\n",
            "Epoch 111/150\n",
            "25/25 [==============================] - 1s 34ms/step - loss: 1.4968 - mae: 1.9401\n",
            "Epoch 112/150\n",
            "25/25 [==============================] - 1s 34ms/step - loss: 1.4972 - mae: 1.9388\n",
            "Epoch 113/150\n",
            "25/25 [==============================] - 1s 34ms/step - loss: 1.4967 - mae: 1.9378\n",
            "Epoch 114/150\n",
            "25/25 [==============================] - 1s 32ms/step - loss: 1.4955 - mae: 1.9380\n",
            "Epoch 115/150\n",
            "25/25 [==============================] - 1s 33ms/step - loss: 1.4941 - mae: 1.9377\n",
            "Epoch 116/150\n",
            "25/25 [==============================] - 1s 33ms/step - loss: 1.4978 - mae: 1.9391\n",
            "Epoch 117/150\n",
            "25/25 [==============================] - 1s 33ms/step - loss: 1.4982 - mae: 1.9377\n",
            "Epoch 118/150\n",
            "25/25 [==============================] - 1s 33ms/step - loss: 1.4965 - mae: 1.9383\n",
            "Epoch 119/150\n",
            "25/25 [==============================] - 1s 33ms/step - loss: 1.4951 - mae: 1.9370\n",
            "Epoch 120/150\n",
            "25/25 [==============================] - 1s 34ms/step - loss: 1.4952 - mae: 1.9381\n",
            "Epoch 121/150\n",
            "25/25 [==============================] - 1s 33ms/step - loss: 1.5003 - mae: 1.9426\n",
            "Epoch 122/150\n",
            "25/25 [==============================] - 1s 33ms/step - loss: 1.4956 - mae: 1.9375\n",
            "Epoch 123/150\n",
            "25/25 [==============================] - 1s 33ms/step - loss: 1.5006 - mae: 1.9424\n",
            "Epoch 124/150\n",
            "25/25 [==============================] - 1s 33ms/step - loss: 1.4941 - mae: 1.9369\n",
            "Epoch 125/150\n",
            "25/25 [==============================] - 1s 33ms/step - loss: 1.4950 - mae: 1.9366\n",
            "Epoch 126/150\n",
            "25/25 [==============================] - 1s 33ms/step - loss: 1.4938 - mae: 1.9359\n",
            "Epoch 127/150\n",
            "25/25 [==============================] - 1s 34ms/step - loss: 1.4936 - mae: 1.9353\n",
            "Epoch 128/150\n",
            "25/25 [==============================] - 1s 33ms/step - loss: 1.4932 - mae: 1.9349\n",
            "Epoch 129/150\n",
            "25/25 [==============================] - 1s 33ms/step - loss: 1.4938 - mae: 1.9336\n",
            "Epoch 130/150\n",
            "25/25 [==============================] - 1s 33ms/step - loss: 1.4964 - mae: 1.9373\n",
            "Epoch 131/150\n",
            "25/25 [==============================] - 1s 32ms/step - loss: 1.4919 - mae: 1.9335\n",
            "Epoch 132/150\n",
            "25/25 [==============================] - 1s 34ms/step - loss: 1.4985 - mae: 1.9414\n",
            "Epoch 133/150\n",
            "25/25 [==============================] - 1s 34ms/step - loss: 1.4955 - mae: 1.9379\n",
            "Epoch 134/150\n",
            "25/25 [==============================] - 1s 33ms/step - loss: 1.4956 - mae: 1.9382\n",
            "Epoch 135/150\n",
            "25/25 [==============================] - 1s 35ms/step - loss: 1.4920 - mae: 1.9322\n",
            "Epoch 136/150\n",
            "25/25 [==============================] - 1s 34ms/step - loss: 1.4917 - mae: 1.9333\n",
            "Epoch 137/150\n",
            "25/25 [==============================] - 1s 32ms/step - loss: 1.4946 - mae: 1.9363\n",
            "Epoch 138/150\n",
            "25/25 [==============================] - 1s 34ms/step - loss: 1.4904 - mae: 1.9329\n",
            "Epoch 139/150\n",
            "25/25 [==============================] - 1s 32ms/step - loss: 1.4885 - mae: 1.9321\n",
            "Epoch 140/150\n",
            "25/25 [==============================] - 1s 33ms/step - loss: 1.4897 - mae: 1.9325\n",
            "Epoch 141/150\n",
            "25/25 [==============================] - 1s 34ms/step - loss: 1.4902 - mae: 1.9311\n",
            "Epoch 142/150\n",
            "25/25 [==============================] - 1s 34ms/step - loss: 1.4900 - mae: 1.9304\n",
            "Epoch 143/150\n",
            "25/25 [==============================] - 1s 34ms/step - loss: 1.4916 - mae: 1.9333\n",
            "Epoch 144/150\n",
            "25/25 [==============================] - 1s 35ms/step - loss: 1.4909 - mae: 1.9325\n",
            "Epoch 145/150\n",
            "25/25 [==============================] - 1s 34ms/step - loss: 1.4887 - mae: 1.9299\n",
            "Epoch 146/150\n",
            "25/25 [==============================] - 1s 33ms/step - loss: 1.4943 - mae: 1.9364\n",
            "Epoch 147/150\n",
            "25/25 [==============================] - 1s 33ms/step - loss: 1.4889 - mae: 1.9306\n",
            "Epoch 148/150\n",
            "25/25 [==============================] - 1s 34ms/step - loss: 1.4882 - mae: 1.9300\n",
            "Epoch 149/150\n",
            "25/25 [==============================] - 1s 33ms/step - loss: 1.4900 - mae: 1.9306\n",
            "Epoch 150/150\n",
            "25/25 [==============================] - 1s 32ms/step - loss: 1.4886 - mae: 1.9292\n"
          ],
          "name": "stdout"
        }
      ]
    },
    {
      "cell_type": "code",
      "metadata": {
        "id": "GaC6NNMRp0lb",
        "colab_type": "code",
        "colab": {}
      },
      "source": [
        "rnn_forecast = model_forecast(model, series[..., np.newaxis], window_size)\n",
        "rnn_forecast = rnn_forecast[split_time - window_size:-1, -1, 0]"
      ],
      "execution_count": 0,
      "outputs": []
    },
    {
      "cell_type": "code",
      "metadata": {
        "id": "PrktQX3hKYex",
        "colab_type": "code",
        "outputId": "8ab31cff-7f92-49b5-fc28-ad6aff6dd9bd",
        "colab": {
          "base_uri": "https://localhost:8080/",
          "height": 389
        }
      },
      "source": [
        "plt.figure(figsize=(10, 6))\n",
        "plot_series(time_valid, x_valid)\n",
        "plot_series(time_valid, rnn_forecast)"
      ],
      "execution_count": 13,
      "outputs": [
        {
          "output_type": "display_data",
          "data": {
            "image/png": "[encoded data removed]",
            "text/plain": [
              "<Figure size 720x432 with 1 Axes>"
            ]
          },
          "metadata": {
            "tags": []
          }
        }
      ]
    },
    {
      "cell_type": "code",
      "metadata": {
        "id": "13XrorC5wQoE",
        "colab_type": "code",
        "outputId": "7be77659-5ffe-42a8-e0f9-9e282b133d2f",
        "colab": {
          "base_uri": "https://localhost:8080/",
          "height": 34
        }
      },
      "source": [
        "tf.keras.metrics.mean_absolute_error(x_valid, rnn_forecast).numpy()"
      ],
      "execution_count": 14,
      "outputs": [
        {
          "output_type": "execute_result",
          "data": {
            "text/plain": [
              "1.7796212"
            ]
          },
          "metadata": {
            "tags": []
          },
          "execution_count": 14
        }
      ]
    },
    {
      "cell_type": "code",
      "metadata": {
        "id": "AOVzQXxCwkzP",
        "colab_type": "code",
        "outputId": "a398ce9b-4aa6-4099-fcc1-ddd580cb127f",
        "colab": {
          "base_uri": "https://localhost:8080/",
          "height": 34
        }
      },
      "source": [
        "print(rnn_forecast)"
      ],
      "execution_count": 15,
      "outputs": [
        {
          "output_type": "stream",
          "text": [
            "[11.328499 10.705183 12.124319 ... 13.604206 13.796413 15.008795]\n"
          ],
          "name": "stdout"
        }
      ]
    }
  ]
}