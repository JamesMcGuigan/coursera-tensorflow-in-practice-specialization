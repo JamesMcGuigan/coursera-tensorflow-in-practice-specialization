{
  "nbformat": 4,
  "nbformat_minor": 0,
  "metadata": {
    "colab": {
      "name": "NLP_Week4_Exercise_Shakespeare_Answer.ipynb",
      "provenance": [],
      "include_colab_link": true
    },
    "kernelspec": {
      "name": "python3",
      "display_name": "Python 3"
    },
    "accelerator": "GPU"
  },
  "cells": [
    {
      "cell_type": "markdown",
      "metadata": {
        "id": "view-in-github",
        "colab_type": "text"
      },
      "source": [
        "<a href=\"https://colab.research.google.com/github/JamesMcGuigan/dlaicourse/blob/master/TensorFlow%20In%20Practice/Course%203%20-%20NLP/NLP_Week4_Exercise_Shakespeare_Answer.ipynb\" target=\"_parent\"><img src=\"https://colab.research.google.com/assets/colab-badge.svg\" alt=\"Open In Colab\"/></a>"
      ]
    },
    {
      "cell_type": "code",
      "metadata": {
        "id": "x8gXmMv2AF53",
        "colab_type": "code",
        "colab": {}
      },
      "source": [
        "!pip install tensorflow==2.1.0 -q"
      ],
      "execution_count": 0,
      "outputs": []
    },
    {
      "cell_type": "code",
      "metadata": {
        "id": "BOwsuGQQY9OL",
        "colab_type": "code",
        "colab": {}
      },
      "source": [
        "from tensorflow.keras.preprocessing.sequence import pad_sequences\n",
        "from tensorflow.keras.layers import Embedding, LSTM, Dense, Dropout, Bidirectional\n",
        "from tensorflow.keras.preprocessing.text import Tokenizer\n",
        "from tensorflow.keras.models import Sequential\n",
        "from tensorflow.keras.optimizers import Adam\n",
        "from tensorflow.keras import regularizers\n",
        "import tensorflow.keras.utils as ku \n",
        "import numpy as np "
      ],
      "execution_count": 0,
      "outputs": []
    },
    {
      "cell_type": "code",
      "metadata": {
        "colab_type": "code",
        "id": "PRnDnCW-Z7qv",
        "colab": {
          "base_uri": "https://localhost:8080/",
          "height": 204
        },
        "outputId": "361ee6d9-c947-4487-bd3b-231b73dd4e7f"
      },
      "source": [
        "tokenizer = Tokenizer()\n",
        "!wget -c --no-check-certificate \\\n",
        "    https://storage.googleapis.com/laurencemoroney-blog.appspot.com/sonnets.txt \\\n",
        "    -O /tmp/sonnets.txt\n",
        "data = open('/tmp/sonnets.txt').read()\n",
        "\n",
        "corpus = data.lower().split(\"\\n\")\n",
        "\n",
        "\n",
        "tokenizer.fit_on_texts(corpus)\n",
        "total_words = len(tokenizer.word_index) + 1\n",
        "\n",
        "# create input sequences using list of tokens\n",
        "input_sequences = []\n",
        "for line in corpus:\n",
        "\ttoken_list = tokenizer.texts_to_sequences([line])[0]\n",
        "\tfor i in range(1, len(token_list)):\n",
        "\t\tn_gram_sequence = token_list[:i+1]\n",
        "\t\tinput_sequences.append(n_gram_sequence)\n",
        "\n",
        "\n",
        "# pad sequences \n",
        "max_sequence_len = max([len(x) for x in input_sequences])\n",
        "input_sequences = np.array(pad_sequences(input_sequences, maxlen=max_sequence_len, padding='pre'))\n",
        "\n",
        "# create predictors and label\n",
        "predictors, label = input_sequences[:,:-1],input_sequences[:,-1]\n",
        "\n",
        "label = ku.to_categorical(label, num_classes=total_words)"
      ],
      "execution_count": 3,
      "outputs": [
        {
          "output_type": "stream",
          "text": [
            "--2020-03-26 04:03:34--  https://storage.googleapis.com/laurencemoroney-blog.appspot.com/sonnets.txt\n",
            "Resolving storage.googleapis.com (storage.googleapis.com)... 74.125.68.128, 2404:6800:4003:c04::80\n",
            "Connecting to storage.googleapis.com (storage.googleapis.com)|74.125.68.128|:443... connected.\n",
            "HTTP request sent, awaiting response... 200 OK\n",
            "Length: 93578 (91K) [text/plain]\n",
            "Saving to: ‘/tmp/sonnets.txt’\n",
            "\n",
            "\r/tmp/sonnets.txt      0%[                    ]       0  --.-KB/s               \r/tmp/sonnets.txt    100%[===================>]  91.38K  --.-KB/s    in 0.001s  \n",
            "\n",
            "2020-03-26 04:03:34 (169 MB/s) - ‘/tmp/sonnets.txt’ saved [93578/93578]\n",
            "\n"
          ],
          "name": "stdout"
        }
      ]
    },
    {
      "cell_type": "code",
      "metadata": {
        "id": "w9vH8Y59ajYL",
        "colab_type": "code",
        "colab": {
          "base_uri": "https://localhost:8080/",
          "height": 374
        },
        "outputId": "4a1e4e90-2d9b-4fcf-a910-bda9d491e2af"
      },
      "source": [
        "model = Sequential()\n",
        "model.add(Embedding(total_words, 100, input_length=max_sequence_len-1))\n",
        "model.add(Bidirectional(LSTM(150, return_sequences = True)))\n",
        "model.add(Dropout(0.2))\n",
        "model.add(LSTM(100))\n",
        "model.add(Dense(total_words/2, activation='relu', kernel_regularizer=regularizers.l2(0.01)))\n",
        "model.add(Dense(total_words, activation='softmax'))\n",
        "model.compile(loss='categorical_crossentropy', optimizer='adam', metrics=['accuracy'])\n",
        "print(model.summary())\n"
      ],
      "execution_count": 4,
      "outputs": [
        {
          "output_type": "stream",
          "text": [
            "Model: \"sequential\"\n",
            "_________________________________________________________________\n",
            "Layer (type)                 Output Shape              Param #   \n",
            "=================================================================\n",
            "embedding (Embedding)        (None, 10, 100)           321100    \n",
            "_________________________________________________________________\n",
            "bidirectional (Bidirectional (None, 10, 300)           301200    \n",
            "_________________________________________________________________\n",
            "dropout (Dropout)            (None, 10, 300)           0         \n",
            "_________________________________________________________________\n",
            "lstm_1 (LSTM)                (None, 100)               160400    \n",
            "_________________________________________________________________\n",
            "dense (Dense)                (None, 1605)              162105    \n",
            "_________________________________________________________________\n",
            "dense_1 (Dense)              (None, 3211)              5156866   \n",
            "=================================================================\n",
            "Total params: 6,101,671\n",
            "Trainable params: 6,101,671\n",
            "Non-trainable params: 0\n",
            "_________________________________________________________________\n",
            "None\n"
          ],
          "name": "stdout"
        }
      ]
    },
    {
      "cell_type": "code",
      "metadata": {
        "id": "AIg2f1HBxqof",
        "colab_type": "code",
        "colab": {
          "base_uri": "https://localhost:8080/",
          "height": 1000
        },
        "outputId": "f65206ce-d85b-4f9b-f5a0-0edf3366f403"
      },
      "source": [
        " history = model.fit(predictors, label, epochs=100, verbose=1)"
      ],
      "execution_count": 5,
      "outputs": [
        {
          "output_type": "stream",
          "text": [
            "Train on 15462 samples\n",
            "Epoch 1/100\n",
            "15462/15462 [==============================] - 14s 907us/sample - loss: 6.9062 - accuracy: 0.0234\n",
            "Epoch 2/100\n",
            "15462/15462 [==============================] - 7s 440us/sample - loss: 6.4994 - accuracy: 0.0218\n",
            "Epoch 3/100\n",
            "15462/15462 [==============================] - 7s 441us/sample - loss: 6.4035 - accuracy: 0.0239\n",
            "Epoch 4/100\n",
            "15462/15462 [==============================] - 7s 434us/sample - loss: 6.2778 - accuracy: 0.0305\n",
            "Epoch 5/100\n",
            "15462/15462 [==============================] - 7s 435us/sample - loss: 6.1732 - accuracy: 0.0353\n",
            "Epoch 6/100\n",
            "15462/15462 [==============================] - 7s 434us/sample - loss: 6.0864 - accuracy: 0.0395\n",
            "Epoch 7/100\n",
            "15462/15462 [==============================] - 7s 443us/sample - loss: 6.0037 - accuracy: 0.0412\n",
            "Epoch 8/100\n",
            "15462/15462 [==============================] - 7s 439us/sample - loss: 5.9174 - accuracy: 0.0450\n",
            "Epoch 9/100\n",
            "15462/15462 [==============================] - 7s 435us/sample - loss: 5.8190 - accuracy: 0.0513\n",
            "Epoch 10/100\n",
            "15462/15462 [==============================] - 7s 457us/sample - loss: 5.7042 - accuracy: 0.0593\n",
            "Epoch 11/100\n",
            "15462/15462 [==============================] - 7s 445us/sample - loss: 5.5874 - accuracy: 0.0644\n",
            "Epoch 12/100\n",
            "15462/15462 [==============================] - 7s 430us/sample - loss: 5.4713 - accuracy: 0.0732\n",
            "Epoch 13/100\n",
            "15462/15462 [==============================] - 7s 430us/sample - loss: 5.3613 - accuracy: 0.0777\n",
            "Epoch 14/100\n",
            "15462/15462 [==============================] - 7s 431us/sample - loss: 5.2504 - accuracy: 0.0853\n",
            "Epoch 15/100\n",
            "15462/15462 [==============================] - 7s 436us/sample - loss: 5.1520 - accuracy: 0.0935\n",
            "Epoch 16/100\n",
            "15462/15462 [==============================] - 7s 434us/sample - loss: 5.0565 - accuracy: 0.0986\n",
            "Epoch 17/100\n",
            "15462/15462 [==============================] - 7s 436us/sample - loss: 4.9598 - accuracy: 0.1044\n",
            "Epoch 18/100\n",
            "15462/15462 [==============================] - 7s 430us/sample - loss: 4.8614 - accuracy: 0.1149\n",
            "Epoch 19/100\n",
            "15462/15462 [==============================] - 7s 436us/sample - loss: 4.7676 - accuracy: 0.1228\n",
            "Epoch 20/100\n",
            "15462/15462 [==============================] - 7s 436us/sample - loss: 4.6688 - accuracy: 0.1297\n",
            "Epoch 21/100\n",
            "15462/15462 [==============================] - 7s 436us/sample - loss: 4.5684 - accuracy: 0.1421\n",
            "Epoch 22/100\n",
            "15462/15462 [==============================] - 7s 432us/sample - loss: 4.4772 - accuracy: 0.1541\n",
            "Epoch 23/100\n",
            "15462/15462 [==============================] - 7s 430us/sample - loss: 4.3765 - accuracy: 0.1649\n",
            "Epoch 24/100\n",
            "15462/15462 [==============================] - 7s 430us/sample - loss: 4.2772 - accuracy: 0.1735\n",
            "Epoch 25/100\n",
            "15462/15462 [==============================] - 7s 439us/sample - loss: 4.1807 - accuracy: 0.1879\n",
            "Epoch 26/100\n",
            "15462/15462 [==============================] - 7s 431us/sample - loss: 4.0808 - accuracy: 0.2013\n",
            "Epoch 27/100\n",
            "15462/15462 [==============================] - 7s 428us/sample - loss: 3.9942 - accuracy: 0.2143\n",
            "Epoch 28/100\n",
            "15462/15462 [==============================] - 7s 428us/sample - loss: 3.8972 - accuracy: 0.2321\n",
            "Epoch 29/100\n",
            "15462/15462 [==============================] - 7s 439us/sample - loss: 3.8102 - accuracy: 0.2432\n",
            "Epoch 30/100\n",
            "15462/15462 [==============================] - 7s 430us/sample - loss: 3.7181 - accuracy: 0.2628\n",
            "Epoch 31/100\n",
            "15462/15462 [==============================] - 7s 437us/sample - loss: 3.6259 - accuracy: 0.2793\n",
            "Epoch 32/100\n",
            "15462/15462 [==============================] - 7s 436us/sample - loss: 3.5376 - accuracy: 0.2949\n",
            "Epoch 33/100\n",
            "15462/15462 [==============================] - 7s 437us/sample - loss: 3.4610 - accuracy: 0.3132\n",
            "Epoch 34/100\n",
            "15462/15462 [==============================] - 7s 434us/sample - loss: 3.3825 - accuracy: 0.3269\n",
            "Epoch 35/100\n",
            "15462/15462 [==============================] - 7s 429us/sample - loss: 3.3118 - accuracy: 0.3447\n",
            "Epoch 36/100\n",
            "15462/15462 [==============================] - 7s 433us/sample - loss: 3.2261 - accuracy: 0.3649\n",
            "Epoch 37/100\n",
            "15462/15462 [==============================] - 7s 432us/sample - loss: 3.1556 - accuracy: 0.3815\n",
            "Epoch 38/100\n",
            "15462/15462 [==============================] - 7s 427us/sample - loss: 3.0837 - accuracy: 0.3956\n",
            "Epoch 39/100\n",
            "15462/15462 [==============================] - 7s 432us/sample - loss: 3.0114 - accuracy: 0.4118\n",
            "Epoch 40/100\n",
            "15462/15462 [==============================] - 7s 431us/sample - loss: 2.9467 - accuracy: 0.4314\n",
            "Epoch 41/100\n",
            "15462/15462 [==============================] - 7s 428us/sample - loss: 2.8790 - accuracy: 0.4460\n",
            "Epoch 42/100\n",
            "15462/15462 [==============================] - 7s 434us/sample - loss: 2.8110 - accuracy: 0.4578\n",
            "Epoch 43/100\n",
            "15462/15462 [==============================] - 7s 441us/sample - loss: 2.7533 - accuracy: 0.4708\n",
            "Epoch 44/100\n",
            "15462/15462 [==============================] - 7s 441us/sample - loss: 2.7000 - accuracy: 0.4844\n",
            "Epoch 45/100\n",
            "15462/15462 [==============================] - 7s 434us/sample - loss: 2.6368 - accuracy: 0.5021\n",
            "Epoch 46/100\n",
            "15462/15462 [==============================] - 7s 436us/sample - loss: 2.5853 - accuracy: 0.5087\n",
            "Epoch 47/100\n",
            "15462/15462 [==============================] - 7s 432us/sample - loss: 2.5225 - accuracy: 0.5232\n",
            "Epoch 48/100\n",
            "15462/15462 [==============================] - 7s 433us/sample - loss: 2.4658 - accuracy: 0.5408\n",
            "Epoch 49/100\n",
            "15462/15462 [==============================] - 7s 435us/sample - loss: 2.4202 - accuracy: 0.5490\n",
            "Epoch 50/100\n",
            "15462/15462 [==============================] - 7s 438us/sample - loss: 2.3655 - accuracy: 0.5627\n",
            "Epoch 51/100\n",
            "15462/15462 [==============================] - 7s 430us/sample - loss: 2.3143 - accuracy: 0.5741\n",
            "Epoch 52/100\n",
            "15462/15462 [==============================] - 7s 434us/sample - loss: 2.2814 - accuracy: 0.5755\n",
            "Epoch 53/100\n",
            "15462/15462 [==============================] - 7s 427us/sample - loss: 2.2403 - accuracy: 0.5872\n",
            "Epoch 54/100\n",
            "15462/15462 [==============================] - 7s 435us/sample - loss: 2.1870 - accuracy: 0.6001\n",
            "Epoch 55/100\n",
            "15462/15462 [==============================] - 7s 435us/sample - loss: 2.1573 - accuracy: 0.6091\n",
            "Epoch 56/100\n",
            "15462/15462 [==============================] - 7s 447us/sample - loss: 2.1127 - accuracy: 0.6186\n",
            "Epoch 57/100\n",
            "15462/15462 [==============================] - 7s 449us/sample - loss: 2.0594 - accuracy: 0.6279\n",
            "Epoch 58/100\n",
            "15462/15462 [==============================] - 7s 439us/sample - loss: 2.0213 - accuracy: 0.6363\n",
            "Epoch 59/100\n",
            "15462/15462 [==============================] - 7s 439us/sample - loss: 1.9917 - accuracy: 0.6451\n",
            "Epoch 60/100\n",
            "15462/15462 [==============================] - 7s 437us/sample - loss: 1.9679 - accuracy: 0.6465\n",
            "Epoch 61/100\n",
            "15462/15462 [==============================] - 7s 435us/sample - loss: 1.9231 - accuracy: 0.6564\n",
            "Epoch 62/100\n",
            "15462/15462 [==============================] - 7s 432us/sample - loss: 1.8892 - accuracy: 0.6627\n",
            "Epoch 63/100\n",
            "15462/15462 [==============================] - 7s 430us/sample - loss: 1.8549 - accuracy: 0.6717\n",
            "Epoch 64/100\n",
            "15462/15462 [==============================] - 7s 430us/sample - loss: 1.8334 - accuracy: 0.6781\n",
            "Epoch 65/100\n",
            "15462/15462 [==============================] - 7s 436us/sample - loss: 1.7988 - accuracy: 0.6823\n",
            "Epoch 66/100\n",
            "15462/15462 [==============================] - 7s 435us/sample - loss: 1.7717 - accuracy: 0.6870\n",
            "Epoch 67/100\n",
            "15462/15462 [==============================] - 7s 427us/sample - loss: 1.7374 - accuracy: 0.6926\n",
            "Epoch 68/100\n",
            "15462/15462 [==============================] - 7s 428us/sample - loss: 1.7162 - accuracy: 0.7004\n",
            "Epoch 69/100\n",
            "15462/15462 [==============================] - 7s 428us/sample - loss: 1.7014 - accuracy: 0.7023\n",
            "Epoch 70/100\n",
            "15462/15462 [==============================] - 7s 431us/sample - loss: 1.6604 - accuracy: 0.7149\n",
            "Epoch 71/100\n",
            "15462/15462 [==============================] - 7s 429us/sample - loss: 1.6460 - accuracy: 0.7115\n",
            "Epoch 72/100\n",
            "15462/15462 [==============================] - 7s 425us/sample - loss: 1.6080 - accuracy: 0.7227\n",
            "Epoch 73/100\n",
            "15462/15462 [==============================] - 7s 430us/sample - loss: 1.5864 - accuracy: 0.7246\n",
            "Epoch 74/100\n",
            "15462/15462 [==============================] - 7s 439us/sample - loss: 1.5645 - accuracy: 0.7317\n",
            "Epoch 75/100\n",
            "15462/15462 [==============================] - 7s 432us/sample - loss: 1.5489 - accuracy: 0.7310\n",
            "Epoch 76/100\n",
            "15462/15462 [==============================] - 7s 427us/sample - loss: 1.5251 - accuracy: 0.7375\n",
            "Epoch 77/100\n",
            "15462/15462 [==============================] - 7s 427us/sample - loss: 1.5074 - accuracy: 0.7407\n",
            "Epoch 78/100\n",
            "15462/15462 [==============================] - 7s 438us/sample - loss: 1.4943 - accuracy: 0.7429\n",
            "Epoch 79/100\n",
            "15462/15462 [==============================] - 7s 442us/sample - loss: 1.4709 - accuracy: 0.7507\n",
            "Epoch 80/100\n",
            "15462/15462 [==============================] - 7s 438us/sample - loss: 1.4537 - accuracy: 0.7502\n",
            "Epoch 81/100\n",
            "15462/15462 [==============================] - 7s 432us/sample - loss: 1.4340 - accuracy: 0.7492\n",
            "Epoch 82/100\n",
            "15462/15462 [==============================] - 7s 434us/sample - loss: 1.4130 - accuracy: 0.7598\n",
            "Epoch 83/100\n",
            "15462/15462 [==============================] - 7s 434us/sample - loss: 1.3804 - accuracy: 0.7652\n",
            "Epoch 84/100\n",
            "15462/15462 [==============================] - 7s 444us/sample - loss: 1.3717 - accuracy: 0.7662\n",
            "Epoch 85/100\n",
            "15462/15462 [==============================] - 7s 442us/sample - loss: 1.3785 - accuracy: 0.7627\n",
            "Epoch 86/100\n",
            "15462/15462 [==============================] - 7s 439us/sample - loss: 1.3563 - accuracy: 0.7689\n",
            "Epoch 87/100\n",
            "15462/15462 [==============================] - 7s 446us/sample - loss: 1.3400 - accuracy: 0.7683\n",
            "Epoch 88/100\n",
            "15462/15462 [==============================] - 7s 446us/sample - loss: 1.3184 - accuracy: 0.7738\n",
            "Epoch 89/100\n",
            "15462/15462 [==============================] - 7s 442us/sample - loss: 1.3153 - accuracy: 0.7727\n",
            "Epoch 90/100\n",
            "15462/15462 [==============================] - 7s 455us/sample - loss: 1.2918 - accuracy: 0.7811\n",
            "Epoch 91/100\n",
            "15462/15462 [==============================] - 7s 450us/sample - loss: 1.2826 - accuracy: 0.7798\n",
            "Epoch 92/100\n",
            "15462/15462 [==============================] - 7s 455us/sample - loss: 1.2748 - accuracy: 0.7802\n",
            "Epoch 93/100\n",
            "15462/15462 [==============================] - 7s 455us/sample - loss: 1.2543 - accuracy: 0.7836\n",
            "Epoch 94/100\n",
            "15462/15462 [==============================] - 7s 438us/sample - loss: 1.2444 - accuracy: 0.7844\n",
            "Epoch 95/100\n",
            "15462/15462 [==============================] - 7s 445us/sample - loss: 1.2340 - accuracy: 0.7874\n",
            "Epoch 96/100\n",
            "15462/15462 [==============================] - 7s 454us/sample - loss: 1.2110 - accuracy: 0.7909\n",
            "Epoch 97/100\n",
            "15462/15462 [==============================] - 7s 447us/sample - loss: 1.2018 - accuracy: 0.7906\n",
            "Epoch 98/100\n",
            "15462/15462 [==============================] - 7s 444us/sample - loss: 1.2132 - accuracy: 0.7912\n",
            "Epoch 99/100\n",
            "15462/15462 [==============================] - 7s 444us/sample - loss: 1.1912 - accuracy: 0.7951\n",
            "Epoch 100/100\n",
            "15462/15462 [==============================] - 7s 450us/sample - loss: 1.1814 - accuracy: 0.7947\n"
          ],
          "name": "stdout"
        }
      ]
    },
    {
      "cell_type": "code",
      "metadata": {
        "id": "1fXTEO3GJ282",
        "colab_type": "code",
        "colab": {
          "base_uri": "https://localhost:8080/",
          "height": 545
        },
        "outputId": "0b7e6dd4-6452-46b0-8671-0f69eb8b8037"
      },
      "source": [
        "import matplotlib.pyplot as plt\n",
        "acc = history.history['accuracy']\n",
        "loss = history.history['loss']\n",
        "\n",
        "epochs = range(len(acc))\n",
        "\n",
        "plt.plot(epochs, acc, 'b', label='Training accuracy')\n",
        "plt.title('Training accuracy')\n",
        "\n",
        "plt.figure()\n",
        "\n",
        "plt.plot(epochs, loss, 'b', label='Training Loss')\n",
        "plt.title('Training loss')\n",
        "plt.legend()\n",
        "\n",
        "plt.show()"
      ],
      "execution_count": 6,
      "outputs": [
        {
          "output_type": "display_data",
          "data": {
            "image/png": "[encoded data removed]",
            "text/plain": [
              "<Figure size 432x288 with 1 Axes>"
            ]
          },
          "metadata": {
            "tags": []
          }
        },
        {
          "output_type": "display_data",
          "data": {
            "image/png": "[encoded data removed]",
            "text/plain": [
              "<Figure size 432x288 with 1 Axes>"
            ]
          },
          "metadata": {
            "tags": []
          }
        }
      ]
    },
    {
      "cell_type": "code",
      "metadata": {
        "id": "6Vc6PHgxa6Hm",
        "colab_type": "code",
        "colab": {
          "base_uri": "https://localhost:8080/",
          "height": 54
        },
        "outputId": "2024cc24-f17b-41d1-fee1-3fae41bf0d2a"
      },
      "source": [
        "seed_text = \"Help me Obi Wan Kenobi, you're my only hope\"\n",
        "next_words = 100\n",
        "  \n",
        "for _ in range(next_words):\n",
        "\ttoken_list = tokenizer.texts_to_sequences([seed_text])[0]\n",
        "\ttoken_list = pad_sequences([token_list], maxlen=max_sequence_len-1, padding='pre')\n",
        "\tpredicted = model.predict_classes(token_list, verbose=0)\n",
        "\toutput_word = \"\"\n",
        "\tfor word, index in tokenizer.word_index.items():\n",
        "\t\tif index == predicted:\n",
        "\t\t\toutput_word = word\n",
        "\t\t\tbreak\n",
        "\tseed_text += \" \" + output_word\n",
        "print(seed_text)"
      ],
      "execution_count": 7,
      "outputs": [
        {
          "output_type": "stream",
          "text": [
            "Help me Obi Wan Kenobi, you're my only hope each out lies twain light light must me must live live woe must so show thee still thee after press thee told it fears a twofold pleasure rare rare shown rare light rare light seen strife hate still seem before of date wide bettering young of pry cross cross rare bright life hate hate doth strife view grow prove so near bright strife bright bright too much long young were fears did twain dyed twain light seen twain bright life rare light clears shines of thee so decays bearing well ' seen level of woe remain dyed dyed dyed dyed\n"
          ],
          "name": "stdout"
        }
      ]
    }
  ]
}