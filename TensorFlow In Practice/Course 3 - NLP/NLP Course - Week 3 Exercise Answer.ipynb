{
  "nbformat": 4,
  "nbformat_minor": 0,
  "metadata": {
    "colab": {
      "name": "NLP Course - Week 3 Exercise Answer.ipynb",
      "provenance": [],
      "include_colab_link": true
    },
    "kernelspec": {
      "name": "python3",
      "display_name": "Python 3"
    },
    "accelerator": "GPU"
  },
  "cells": [
    {
      "cell_type": "markdown",
      "metadata": {
        "id": "view-in-github",
        "colab_type": "text"
      },
      "source": [
        "<a href=\"https://colab.research.google.com/github/JamesMcGuigan/dlaicourse/blob/master/TensorFlow%20In%20Practice/Course%203%20-%20NLP/NLP%20Course%20-%20Week%203%20Exercise%20Answer.ipynb\" target=\"_parent\"><img src=\"https://colab.research.google.com/assets/colab-badge.svg\" alt=\"Open In Colab\"/></a>"
      ]
    },
    {
      "cell_type": "code",
      "metadata": {
        "id": "oEFZncW7ytDV",
        "colab_type": "code",
        "colab": {}
      },
      "source": [
        "!pip install tensorflow==2.1.0 -q"
      ],
      "execution_count": 0,
      "outputs": []
    },
    {
      "cell_type": "code",
      "metadata": {
        "id": "hmA6EzkQJ5jt",
        "colab_type": "code",
        "colab": {}
      },
      "source": [
        "import json\n",
        "import tensorflow as tf\n",
        "import csv\n",
        "import random\n",
        "import numpy as np\n",
        "\n",
        "from tensorflow.keras.preprocessing.text import Tokenizer\n",
        "from tensorflow.keras.preprocessing.sequence import pad_sequences\n",
        "from tensorflow.keras.utils import to_categorical\n",
        "from tensorflow.keras import regularizers\n",
        "\n",
        "\n",
        "embedding_dim = 100\n",
        "max_length = 16\n",
        "trunc_type='post'\n",
        "padding_type='post'\n",
        "oov_tok = \"<OOV>\"\n",
        "training_size=160000\n",
        "test_portion=.1\n",
        "\n",
        "corpus = []\n"
      ],
      "execution_count": 0,
      "outputs": []
    },
    {
      "cell_type": "code",
      "metadata": {
        "id": "bM0l_dORKqE0",
        "colab_type": "code",
        "outputId": "425489ae-5800-499d-b4cb-9beed46d2294",
        "colab": {
          "base_uri": "https://localhost:8080/",
          "height": 204
        }
      },
      "source": [
        "\n",
        "# Note that I cleaned the Stanford dataset to remove LATIN1 encoding to make it easier for Python CSV reader\n",
        "# You can do that yourself with:\n",
        "# iconv -f LATIN1 -t UTF8 training.1600000.processed.noemoticon.csv -o training_cleaned.csv\n",
        "# I then hosted it on my site to make it easier to use in this notebook\n",
        "\n",
        "!wget --no-check-certificate \\\n",
        "    https://storage.googleapis.com/laurencemoroney-blog.appspot.com/training_cleaned.csv \\\n",
        "    -O /tmp/training_cleaned.csv\n",
        "\n",
        "num_sentences = 0\n",
        "\n",
        "with open(\"/tmp/training_cleaned.csv\") as csvfile:\n",
        "    reader = csv.reader(csvfile, delimiter=',')\n",
        "    for row in reader:\n",
        "        list_item=[]\n",
        "        list_item.append(row[5])\n",
        "        this_label=row[0]\n",
        "        if this_label=='0':\n",
        "            list_item.append(0)\n",
        "        else:\n",
        "            list_item.append(1)\n",
        "        num_sentences = num_sentences + 1\n",
        "        corpus.append(list_item)\n",
        "\n",
        "\n"
      ],
      "execution_count": 3,
      "outputs": [
        {
          "output_type": "stream",
          "text": [
            "--2020-03-25 04:12:10--  https://storage.googleapis.com/laurencemoroney-blog.appspot.com/training_cleaned.csv\n",
            "Resolving storage.googleapis.com (storage.googleapis.com)... 108.177.126.128, 2a00:1450:4013:c07::80\n",
            "Connecting to storage.googleapis.com (storage.googleapis.com)|108.177.126.128|:443... connected.\n",
            "HTTP request sent, awaiting response... 200 OK\n",
            "Length: 238942690 (228M) [application/octet-stream]\n",
            "Saving to: ‘/tmp/training_cleaned.csv’\n",
            "\n",
            "/tmp/training_clean 100%[===================>] 227.87M   227MB/s    in 1.0s    \n",
            "\n",
            "2020-03-25 04:12:11 (227 MB/s) - ‘/tmp/training_cleaned.csv’ saved [238942690/238942690]\n",
            "\n"
          ],
          "name": "stdout"
        }
      ]
    },
    {
      "cell_type": "code",
      "metadata": {
        "id": "3kxblBUjEUX-",
        "colab_type": "code",
        "outputId": "0df57131-9c99-4109-c428-4a567b7664d8",
        "colab": {
          "base_uri": "https://localhost:8080/",
          "height": 68
        }
      },
      "source": [
        "print(num_sentences)\n",
        "print(len(corpus))\n",
        "print(corpus[1])\n",
        "\n",
        "# Expected Output:\n",
        "# 1600000\n",
        "# 1600000\n",
        "# [\"is upset that he can't update his Facebook by texting it... and might cry as a result  School today also. Blah!\", 0]"
      ],
      "execution_count": 4,
      "outputs": [
        {
          "output_type": "stream",
          "text": [
            "1600000\n",
            "1600000\n",
            "[\"is upset that he can't update his Facebook by texting it... and might cry as a result  School today also. Blah!\", 0]\n"
          ],
          "name": "stdout"
        }
      ]
    },
    {
      "cell_type": "code",
      "metadata": {
        "id": "ohOGz24lsNAD",
        "colab_type": "code",
        "colab": {}
      },
      "source": [
        "sentences=[]\n",
        "labels=[]\n",
        "random.shuffle(corpus)\n",
        "for x in range(training_size):\n",
        "    sentences.append(corpus[x][0])\n",
        "    labels.append(corpus[x][1])\n",
        "\n",
        "\n",
        "tokenizer = Tokenizer()\n",
        "tokenizer.fit_on_texts(sentences)\n",
        "\n",
        "word_index = tokenizer.word_index\n",
        "vocab_size=len(word_index)\n",
        "\n",
        "sequences = tokenizer.texts_to_sequences(sentences)\n",
        "padded = pad_sequences(sequences, maxlen=max_length, padding=padding_type, truncating=trunc_type)\n",
        "\n",
        "split = int(test_portion * training_size)\n",
        "\n",
        "test_sequences     = padded[0:split]\n",
        "training_sequences = padded[split:training_size]\n",
        "test_labels        = np.array(labels[0:split])\n",
        "training_labels    = np.array(labels[split:training_size])"
      ],
      "execution_count": 0,
      "outputs": []
    },
    {
      "cell_type": "code",
      "metadata": {
        "id": "gIrtRem1En3N",
        "colab_type": "code",
        "outputId": "5166aca9-1b59-423f-fd53-2da9d69a52ed",
        "colab": {
          "base_uri": "https://localhost:8080/",
          "height": 51
        }
      },
      "source": [
        "print(vocab_size)\n",
        "print(word_index['i'])\n",
        "# Expected Output\n",
        "# 138858\n",
        "# 1"
      ],
      "execution_count": 6,
      "outputs": [
        {
          "output_type": "stream",
          "text": [
            "138343\n",
            "1\n"
          ],
          "name": "stdout"
        }
      ]
    },
    {
      "cell_type": "code",
      "metadata": {
        "id": "C1zdgJkusRh0",
        "colab_type": "code",
        "outputId": "f259dcd8-b6f6-43cf-bb62-a310c783bfaa",
        "colab": {
          "base_uri": "https://localhost:8080/",
          "height": 204
        }
      },
      "source": [
        "# Note this is the 100 dimension version of GloVe from Stanford\n",
        "# I unzipped and hosted it on my site to make this notebook easier\n",
        "!wget --no-check-certificate \\\n",
        "    https://storage.googleapis.com/laurencemoroney-blog.appspot.com/glove.6B.100d.txt \\\n",
        "    -O /tmp/glove.6B.100d.txt\n",
        "embeddings_index = {};\n",
        "with open('/tmp/glove.6B.100d.txt') as f:\n",
        "    for line in f:\n",
        "        values = line.split();\n",
        "        word = values[0];\n",
        "        coefs = np.asarray(values[1:], dtype='float32');\n",
        "        embeddings_index[word] = coefs;\n",
        "\n",
        "embeddings_matrix = np.zeros((vocab_size+1, embedding_dim));\n",
        "for word, i in word_index.items():\n",
        "    embedding_vector = embeddings_index.get(word);\n",
        "    if embedding_vector is not None:\n",
        "        embeddings_matrix[i] = embedding_vector;"
      ],
      "execution_count": 7,
      "outputs": [
        {
          "output_type": "stream",
          "text": [
            "--2020-03-25 04:12:26--  https://storage.googleapis.com/laurencemoroney-blog.appspot.com/glove.6B.100d.txt\n",
            "Resolving storage.googleapis.com (storage.googleapis.com)... 108.177.119.128, 2a00:1450:4013:c01::80\n",
            "Connecting to storage.googleapis.com (storage.googleapis.com)|108.177.119.128|:443... connected.\n",
            "HTTP request sent, awaiting response... 200 OK\n",
            "Length: 347116733 (331M) [text/plain]\n",
            "Saving to: ‘/tmp/glove.6B.100d.txt’\n",
            "\n",
            "/tmp/glove.6B.100d. 100%[===================>] 331.04M   119MB/s    in 2.8s    \n",
            "\n",
            "2020-03-25 04:12:29 (119 MB/s) - ‘/tmp/glove.6B.100d.txt’ saved [347116733/347116733]\n",
            "\n"
          ],
          "name": "stdout"
        }
      ]
    },
    {
      "cell_type": "code",
      "metadata": {
        "id": "71NLk_lpFLNt",
        "colab_type": "code",
        "outputId": "e508b11e-a41a-4f2d-987d-1c54b7b759a7",
        "colab": {
          "base_uri": "https://localhost:8080/",
          "height": 34
        }
      },
      "source": [
        "print(len(embeddings_matrix))\n",
        "# Expected Output\n",
        "# 138859"
      ],
      "execution_count": 8,
      "outputs": [
        {
          "output_type": "stream",
          "text": [
            "138344\n"
          ],
          "name": "stdout"
        }
      ]
    },
    {
      "cell_type": "code",
      "metadata": {
        "colab_type": "code",
        "id": "iKKvbuEBOGFz",
        "colab": {
          "base_uri": "https://localhost:8080/",
          "height": 1000
        },
        "outputId": "cbe33953-3250-4ad4-9b25-fd3d0dbd6e01"
      },
      "source": [
        "model = tf.keras.Sequential([\n",
        "    tf.keras.layers.Embedding(vocab_size+1, embedding_dim, input_length=max_length, weights=[embeddings_matrix], trainable=False),\n",
        "    tf.keras.layers.Dropout(0.2),\n",
        "    tf.keras.layers.Conv1D(64, 5, activation='relu'),\n",
        "    tf.keras.layers.MaxPooling1D(pool_size=4),\n",
        "    tf.keras.layers.LSTM(64),\n",
        "    tf.keras.layers.Dense(1, activation='sigmoid')\n",
        "])\n",
        "model.compile(loss='binary_crossentropy',optimizer='adam',metrics=['accuracy'])\n",
        "model.summary()\n",
        "\n",
        "num_epochs = 50\n",
        "history = model.fit(training_sequences, training_labels, epochs=num_epochs, validation_data=(test_sequences, test_labels), verbose=2)\n",
        "\n",
        "print(\"Training Complete\")\n"
      ],
      "execution_count": 9,
      "outputs": [
        {
          "output_type": "stream",
          "text": [
            "Model: \"sequential\"\n",
            "_________________________________________________________________\n",
            "Layer (type)                 Output Shape              Param #   \n",
            "=================================================================\n",
            "embedding (Embedding)        (None, 16, 100)           13834400  \n",
            "_________________________________________________________________\n",
            "dropout (Dropout)            (None, 16, 100)           0         \n",
            "_________________________________________________________________\n",
            "conv1d (Conv1D)              (None, 12, 64)            32064     \n",
            "_________________________________________________________________\n",
            "max_pooling1d (MaxPooling1D) (None, 3, 64)             0         \n",
            "_________________________________________________________________\n",
            "lstm (LSTM)                  (None, 64)                33024     \n",
            "_________________________________________________________________\n",
            "dense (Dense)                (None, 1)                 65        \n",
            "=================================================================\n",
            "Total params: 13,899,553\n",
            "Trainable params: 65,153\n",
            "Non-trainable params: 13,834,400\n",
            "_________________________________________________________________\n",
            "Train on 144000 samples, validate on 16000 samples\n",
            "Epoch 1/50\n",
            "144000/144000 - 27s - loss: 0.5666 - accuracy: 0.6991 - val_loss: 0.5161 - val_accuracy: 0.7441\n",
            "Epoch 2/50\n",
            "144000/144000 - 20s - loss: 0.5259 - accuracy: 0.7333 - val_loss: 0.5142 - val_accuracy: 0.7415\n",
            "Epoch 3/50\n",
            "144000/144000 - 20s - loss: 0.5099 - accuracy: 0.7442 - val_loss: 0.4974 - val_accuracy: 0.7544\n",
            "Epoch 4/50\n",
            "144000/144000 - 20s - loss: 0.4993 - accuracy: 0.7505 - val_loss: 0.5030 - val_accuracy: 0.7553\n",
            "Epoch 5/50\n",
            "144000/144000 - 20s - loss: 0.4910 - accuracy: 0.7569 - val_loss: 0.4949 - val_accuracy: 0.7607\n",
            "Epoch 6/50\n",
            "144000/144000 - 20s - loss: 0.4840 - accuracy: 0.7616 - val_loss: 0.4944 - val_accuracy: 0.7592\n",
            "Epoch 7/50\n",
            "144000/144000 - 20s - loss: 0.4777 - accuracy: 0.7652 - val_loss: 0.4948 - val_accuracy: 0.7575\n",
            "Epoch 8/50\n",
            "144000/144000 - 20s - loss: 0.4719 - accuracy: 0.7687 - val_loss: 0.4964 - val_accuracy: 0.7593\n",
            "Epoch 9/50\n",
            "144000/144000 - 20s - loss: 0.4680 - accuracy: 0.7714 - val_loss: 0.4888 - val_accuracy: 0.7621\n",
            "Epoch 10/50\n",
            "144000/144000 - 20s - loss: 0.4646 - accuracy: 0.7735 - val_loss: 0.4879 - val_accuracy: 0.7608\n",
            "Epoch 11/50\n",
            "144000/144000 - 20s - loss: 0.4616 - accuracy: 0.7754 - val_loss: 0.4897 - val_accuracy: 0.7616\n",
            "Epoch 12/50\n",
            "144000/144000 - 21s - loss: 0.4598 - accuracy: 0.7778 - val_loss: 0.4922 - val_accuracy: 0.7626\n",
            "Epoch 13/50\n",
            "144000/144000 - 20s - loss: 0.4564 - accuracy: 0.7787 - val_loss: 0.4940 - val_accuracy: 0.7615\n",
            "Epoch 14/50\n",
            "144000/144000 - 20s - loss: 0.4534 - accuracy: 0.7810 - val_loss: 0.4983 - val_accuracy: 0.7613\n",
            "Epoch 15/50\n",
            "144000/144000 - 20s - loss: 0.4526 - accuracy: 0.7813 - val_loss: 0.5001 - val_accuracy: 0.7569\n",
            "Epoch 16/50\n",
            "144000/144000 - 20s - loss: 0.4490 - accuracy: 0.7839 - val_loss: 0.4992 - val_accuracy: 0.7573\n",
            "Epoch 17/50\n",
            "144000/144000 - 20s - loss: 0.4484 - accuracy: 0.7843 - val_loss: 0.4975 - val_accuracy: 0.7596\n",
            "Epoch 18/50\n",
            "144000/144000 - 20s - loss: 0.4459 - accuracy: 0.7852 - val_loss: 0.5004 - val_accuracy: 0.7555\n",
            "Epoch 19/50\n",
            "144000/144000 - 20s - loss: 0.4452 - accuracy: 0.7857 - val_loss: 0.5024 - val_accuracy: 0.7584\n",
            "Epoch 20/50\n",
            "144000/144000 - 20s - loss: 0.4443 - accuracy: 0.7862 - val_loss: 0.4981 - val_accuracy: 0.7580\n",
            "Epoch 21/50\n",
            "144000/144000 - 20s - loss: 0.4423 - accuracy: 0.7877 - val_loss: 0.4990 - val_accuracy: 0.7601\n",
            "Epoch 22/50\n",
            "144000/144000 - 20s - loss: 0.4396 - accuracy: 0.7897 - val_loss: 0.5004 - val_accuracy: 0.7546\n",
            "Epoch 23/50\n",
            "144000/144000 - 20s - loss: 0.4401 - accuracy: 0.7890 - val_loss: 0.5016 - val_accuracy: 0.7586\n",
            "Epoch 24/50\n",
            "144000/144000 - 20s - loss: 0.4398 - accuracy: 0.7891 - val_loss: 0.5022 - val_accuracy: 0.7580\n",
            "Epoch 25/50\n",
            "144000/144000 - 20s - loss: 0.4389 - accuracy: 0.7891 - val_loss: 0.5032 - val_accuracy: 0.7558\n",
            "Epoch 26/50\n",
            "144000/144000 - 20s - loss: 0.4356 - accuracy: 0.7913 - val_loss: 0.5017 - val_accuracy: 0.7584\n",
            "Epoch 27/50\n",
            "144000/144000 - 19s - loss: 0.4373 - accuracy: 0.7899 - val_loss: 0.5017 - val_accuracy: 0.7569\n",
            "Epoch 28/50\n",
            "144000/144000 - 20s - loss: 0.4357 - accuracy: 0.7921 - val_loss: 0.5025 - val_accuracy: 0.7567\n",
            "Epoch 29/50\n",
            "144000/144000 - 20s - loss: 0.4356 - accuracy: 0.7919 - val_loss: 0.5049 - val_accuracy: 0.7558\n",
            "Epoch 30/50\n",
            "144000/144000 - 20s - loss: 0.4353 - accuracy: 0.7913 - val_loss: 0.5093 - val_accuracy: 0.7542\n",
            "Epoch 31/50\n",
            "144000/144000 - 20s - loss: 0.4336 - accuracy: 0.7922 - val_loss: 0.5039 - val_accuracy: 0.7538\n",
            "Epoch 32/50\n",
            "144000/144000 - 20s - loss: 0.4338 - accuracy: 0.7920 - val_loss: 0.5060 - val_accuracy: 0.7499\n",
            "Epoch 33/50\n",
            "144000/144000 - 20s - loss: 0.4326 - accuracy: 0.7924 - val_loss: 0.5040 - val_accuracy: 0.7530\n",
            "Epoch 34/50\n",
            "144000/144000 - 20s - loss: 0.4325 - accuracy: 0.7927 - val_loss: 0.5078 - val_accuracy: 0.7520\n",
            "Epoch 35/50\n",
            "144000/144000 - 20s - loss: 0.4322 - accuracy: 0.7930 - val_loss: 0.5015 - val_accuracy: 0.7571\n",
            "Epoch 36/50\n",
            "144000/144000 - 20s - loss: 0.4323 - accuracy: 0.7927 - val_loss: 0.5006 - val_accuracy: 0.7569\n",
            "Epoch 37/50\n",
            "144000/144000 - 20s - loss: 0.4304 - accuracy: 0.7937 - val_loss: 0.5119 - val_accuracy: 0.7489\n",
            "Epoch 38/50\n",
            "144000/144000 - 20s - loss: 0.4304 - accuracy: 0.7946 - val_loss: 0.5055 - val_accuracy: 0.7567\n",
            "Epoch 39/50\n",
            "144000/144000 - 20s - loss: 0.4286 - accuracy: 0.7953 - val_loss: 0.5132 - val_accuracy: 0.7542\n",
            "Epoch 40/50\n",
            "144000/144000 - 20s - loss: 0.4303 - accuracy: 0.7948 - val_loss: 0.5102 - val_accuracy: 0.7564\n",
            "Epoch 41/50\n",
            "144000/144000 - 20s - loss: 0.4306 - accuracy: 0.7926 - val_loss: 0.5096 - val_accuracy: 0.7536\n",
            "Epoch 42/50\n",
            "144000/144000 - 20s - loss: 0.4296 - accuracy: 0.7949 - val_loss: 0.5068 - val_accuracy: 0.7551\n",
            "Epoch 43/50\n",
            "144000/144000 - 19s - loss: 0.4292 - accuracy: 0.7947 - val_loss: 0.5058 - val_accuracy: 0.7551\n",
            "Epoch 44/50\n",
            "144000/144000 - 19s - loss: 0.4285 - accuracy: 0.7951 - val_loss: 0.5084 - val_accuracy: 0.7546\n",
            "Epoch 45/50\n",
            "144000/144000 - 19s - loss: 0.4286 - accuracy: 0.7958 - val_loss: 0.5078 - val_accuracy: 0.7523\n",
            "Epoch 46/50\n",
            "144000/144000 - 19s - loss: 0.4276 - accuracy: 0.7963 - val_loss: 0.5112 - val_accuracy: 0.7574\n",
            "Epoch 47/50\n",
            "144000/144000 - 19s - loss: 0.4277 - accuracy: 0.7952 - val_loss: 0.5079 - val_accuracy: 0.7551\n",
            "Epoch 48/50\n",
            "144000/144000 - 19s - loss: 0.4273 - accuracy: 0.7967 - val_loss: 0.5046 - val_accuracy: 0.7554\n",
            "Epoch 49/50\n",
            "144000/144000 - 20s - loss: 0.4277 - accuracy: 0.7964 - val_loss: 0.5043 - val_accuracy: 0.7539\n",
            "Epoch 50/50\n",
            "144000/144000 - 19s - loss: 0.4276 - accuracy: 0.7958 - val_loss: 0.5074 - val_accuracy: 0.7515\n",
            "Training Complete\n"
          ],
          "name": "stdout"
        }
      ]
    },
    {
      "cell_type": "code",
      "metadata": {
        "id": "qxju4ItJKO8F",
        "colab_type": "code",
        "colab": {
          "base_uri": "https://localhost:8080/",
          "height": 607
        },
        "outputId": "dddf3a07-eecc-41d4-ca74-175158cbc780"
      },
      "source": [
        "import matplotlib.image  as mpimg\n",
        "import matplotlib.pyplot as plt\n",
        "\n",
        "#-----------------------------------------------------------\n",
        "# Retrieve a list of list results on training and test data\n",
        "# sets for each training epoch\n",
        "#-----------------------------------------------------------\n",
        "acc=history.history['accuracy']\n",
        "val_acc=history.history['val_accuracy']\n",
        "loss=history.history['loss']\n",
        "val_loss=history.history['val_loss']\n",
        "\n",
        "epochs=range(len(acc)) # Get number of epochs\n",
        "\n",
        "#------------------------------------------------\n",
        "# Plot training and validation accuracy per epoch\n",
        "#------------------------------------------------\n",
        "plt.plot(epochs, acc, 'r')\n",
        "plt.plot(epochs, val_acc, 'b')\n",
        "plt.title('Training and validation accuracy')\n",
        "plt.xlabel(\"Epochs\")\n",
        "plt.ylabel(\"Accuracy\")\n",
        "plt.legend([\"Accuracy\", \"Validation Accuracy\"])\n",
        "\n",
        "plt.figure()\n",
        "\n",
        "#------------------------------------------------\n",
        "# Plot training and validation loss per epoch\n",
        "#------------------------------------------------\n",
        "plt.plot(epochs, loss, 'r')\n",
        "plt.plot(epochs, val_loss, 'b')\n",
        "plt.title('Training and validation loss')\n",
        "plt.xlabel(\"Epochs\")\n",
        "plt.ylabel(\"Loss\")\n",
        "plt.legend([\"Loss\", \"Validation Loss\"])\n",
        "\n",
        "plt.figure()\n",
        "\n",
        "\n",
        "# Expected Output\n",
        "# A chart where the validation loss does not increase sharply!"
      ],
      "execution_count": 11,
      "outputs": [
        {
          "output_type": "execute_result",
          "data": {
            "text/plain": [
              "<Figure size 432x288 with 0 Axes>"
            ]
          },
          "metadata": {
            "tags": []
          },
          "execution_count": 11
        },
        {
          "output_type": "display_data",
          "data": {
            "image/png": "[encoded data removed]",
            "text/plain": [
              "<Figure size 432x288 with 1 Axes>"
            ]
          },
          "metadata": {
            "tags": []
          }
        },
        {
          "output_type": "display_data",
          "data": {
            "image/png": "[encoded data removed]",
            "text/plain": [
              "<Figure size 432x288 with 1 Axes>"
            ]
          },
          "metadata": {
            "tags": []
          }
        },
        {
          "output_type": "display_data",
          "data": {
            "text/plain": [
              "<Figure size 432x288 with 0 Axes>"
            ]
          },
          "metadata": {
            "tags": []
          }
        }
      ]
    },
    {
      "cell_type": "code",
      "metadata": {
        "id": "OgjX5jom89lb",
        "colab_type": "code",
        "colab": {}
      },
      "source": [
        ""
      ],
      "execution_count": 0,
      "outputs": []
    }
  ]
}