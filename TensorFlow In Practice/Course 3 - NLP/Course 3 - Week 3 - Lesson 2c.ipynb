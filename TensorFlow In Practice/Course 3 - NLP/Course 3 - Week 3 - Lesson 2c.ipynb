{
  "nbformat": 4,
  "nbformat_minor": 0,
  "metadata": {
    "colab": {
      "name": "Course 3 - Week 3 - Lesson 2c.ipynb",
      "provenance": [],
      "collapsed_sections": [],
      "include_colab_link": true
    },
    "kernelspec": {
      "name": "python3",
      "display_name": "Python 3"
    },
    "accelerator": "GPU"
  },
  "cells": [
    {
      "cell_type": "markdown",
      "metadata": {
        "id": "view-in-github",
        "colab_type": "text"
      },
      "source": [
        "<a href=\"https://colab.research.google.com/github/JamesMcGuigan/dlaicourse/blob/master/TensorFlow%20In%20Practice/Course%203%20-%20NLP/Course%203%20-%20Week%203%20-%20Lesson%202c.ipynb\" target=\"_parent\"><img src=\"https://colab.research.google.com/assets/colab-badge.svg\" alt=\"Open In Colab\"/></a>"
      ]
    },
    {
      "cell_type": "code",
      "metadata": {
        "id": "jGwXGIXvFhXW",
        "colab_type": "code",
        "colab": {
          "base_uri": "https://localhost:8080/",
          "height": 1000
        },
        "outputId": "546ea19b-7d86-4cdd-aae8-dc791da4718c"
      },
      "source": [
        "import json\n",
        "import tensorflow as tf\n",
        "\n",
        "from tensorflow.keras.preprocessing.text import Tokenizer\n",
        "from tensorflow.keras.preprocessing.sequence import pad_sequences\n",
        "\n",
        "!wget -c --no-check-certificate \\\n",
        "    https://storage.googleapis.com/laurencemoroney-blog.appspot.com/sarcasm.json \\\n",
        "    -O /tmp/sarcasm.json\n",
        "\n",
        "vocab_size    = 1000\n",
        "embedding_dim = 16\n",
        "max_length    = 120\n",
        "trunc_type    = 'post'\n",
        "padding_type  = 'post'\n",
        "oov_tok       = \"<OOV>\"\n",
        "training_size = 20000\n",
        "\n",
        "\n",
        "with open(\"/tmp/sarcasm.json\", 'r') as f:\n",
        "    datastore = json.load(f)\n",
        "\n",
        "\n",
        "sentences = []\n",
        "labels    = []\n",
        "urls      = []\n",
        "for item in datastore:\n",
        "    sentences.append(item['headline'])\n",
        "    labels.append(item['is_sarcastic'])\n",
        "\n",
        "training_sentences = sentences[0:training_size]\n",
        "testing_sentences  = sentences[training_size:]\n",
        "training_labels    = labels[0:training_size]\n",
        "testing_labels     = labels[training_size:]\n",
        "\n",
        "tokenizer = Tokenizer(num_words=vocab_size, oov_token=oov_tok)\n",
        "tokenizer.fit_on_texts(training_sentences)\n",
        "\n",
        "word_index = tokenizer.word_index\n",
        "\n",
        "training_sequences = tokenizer.texts_to_sequences(training_sentences)\n",
        "training_padded    = pad_sequences(training_sequences, maxlen=max_length, padding=padding_type, truncating=trunc_type)\n",
        "\n",
        "testing_sequences  = tokenizer.texts_to_sequences(testing_sentences)\n",
        "testing_padded     = pad_sequences(testing_sequences, maxlen=max_length, padding=padding_type, truncating=trunc_type)\n",
        "\n",
        "model = tf.keras.Sequential([\n",
        "    tf.keras.layers.Embedding(vocab_size, embedding_dim, input_length=max_length),\n",
        "    tf.keras.layers.Conv1D(128, 5, activation='relu'),\n",
        "    tf.keras.layers.GlobalMaxPooling1D(),\n",
        "    tf.keras.layers.Dense(24, activation='relu'),\n",
        "    tf.keras.layers.Dense(1, activation='sigmoid')\n",
        "])\n",
        "model.compile(loss='binary_crossentropy',optimizer='adam',metrics=['accuracy'])\n",
        "model.summary()\n",
        "\n",
        "num_epochs = 50\n",
        "history    = model.fit(training_padded, training_labels, epochs=num_epochs, validation_data=(testing_padded, testing_labels), verbose=1)\n",
        "\n"
      ],
      "execution_count": 2,
      "outputs": [
        {
          "output_type": "stream",
          "text": [
            "ERROR! Session/line number was not unique in database. History logging moved to new session 60\n"
          ],
          "name": "stdout"
        },
        {
          "output_type": "display_data",
          "data": {
            "text/html": [
              "<p style=\"color: red;\">\n",
              "The default version of TensorFlow in Colab will switch to TensorFlow 2.x on the 27th of March, 2020.<br>\n",
              "We recommend you <a href=\"https://www.tensorflow.org/guide/migrate\" target=\"_blank\">upgrade</a> now\n",
              "or ensure your notebook will continue to use TensorFlow 1.x via the <code>%tensorflow_version 1.x</code> magic:\n",
              "<a href=\"https://colab.research.google.com/notebooks/tensorflow_version.ipynb\" target=\"_blank\">more info</a>.</p>\n"
            ],
            "text/plain": [
              "<IPython.core.display.HTML object>"
            ]
          },
          "metadata": {
            "tags": []
          }
        },
        {
          "output_type": "stream",
          "text": [
            "--2020-03-24 21:38:09--  https://storage.googleapis.com/laurencemoroney-blog.appspot.com/sarcasm.json\n",
            "Resolving storage.googleapis.com (storage.googleapis.com)... 74.125.195.128, 2607:f8b0:400e:c08::80\n",
            "Connecting to storage.googleapis.com (storage.googleapis.com)|74.125.195.128|:443... connected.\n",
            "HTTP request sent, awaiting response... 200 OK\n",
            "Length: 5643545 (5.4M) [application/json]\n",
            "Saving to: ‘/tmp/sarcasm.json’\n",
            "\n",
            "\r/tmp/sarcasm.json     0%[                    ]       0  --.-KB/s               \r/tmp/sarcasm.json   100%[===================>]   5.38M  --.-KB/s    in 0.04s   \n",
            "\n",
            "2020-03-24 21:38:09 (138 MB/s) - ‘/tmp/sarcasm.json’ saved [5643545/5643545]\n",
            "\n",
            "WARNING:tensorflow:From /tensorflow-1.15.0/python3.6/tensorflow_core/python/keras/initializers.py:119: calling RandomUniform.__init__ (from tensorflow.python.ops.init_ops) with dtype is deprecated and will be removed in a future version.\n",
            "Instructions for updating:\n",
            "Call initializer instance with the dtype argument instead of passing it to the constructor\n",
            "WARNING:tensorflow:From /tensorflow-1.15.0/python3.6/tensorflow_core/python/ops/resource_variable_ops.py:1630: calling BaseResourceVariable.__init__ (from tensorflow.python.ops.resource_variable_ops) with constraint is deprecated and will be removed in a future version.\n",
            "Instructions for updating:\n",
            "If using Keras pass *_constraint arguments to layers.\n",
            "WARNING:tensorflow:From /tensorflow-1.15.0/python3.6/tensorflow_core/python/ops/nn_impl.py:183: where (from tensorflow.python.ops.array_ops) is deprecated and will be removed in a future version.\n",
            "Instructions for updating:\n",
            "Use tf.where in 2.0, which has the same broadcast rule as np.where\n",
            "Model: \"sequential\"\n",
            "_________________________________________________________________\n",
            "Layer (type)                 Output Shape              Param #   \n",
            "=================================================================\n",
            "embedding (Embedding)        (None, 120, 16)           16000     \n",
            "_________________________________________________________________\n",
            "conv1d (Conv1D)              (None, 116, 128)          10368     \n",
            "_________________________________________________________________\n",
            "global_max_pooling1d (Global (None, 128)               0         \n",
            "_________________________________________________________________\n",
            "dense (Dense)                (None, 24)                3096      \n",
            "_________________________________________________________________\n",
            "dense_1 (Dense)              (None, 1)                 25        \n",
            "=================================================================\n",
            "Total params: 29,489\n",
            "Trainable params: 29,489\n",
            "Non-trainable params: 0\n",
            "_________________________________________________________________\n",
            "Train on 20000 samples, validate on 6709 samples\n",
            "Epoch 1/50\n",
            "20000/20000 [==============================] - 9s 448us/sample - loss: 0.4670 - acc: 0.7628 - val_loss: 0.4082 - val_acc: 0.8123\n",
            "Epoch 2/50\n",
            "20000/20000 [==============================] - 3s 128us/sample - loss: 0.3571 - acc: 0.8432 - val_loss: 0.3913 - val_acc: 0.8228\n",
            "Epoch 3/50\n",
            "20000/20000 [==============================] - 3s 129us/sample - loss: 0.3159 - acc: 0.8610 - val_loss: 0.3899 - val_acc: 0.8223\n",
            "Epoch 4/50\n",
            "20000/20000 [==============================] - 3s 127us/sample - loss: 0.2800 - acc: 0.8800 - val_loss: 0.4095 - val_acc: 0.8177\n",
            "Epoch 5/50\n",
            "20000/20000 [==============================] - 3s 129us/sample - loss: 0.2417 - acc: 0.8995 - val_loss: 0.4294 - val_acc: 0.8131\n",
            "Epoch 6/50\n",
            "20000/20000 [==============================] - 3s 129us/sample - loss: 0.2086 - acc: 0.9143 - val_loss: 0.4733 - val_acc: 0.8113\n",
            "Epoch 7/50\n",
            "20000/20000 [==============================] - 3s 127us/sample - loss: 0.1725 - acc: 0.9331 - val_loss: 0.5409 - val_acc: 0.8094\n",
            "Epoch 8/50\n",
            "20000/20000 [==============================] - 3s 126us/sample - loss: 0.1440 - acc: 0.9456 - val_loss: 0.6015 - val_acc: 0.8044\n",
            "Epoch 9/50\n",
            "20000/20000 [==============================] - 3s 125us/sample - loss: 0.1169 - acc: 0.9578 - val_loss: 0.6611 - val_acc: 0.8043\n",
            "Epoch 10/50\n",
            "20000/20000 [==============================] - 3s 126us/sample - loss: 0.0949 - acc: 0.9665 - val_loss: 0.7475 - val_acc: 0.7991\n",
            "Epoch 11/50\n",
            "20000/20000 [==============================] - 3s 128us/sample - loss: 0.0790 - acc: 0.9728 - val_loss: 0.8180 - val_acc: 0.8004\n",
            "Epoch 12/50\n",
            "20000/20000 [==============================] - 3s 127us/sample - loss: 0.0697 - acc: 0.9772 - val_loss: 0.9219 - val_acc: 0.7940\n",
            "Epoch 13/50\n",
            "20000/20000 [==============================] - 3s 125us/sample - loss: 0.0593 - acc: 0.9800 - val_loss: 1.0177 - val_acc: 0.7989\n",
            "Epoch 14/50\n",
            "20000/20000 [==============================] - 2s 124us/sample - loss: 0.0537 - acc: 0.9819 - val_loss: 1.1095 - val_acc: 0.7949\n",
            "Epoch 15/50\n",
            "20000/20000 [==============================] - 3s 125us/sample - loss: 0.0477 - acc: 0.9840 - val_loss: 1.1389 - val_acc: 0.7949\n",
            "Epoch 16/50\n",
            "20000/20000 [==============================] - 3s 127us/sample - loss: 0.0422 - acc: 0.9848 - val_loss: 1.2205 - val_acc: 0.7916\n",
            "Epoch 17/50\n",
            "20000/20000 [==============================] - 3s 127us/sample - loss: 0.0381 - acc: 0.9866 - val_loss: 1.2803 - val_acc: 0.7922\n",
            "Epoch 18/50\n",
            "20000/20000 [==============================] - 2s 124us/sample - loss: 0.0412 - acc: 0.9844 - val_loss: 1.3849 - val_acc: 0.7956\n",
            "Epoch 19/50\n",
            "20000/20000 [==============================] - 2s 123us/sample - loss: 0.0421 - acc: 0.9833 - val_loss: 1.4714 - val_acc: 0.7907\n",
            "Epoch 20/50\n",
            "20000/20000 [==============================] - 2s 123us/sample - loss: 0.0348 - acc: 0.9865 - val_loss: 1.5513 - val_acc: 0.7872\n",
            "Epoch 21/50\n",
            "20000/20000 [==============================] - 2s 123us/sample - loss: 0.0350 - acc: 0.9863 - val_loss: 1.5021 - val_acc: 0.7858\n",
            "Epoch 22/50\n",
            "20000/20000 [==============================] - 2s 121us/sample - loss: 0.0339 - acc: 0.9865 - val_loss: 1.5799 - val_acc: 0.7901\n",
            "Epoch 23/50\n",
            "20000/20000 [==============================] - 2s 123us/sample - loss: 0.0297 - acc: 0.9884 - val_loss: 1.6759 - val_acc: 0.7866\n",
            "Epoch 24/50\n",
            "20000/20000 [==============================] - 2s 121us/sample - loss: 0.0243 - acc: 0.9909 - val_loss: 1.8446 - val_acc: 0.7904\n",
            "Epoch 25/50\n",
            "20000/20000 [==============================] - 2s 121us/sample - loss: 0.0240 - acc: 0.9905 - val_loss: 1.8037 - val_acc: 0.7863\n",
            "Epoch 26/50\n",
            "20000/20000 [==============================] - 2s 123us/sample - loss: 0.0229 - acc: 0.9905 - val_loss: 1.8912 - val_acc: 0.7888\n",
            "Epoch 27/50\n",
            "20000/20000 [==============================] - 2s 120us/sample - loss: 0.0443 - acc: 0.9827 - val_loss: 1.8844 - val_acc: 0.7860\n",
            "Epoch 28/50\n",
            "20000/20000 [==============================] - 2s 122us/sample - loss: 0.0302 - acc: 0.9873 - val_loss: 1.8074 - val_acc: 0.7877\n",
            "Epoch 29/50\n",
            "20000/20000 [==============================] - 2s 120us/sample - loss: 0.0229 - acc: 0.9908 - val_loss: 1.8442 - val_acc: 0.7931\n",
            "Epoch 30/50\n",
            "20000/20000 [==============================] - 3s 127us/sample - loss: 0.0221 - acc: 0.9904 - val_loss: 1.9393 - val_acc: 0.7888\n",
            "Epoch 31/50\n",
            "20000/20000 [==============================] - 3s 127us/sample - loss: 0.0207 - acc: 0.9916 - val_loss: 1.9819 - val_acc: 0.7861\n",
            "Epoch 32/50\n",
            "20000/20000 [==============================] - 2s 122us/sample - loss: 0.0265 - acc: 0.9890 - val_loss: 2.1879 - val_acc: 0.7872\n",
            "Epoch 33/50\n",
            "20000/20000 [==============================] - 2s 124us/sample - loss: 0.0360 - acc: 0.9856 - val_loss: 2.0356 - val_acc: 0.7866\n",
            "Epoch 34/50\n",
            "20000/20000 [==============================] - 3s 126us/sample - loss: 0.0249 - acc: 0.9891 - val_loss: 2.0263 - val_acc: 0.7906\n",
            "Epoch 35/50\n",
            "20000/20000 [==============================] - 2s 124us/sample - loss: 0.0193 - acc: 0.9918 - val_loss: 2.1027 - val_acc: 0.7915\n",
            "Epoch 36/50\n",
            "20000/20000 [==============================] - 2s 125us/sample - loss: 0.0194 - acc: 0.9918 - val_loss: 2.0643 - val_acc: 0.7870\n",
            "Epoch 37/50\n",
            "20000/20000 [==============================] - 2s 124us/sample - loss: 0.0250 - acc: 0.9899 - val_loss: 2.2608 - val_acc: 0.7952\n",
            "Epoch 38/50\n",
            "20000/20000 [==============================] - 2s 121us/sample - loss: 0.0287 - acc: 0.9884 - val_loss: 2.1859 - val_acc: 0.7854\n",
            "Epoch 39/50\n",
            "20000/20000 [==============================] - 2s 124us/sample - loss: 0.0266 - acc: 0.9889 - val_loss: 2.3190 - val_acc: 0.7876\n",
            "Epoch 40/50\n",
            "20000/20000 [==============================] - 2s 124us/sample - loss: 0.0208 - acc: 0.9915 - val_loss: 2.3713 - val_acc: 0.7873\n",
            "Epoch 41/50\n",
            "20000/20000 [==============================] - 2s 124us/sample - loss: 0.0170 - acc: 0.9926 - val_loss: 2.4129 - val_acc: 0.7858\n",
            "Epoch 42/50\n",
            "20000/20000 [==============================] - 2s 123us/sample - loss: 0.0210 - acc: 0.9910 - val_loss: 2.2403 - val_acc: 0.7922\n",
            "Epoch 43/50\n",
            "20000/20000 [==============================] - 2s 125us/sample - loss: 0.0232 - acc: 0.9902 - val_loss: 2.3469 - val_acc: 0.7943\n",
            "Epoch 44/50\n",
            "20000/20000 [==============================] - 2s 123us/sample - loss: 0.0204 - acc: 0.9910 - val_loss: 2.3258 - val_acc: 0.7860\n",
            "Epoch 45/50\n",
            "20000/20000 [==============================] - 2s 123us/sample - loss: 0.0216 - acc: 0.9903 - val_loss: 2.4605 - val_acc: 0.7852\n",
            "Epoch 46/50\n",
            "20000/20000 [==============================] - 2s 122us/sample - loss: 0.0270 - acc: 0.9883 - val_loss: 2.3301 - val_acc: 0.7863\n",
            "Epoch 47/50\n",
            "20000/20000 [==============================] - 2s 122us/sample - loss: 0.0176 - acc: 0.9916 - val_loss: 2.4432 - val_acc: 0.7883\n",
            "Epoch 48/50\n",
            "20000/20000 [==============================] - 2s 121us/sample - loss: 0.0159 - acc: 0.9929 - val_loss: 2.5917 - val_acc: 0.7880\n",
            "Epoch 49/50\n",
            "20000/20000 [==============================] - 2s 122us/sample - loss: 0.0155 - acc: 0.9928 - val_loss: 2.7688 - val_acc: 0.7815\n",
            "Epoch 50/50\n",
            "20000/20000 [==============================] - 2s 122us/sample - loss: 0.0244 - acc: 0.9903 - val_loss: 2.4804 - val_acc: 0.7852\n"
          ],
          "name": "stdout"
        }
      ]
    },
    {
      "cell_type": "code",
      "metadata": {
        "id": "g9DC6dmLF8DC",
        "colab_type": "code",
        "colab": {
          "base_uri": "https://localhost:8080/",
          "height": 542
        },
        "outputId": "31bb6e34-2f02-468a-9908-846b67510aa8"
      },
      "source": [
        "import matplotlib.pyplot as plt\n",
        "\n",
        "\n",
        "def plot_graphs(history, string):\n",
        "  plt.plot(history.history[string])\n",
        "  plt.plot(history.history['val_'+string])\n",
        "  plt.xlabel(\"Epochs\")\n",
        "  plt.ylabel(string)\n",
        "  plt.legend([string, 'val_'+string])\n",
        "  plt.show()\n",
        "\n",
        "plot_graphs(history, 'acc')\n",
        "plot_graphs(history, 'loss')"
      ],
      "execution_count": 3,
      "outputs": [
        {
          "output_type": "display_data",
          "data": {
            "image/png": "[encoded data removed]",
            "text/plain": [
              "<Figure size 432x288 with 1 Axes>"
            ]
          },
          "metadata": {
            "tags": []
          }
        },
        {
          "output_type": "display_data",
          "data": {
            "image/png": "[encoded data removed]",
            "text/plain": [
              "<Figure size 432x288 with 1 Axes>"
            ]
          },
          "metadata": {
            "tags": []
          }
        }
      ]
    },
    {
      "cell_type": "code",
      "metadata": {
        "id": "7ZEZIUppGhdi",
        "colab_type": "code",
        "colab": {}
      },
      "source": [
        "model.save(\"test.h5\")"
      ],
      "execution_count": 0,
      "outputs": []
    }
  ]
}