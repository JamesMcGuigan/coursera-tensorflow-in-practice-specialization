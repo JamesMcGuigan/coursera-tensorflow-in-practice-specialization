{
  "nbformat": 4,
  "nbformat_minor": 0,
  "metadata": {
    "colab": {
      "name": "Course 3 - Week 3 - Lesson 2.ipynb",
      "provenance": [],
      "collapsed_sections": [],
      "include_colab_link": true
    },
    "kernelspec": {
      "name": "python3",
      "display_name": "Python 3"
    },
    "accelerator": "GPU"
  },
  "cells": [
    {
      "cell_type": "markdown",
      "metadata": {
        "id": "view-in-github",
        "colab_type": "text"
      },
      "source": [
        "<a href=\"https://colab.research.google.com/github/JamesMcGuigan/dlaicourse/blob/master/TensorFlow%20In%20Practice/Course%203%20-%20NLP/Course%203%20-%20Week%203%20-%20Lesson%202.ipynb\" target=\"_parent\"><img src=\"https://colab.research.google.com/assets/colab-badge.svg\" alt=\"Open In Colab\"/></a>"
      ]
    },
    {
      "cell_type": "code",
      "metadata": {
        "id": "jPr1-F_G9-2-",
        "colab_type": "code",
        "colab": {
          "base_uri": "https://localhost:8080/",
          "height": 612
        },
        "outputId": "8b5df47d-ca95-4910-d6a1-e1af350f400a"
      },
      "source": [
        "!pip install tensorflow==2.1.0"
      ],
      "execution_count": 1,
      "outputs": [
        {
          "output_type": "stream",
          "text": [
            "Requirement already satisfied: tensorflow==2.1.0 in /usr/local/lib/python3.6/dist-packages (2.1.0)\n",
            "Requirement already satisfied: gast==0.2.2 in /usr/local/lib/python3.6/dist-packages (from tensorflow==2.1.0) (0.2.2)\n",
            "Requirement already satisfied: opt-einsum>=2.3.2 in /usr/local/lib/python3.6/dist-packages (from tensorflow==2.1.0) (3.2.0)\n",
            "Requirement already satisfied: keras-applications>=1.0.8 in /usr/local/lib/python3.6/dist-packages (from tensorflow==2.1.0) (1.0.8)\n",
            "Requirement already satisfied: astor>=0.6.0 in /usr/local/lib/python3.6/dist-packages (from tensorflow==2.1.0) (0.8.1)\n",
            "Requirement already satisfied: tensorflow-estimator<2.2.0,>=2.1.0rc0 in /usr/local/lib/python3.6/dist-packages (from tensorflow==2.1.0) (2.1.0)\n",
            "Requirement already satisfied: keras-preprocessing>=1.1.0 in /usr/local/lib/python3.6/dist-packages (from tensorflow==2.1.0) (1.1.0)\n",
            "Requirement already satisfied: termcolor>=1.1.0 in /usr/local/lib/python3.6/dist-packages (from tensorflow==2.1.0) (1.1.0)\n",
            "Requirement already satisfied: numpy<2.0,>=1.16.0 in /usr/local/lib/python3.6/dist-packages (from tensorflow==2.1.0) (1.18.2)\n",
            "Requirement already satisfied: wrapt>=1.11.1 in /usr/local/lib/python3.6/dist-packages (from tensorflow==2.1.0) (1.12.1)\n",
            "Requirement already satisfied: scipy==1.4.1; python_version >= \"3\" in /usr/local/lib/python3.6/dist-packages (from tensorflow==2.1.0) (1.4.1)\n",
            "Requirement already satisfied: wheel>=0.26; python_version >= \"3\" in /usr/local/lib/python3.6/dist-packages (from tensorflow==2.1.0) (0.34.2)\n",
            "Requirement already satisfied: absl-py>=0.7.0 in /usr/local/lib/python3.6/dist-packages (from tensorflow==2.1.0) (0.9.0)\n",
            "Requirement already satisfied: six>=1.12.0 in /usr/local/lib/python3.6/dist-packages (from tensorflow==2.1.0) (1.12.0)\n",
            "Requirement already satisfied: grpcio>=1.8.6 in /usr/local/lib/python3.6/dist-packages (from tensorflow==2.1.0) (1.24.3)\n",
            "Requirement already satisfied: google-pasta>=0.1.6 in /usr/local/lib/python3.6/dist-packages (from tensorflow==2.1.0) (0.2.0)\n",
            "Requirement already satisfied: tensorboard<2.2.0,>=2.1.0 in /usr/local/lib/python3.6/dist-packages (from tensorflow==2.1.0) (2.1.1)\n",
            "Requirement already satisfied: protobuf>=3.8.0 in /usr/local/lib/python3.6/dist-packages (from tensorflow==2.1.0) (3.10.0)\n",
            "Requirement already satisfied: h5py in /usr/local/lib/python3.6/dist-packages (from keras-applications>=1.0.8->tensorflow==2.1.0) (2.8.0)\n",
            "Requirement already satisfied: markdown>=2.6.8 in /usr/local/lib/python3.6/dist-packages (from tensorboard<2.2.0,>=2.1.0->tensorflow==2.1.0) (3.2.1)\n",
            "Requirement already satisfied: google-auth<2,>=1.6.3 in /usr/local/lib/python3.6/dist-packages (from tensorboard<2.2.0,>=2.1.0->tensorflow==2.1.0) (1.7.2)\n",
            "Requirement already satisfied: requests<3,>=2.21.0 in /usr/local/lib/python3.6/dist-packages (from tensorboard<2.2.0,>=2.1.0->tensorflow==2.1.0) (2.21.0)\n",
            "Requirement already satisfied: google-auth-oauthlib<0.5,>=0.4.1 in /usr/local/lib/python3.6/dist-packages (from tensorboard<2.2.0,>=2.1.0->tensorflow==2.1.0) (0.4.1)\n",
            "Requirement already satisfied: setuptools>=41.0.0 in /usr/local/lib/python3.6/dist-packages (from tensorboard<2.2.0,>=2.1.0->tensorflow==2.1.0) (46.0.0)\n",
            "Requirement already satisfied: werkzeug>=0.11.15 in /usr/local/lib/python3.6/dist-packages (from tensorboard<2.2.0,>=2.1.0->tensorflow==2.1.0) (1.0.0)\n",
            "Requirement already satisfied: pyasn1-modules>=0.2.1 in /usr/local/lib/python3.6/dist-packages (from google-auth<2,>=1.6.3->tensorboard<2.2.0,>=2.1.0->tensorflow==2.1.0) (0.2.8)\n",
            "Requirement already satisfied: cachetools<3.2,>=2.0.0 in /usr/local/lib/python3.6/dist-packages (from google-auth<2,>=1.6.3->tensorboard<2.2.0,>=2.1.0->tensorflow==2.1.0) (3.1.1)\n",
            "Requirement already satisfied: rsa<4.1,>=3.1.4 in /usr/local/lib/python3.6/dist-packages (from google-auth<2,>=1.6.3->tensorboard<2.2.0,>=2.1.0->tensorflow==2.1.0) (4.0)\n",
            "Requirement already satisfied: chardet<3.1.0,>=3.0.2 in /usr/local/lib/python3.6/dist-packages (from requests<3,>=2.21.0->tensorboard<2.2.0,>=2.1.0->tensorflow==2.1.0) (3.0.4)\n",
            "Requirement already satisfied: idna<2.9,>=2.5 in /usr/local/lib/python3.6/dist-packages (from requests<3,>=2.21.0->tensorboard<2.2.0,>=2.1.0->tensorflow==2.1.0) (2.8)\n",
            "Requirement already satisfied: certifi>=2017.4.17 in /usr/local/lib/python3.6/dist-packages (from requests<3,>=2.21.0->tensorboard<2.2.0,>=2.1.0->tensorflow==2.1.0) (2019.11.28)\n",
            "Requirement already satisfied: urllib3<1.25,>=1.21.1 in /usr/local/lib/python3.6/dist-packages (from requests<3,>=2.21.0->tensorboard<2.2.0,>=2.1.0->tensorflow==2.1.0) (1.24.3)\n",
            "Requirement already satisfied: requests-oauthlib>=0.7.0 in /usr/local/lib/python3.6/dist-packages (from google-auth-oauthlib<0.5,>=0.4.1->tensorboard<2.2.0,>=2.1.0->tensorflow==2.1.0) (1.3.0)\n",
            "Requirement already satisfied: pyasn1<0.5.0,>=0.4.6 in /usr/local/lib/python3.6/dist-packages (from pyasn1-modules>=0.2.1->google-auth<2,>=1.6.3->tensorboard<2.2.0,>=2.1.0->tensorflow==2.1.0) (0.4.8)\n",
            "Requirement already satisfied: oauthlib>=3.0.0 in /usr/local/lib/python3.6/dist-packages (from requests-oauthlib>=0.7.0->google-auth-oauthlib<0.5,>=0.4.1->tensorboard<2.2.0,>=2.1.0->tensorflow==2.1.0) (3.1.0)\n"
          ],
          "name": "stdout"
        }
      ]
    },
    {
      "cell_type": "code",
      "metadata": {
        "id": "jGwXGIXvFhXW",
        "colab_type": "code",
        "colab": {
          "base_uri": "https://localhost:8080/",
          "height": 1000
        },
        "outputId": "c8fd40c0-471b-47b2-84ce-252489e0ec72"
      },
      "source": [
        "import json\n",
        "import tensorflow as tf\n",
        "import numpy as np \n",
        "\n",
        "from tensorflow.keras.preprocessing.text import Tokenizer\n",
        "from tensorflow.keras.preprocessing.sequence import pad_sequences\n",
        "\n",
        "!wget -c --no-check-certificate \\\n",
        "    https://storage.googleapis.com/laurencemoroney-blog.appspot.com/sarcasm.json \\\n",
        "    -O /tmp/sarcasm.json\n",
        "\n",
        "vocab_size    = 1000\n",
        "embedding_dim = 16\n",
        "max_length    = 120\n",
        "trunc_type    = 'post'\n",
        "padding_type  = 'post'\n",
        "oov_tok       = \"<OOV>\"\n",
        "training_size = 20000\n",
        "\n",
        "\n",
        "with open(\"/tmp/sarcasm.json\", 'r') as f:\n",
        "    datastore = json.load(f)\n",
        "\n",
        "\n",
        "sentences = []\n",
        "labels = []\n",
        "urls = []\n",
        "for item in datastore:\n",
        "    sentences.append(item['headline'])\n",
        "    labels.append(item['is_sarcastic'])\n",
        "\n",
        "training_sentences = sentences[0:training_size]\n",
        "testing_sentences  = sentences[training_size:]\n",
        "training_labels    = labels[0:training_size]\n",
        "testing_labels     = labels[training_size:]\n",
        "\n",
        "tokenizer = Tokenizer(num_words=vocab_size, oov_token=oov_tok)\n",
        "tokenizer.fit_on_texts(training_sentences)\n",
        "\n",
        "word_index = tokenizer.word_index\n",
        "\n",
        "training_sequences = tokenizer.texts_to_sequences(training_sentences)\n",
        "training_padded    = pad_sequences(training_sequences, maxlen=max_length, padding=padding_type, truncating=trunc_type)\n",
        "\n",
        "testing_sequences  = tokenizer.texts_to_sequences(testing_sentences)\n",
        "testing_padded     = pad_sequences(testing_sequences, maxlen=max_length, padding=padding_type, truncating=trunc_type)\n",
        "\n",
        "model = tf.keras.Sequential([\n",
        "    tf.keras.layers.Embedding(vocab_size, embedding_dim, input_length=max_length),\n",
        "    tf.keras.layers.Bidirectional(tf.keras.layers.LSTM(32)),\n",
        "    tf.keras.layers.Dense(24, activation='relu'),\n",
        "    tf.keras.layers.Dense(1, activation='sigmoid')\n",
        "])\n",
        "model.compile(loss='binary_crossentropy',optimizer='adam',metrics=['accuracy'])\n",
        "model.summary()\n",
        "\n",
        "num_epochs = 50\n",
        "training_padded = np.array(training_padded)\n",
        "training_labels = np.array(training_labels)\n",
        "testing_padded  = np.array(testing_padded)\n",
        "testing_labels  = np.array(testing_labels)\n",
        "history = model.fit(training_padded, training_labels, epochs=num_epochs, validation_data=(testing_padded, testing_labels), verbose=1)\n",
        "\n"
      ],
      "execution_count": 2,
      "outputs": [
        {
          "output_type": "stream",
          "text": [
            "--2020-03-24 23:56:43--  https://storage.googleapis.com/laurencemoroney-blog.appspot.com/sarcasm.json\n",
            "Resolving storage.googleapis.com (storage.googleapis.com)... 108.177.119.128, 2a00:1450:4013:c00::80\n",
            "Connecting to storage.googleapis.com (storage.googleapis.com)|108.177.119.128|:443... connected.\n",
            "HTTP request sent, awaiting response... 416 Requested range not satisfiable\n",
            "\n",
            "    The file is already fully retrieved; nothing to do.\n",
            "\n",
            "Model: \"sequential\"\n",
            "_________________________________________________________________\n",
            "Layer (type)                 Output Shape              Param #   \n",
            "=================================================================\n",
            "embedding (Embedding)        (None, 120, 16)           16000     \n",
            "_________________________________________________________________\n",
            "bidirectional (Bidirectional (None, 64)                12544     \n",
            "_________________________________________________________________\n",
            "dense (Dense)                (None, 24)                1560      \n",
            "_________________________________________________________________\n",
            "dense_1 (Dense)              (None, 1)                 25        \n",
            "=================================================================\n",
            "Total params: 30,129\n",
            "Trainable params: 30,129\n",
            "Non-trainable params: 0\n",
            "_________________________________________________________________\n",
            "Train on 20000 samples, validate on 6709 samples\n",
            "Epoch 1/50\n",
            "20000/20000 [==============================] - 16s 802us/sample - loss: 0.4512 - accuracy: 0.7735 - val_loss: 0.3869 - val_accuracy: 0.8198\n",
            "Epoch 2/50\n",
            "20000/20000 [==============================] - 9s 463us/sample - loss: 0.3518 - accuracy: 0.8383 - val_loss: 0.3746 - val_accuracy: 0.8271\n",
            "Epoch 3/50\n",
            "20000/20000 [==============================] - 9s 465us/sample - loss: 0.3263 - accuracy: 0.8526 - val_loss: 0.3741 - val_accuracy: 0.8320\n",
            "Epoch 4/50\n",
            "20000/20000 [==============================] - 9s 463us/sample - loss: 0.3090 - accuracy: 0.8650 - val_loss: 0.3766 - val_accuracy: 0.8295\n",
            "Epoch 5/50\n",
            "20000/20000 [==============================] - 9s 462us/sample - loss: 0.2965 - accuracy: 0.8688 - val_loss: 0.3774 - val_accuracy: 0.8302\n",
            "Epoch 6/50\n",
            "20000/20000 [==============================] - 9s 463us/sample - loss: 0.2862 - accuracy: 0.8749 - val_loss: 0.3808 - val_accuracy: 0.8328\n",
            "Epoch 7/50\n",
            "20000/20000 [==============================] - 9s 465us/sample - loss: 0.2766 - accuracy: 0.8784 - val_loss: 0.3804 - val_accuracy: 0.8322\n",
            "Epoch 8/50\n",
            "20000/20000 [==============================] - 9s 463us/sample - loss: 0.2697 - accuracy: 0.8828 - val_loss: 0.3909 - val_accuracy: 0.8292\n",
            "Epoch 9/50\n",
            "20000/20000 [==============================] - 9s 463us/sample - loss: 0.2636 - accuracy: 0.8846 - val_loss: 0.3964 - val_accuracy: 0.8271\n",
            "Epoch 10/50\n",
            "20000/20000 [==============================] - 9s 466us/sample - loss: 0.2562 - accuracy: 0.8881 - val_loss: 0.3937 - val_accuracy: 0.8225\n",
            "Epoch 11/50\n",
            "20000/20000 [==============================] - 9s 465us/sample - loss: 0.2469 - accuracy: 0.8950 - val_loss: 0.4135 - val_accuracy: 0.8238\n",
            "Epoch 12/50\n",
            "20000/20000 [==============================] - 9s 466us/sample - loss: 0.2398 - accuracy: 0.8981 - val_loss: 0.4254 - val_accuracy: 0.8232\n",
            "Epoch 13/50\n",
            "20000/20000 [==============================] - 9s 465us/sample - loss: 0.2327 - accuracy: 0.9007 - val_loss: 0.4154 - val_accuracy: 0.8220\n",
            "Epoch 14/50\n",
            "20000/20000 [==============================] - 9s 460us/sample - loss: 0.2262 - accuracy: 0.9052 - val_loss: 0.4773 - val_accuracy: 0.8185\n",
            "Epoch 15/50\n",
            "20000/20000 [==============================] - 9s 462us/sample - loss: 0.2216 - accuracy: 0.9062 - val_loss: 0.4572 - val_accuracy: 0.8168\n",
            "Epoch 16/50\n",
            "20000/20000 [==============================] - 9s 462us/sample - loss: 0.2113 - accuracy: 0.9117 - val_loss: 0.4542 - val_accuracy: 0.8223\n",
            "Epoch 17/50\n",
            "20000/20000 [==============================] - 9s 461us/sample - loss: 0.2075 - accuracy: 0.9147 - val_loss: 0.4653 - val_accuracy: 0.8177\n",
            "Epoch 18/50\n",
            "20000/20000 [==============================] - 9s 465us/sample - loss: 0.1989 - accuracy: 0.9184 - val_loss: 0.4879 - val_accuracy: 0.8186\n",
            "Epoch 19/50\n",
            "20000/20000 [==============================] - 9s 470us/sample - loss: 0.1918 - accuracy: 0.9222 - val_loss: 0.5159 - val_accuracy: 0.8222\n",
            "Epoch 20/50\n",
            "20000/20000 [==============================] - 9s 459us/sample - loss: 0.1834 - accuracy: 0.9255 - val_loss: 0.5895 - val_accuracy: 0.8104\n",
            "Epoch 21/50\n",
            "20000/20000 [==============================] - 9s 459us/sample - loss: 0.1756 - accuracy: 0.9298 - val_loss: 0.6310 - val_accuracy: 0.8149\n",
            "Epoch 22/50\n",
            "20000/20000 [==============================] - 9s 458us/sample - loss: 0.1689 - accuracy: 0.9313 - val_loss: 0.6001 - val_accuracy: 0.8174\n",
            "Epoch 23/50\n",
            "20000/20000 [==============================] - 9s 467us/sample - loss: 0.1618 - accuracy: 0.9350 - val_loss: 0.5973 - val_accuracy: 0.8101\n",
            "Epoch 24/50\n",
            "20000/20000 [==============================] - 9s 473us/sample - loss: 0.1555 - accuracy: 0.9362 - val_loss: 0.6966 - val_accuracy: 0.8156\n",
            "Epoch 25/50\n",
            "20000/20000 [==============================] - 9s 462us/sample - loss: 0.1486 - accuracy: 0.9395 - val_loss: 0.6950 - val_accuracy: 0.8149\n",
            "Epoch 26/50\n",
            "20000/20000 [==============================] - 9s 461us/sample - loss: 0.1421 - accuracy: 0.9416 - val_loss: 0.7533 - val_accuracy: 0.8126\n",
            "Epoch 27/50\n",
            "20000/20000 [==============================] - 9s 465us/sample - loss: 0.1357 - accuracy: 0.9445 - val_loss: 0.8004 - val_accuracy: 0.8064\n",
            "Epoch 28/50\n",
            "20000/20000 [==============================] - 9s 463us/sample - loss: 0.1275 - accuracy: 0.9467 - val_loss: 0.8623 - val_accuracy: 0.8097\n",
            "Epoch 29/50\n",
            "20000/20000 [==============================] - 9s 461us/sample - loss: 0.1188 - accuracy: 0.9503 - val_loss: 0.8594 - val_accuracy: 0.8106\n",
            "Epoch 30/50\n",
            "20000/20000 [==============================] - 9s 456us/sample - loss: 0.1189 - accuracy: 0.9484 - val_loss: 1.0122 - val_accuracy: 0.8070\n",
            "Epoch 31/50\n",
            "20000/20000 [==============================] - 9s 461us/sample - loss: 0.1114 - accuracy: 0.9532 - val_loss: 1.0371 - val_accuracy: 0.8132\n",
            "Epoch 32/50\n",
            "20000/20000 [==============================] - 9s 465us/sample - loss: 0.1110 - accuracy: 0.9538 - val_loss: 1.0079 - val_accuracy: 0.8094\n",
            "Epoch 33/50\n",
            "20000/20000 [==============================] - 9s 460us/sample - loss: 0.0992 - accuracy: 0.9584 - val_loss: 1.0845 - val_accuracy: 0.8143\n",
            "Epoch 34/50\n",
            "20000/20000 [==============================] - 9s 460us/sample - loss: 0.0999 - accuracy: 0.9573 - val_loss: 1.2350 - val_accuracy: 0.8076\n",
            "Epoch 35/50\n",
            "20000/20000 [==============================] - 9s 461us/sample - loss: 0.0977 - accuracy: 0.9574 - val_loss: 1.1694 - val_accuracy: 0.8000\n",
            "Epoch 36/50\n",
            "20000/20000 [==============================] - 9s 464us/sample - loss: 0.0894 - accuracy: 0.9613 - val_loss: 1.1973 - val_accuracy: 0.8089\n",
            "Epoch 37/50\n",
            "20000/20000 [==============================] - 9s 462us/sample - loss: 0.0846 - accuracy: 0.9632 - val_loss: 1.3294 - val_accuracy: 0.8065\n",
            "Epoch 38/50\n",
            "20000/20000 [==============================] - 9s 459us/sample - loss: 0.0833 - accuracy: 0.9631 - val_loss: 1.3917 - val_accuracy: 0.8079\n",
            "Epoch 39/50\n",
            "20000/20000 [==============================] - 9s 469us/sample - loss: 0.0870 - accuracy: 0.9612 - val_loss: 1.3520 - val_accuracy: 0.8050\n",
            "Epoch 40/50\n",
            "20000/20000 [==============================] - 9s 465us/sample - loss: 0.0797 - accuracy: 0.9636 - val_loss: 1.3051 - val_accuracy: 0.8022\n",
            "Epoch 41/50\n",
            "20000/20000 [==============================] - 9s 461us/sample - loss: 0.0749 - accuracy: 0.9667 - val_loss: 1.3623 - val_accuracy: 0.8016\n",
            "Epoch 42/50\n",
            "20000/20000 [==============================] - 9s 461us/sample - loss: 0.0695 - accuracy: 0.9686 - val_loss: 1.6216 - val_accuracy: 0.8010\n",
            "Epoch 43/50\n",
            "20000/20000 [==============================] - 9s 465us/sample - loss: 0.0699 - accuracy: 0.9681 - val_loss: 1.5365 - val_accuracy: 0.8027\n",
            "Epoch 44/50\n",
            "20000/20000 [==============================] - 9s 463us/sample - loss: 0.0779 - accuracy: 0.9655 - val_loss: 1.5838 - val_accuracy: 0.7927\n",
            "Epoch 45/50\n",
            "20000/20000 [==============================] - 9s 465us/sample - loss: 0.0706 - accuracy: 0.9679 - val_loss: 1.5458 - val_accuracy: 0.8001\n",
            "Epoch 46/50\n",
            "20000/20000 [==============================] - 9s 462us/sample - loss: 0.0638 - accuracy: 0.9700 - val_loss: 1.5177 - val_accuracy: 0.8000\n",
            "Epoch 47/50\n",
            "20000/20000 [==============================] - 9s 457us/sample - loss: 0.0585 - accuracy: 0.9724 - val_loss: 1.7232 - val_accuracy: 0.8021\n",
            "Epoch 48/50\n",
            "20000/20000 [==============================] - 9s 458us/sample - loss: 0.0570 - accuracy: 0.9729 - val_loss: 1.8994 - val_accuracy: 0.8022\n",
            "Epoch 49/50\n",
            "20000/20000 [==============================] - 9s 465us/sample - loss: 0.0604 - accuracy: 0.9719 - val_loss: 2.0043 - val_accuracy: 0.7958\n",
            "Epoch 50/50\n",
            "20000/20000 [==============================] - 9s 464us/sample - loss: 0.0634 - accuracy: 0.9704 - val_loss: 1.7460 - val_accuracy: 0.8004\n"
          ],
          "name": "stdout"
        }
      ]
    },
    {
      "cell_type": "code",
      "metadata": {
        "id": "g9DC6dmLF8DC",
        "colab_type": "code",
        "colab": {
          "base_uri": "https://localhost:8080/",
          "height": 541
        },
        "outputId": "055a7469-2313-422b-d1e1-abef6f722738"
      },
      "source": [
        "import matplotlib.pyplot as plt\n",
        "\n",
        "\n",
        "def plot_graphs(history, string):\n",
        "  plt.plot(history.history[string])\n",
        "  plt.plot(history.history['val_'+string])\n",
        "  plt.xlabel(\"Epochs\")\n",
        "  plt.ylabel(string)\n",
        "  plt.legend([string, 'val_'+string])\n",
        "  plt.show()\n",
        "\n",
        "plot_graphs(history, 'accuracy')\n",
        "plot_graphs(history, 'loss')"
      ],
      "execution_count": 4,
      "outputs": [
        {
          "output_type": "display_data",
          "data": {
            "image/png": "[encoded data removed]",
            "text/plain": [
              "<Figure size 432x288 with 1 Axes>"
            ]
          },
          "metadata": {
            "tags": []
          }
        },
        {
          "output_type": "display_data",
          "data": {
            "image/png": "[encoded data removed]",
            "text/plain": [
              "<Figure size 432x288 with 1 Axes>"
            ]
          },
          "metadata": {
            "tags": []
          }
        }
      ]
    },
    {
      "cell_type": "code",
      "metadata": {
        "id": "7ZEZIUppGhdi",
        "colab_type": "code",
        "colab": {}
      },
      "source": [
        "model.save(\"test.h5\")"
      ],
      "execution_count": 0,
      "outputs": []
    }
  ]
}