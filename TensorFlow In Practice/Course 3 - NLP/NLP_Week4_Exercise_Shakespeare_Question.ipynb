{
  "nbformat": 4,
  "nbformat_minor": 0,
  "metadata": {
    "colab": {
      "name": "NLP-Week4-Exercise-Shakespeare-Question.ipynb",
      "provenance": [],
      "include_colab_link": true
    },
    "kernelspec": {
      "name": "python3",
      "display_name": "Python 3"
    },
    "accelerator": "GPU"
  },
  "cells": [
    {
      "cell_type": "markdown",
      "metadata": {
        "id": "view-in-github",
        "colab_type": "text"
      },
      "source": [
        "<a href=\"https://colab.research.google.com/github/JamesMcGuigan/dlaicourse/blob/master/TensorFlow%20In%20Practice/Course%203%20-%20NLP/NLP_Week4_Exercise_Shakespeare_Question.ipynb\" target=\"_parent\"><img src=\"https://colab.research.google.com/assets/colab-badge.svg\" alt=\"Open In Colab\"/></a>"
      ]
    },
    {
      "cell_type": "code",
      "metadata": {
        "id": "rerwp4bGcm06",
        "colab_type": "code",
        "colab": {}
      },
      "source": [
        "!pip install tensorflow==2.1.0 -q"
      ],
      "execution_count": 0,
      "outputs": []
    },
    {
      "cell_type": "code",
      "metadata": {
        "id": "BOwsuGQQY9OL",
        "colab_type": "code",
        "colab": {}
      },
      "source": [
        "from tensorflow.keras.preprocessing.sequence import pad_sequences\n",
        "from tensorflow.keras.layers import Embedding, LSTM, Dense, Dropout, Bidirectional\n",
        "from tensorflow.keras.preprocessing.text import Tokenizer\n",
        "from tensorflow.keras.models import Sequential\n",
        "from tensorflow.keras.optimizers import Adam\n",
        "from tensorflow.keras.regularizers import l1, l2\n",
        "import tensorflow.keras.utils as ku \n",
        "import tensorflow as tf\n",
        "import numpy as np "
      ],
      "execution_count": 0,
      "outputs": []
    },
    {
      "cell_type": "code",
      "metadata": {
        "colab_type": "code",
        "id": "PRnDnCW-Z7qv",
        "colab": {
          "base_uri": "https://localhost:8080/",
          "height": 204
        },
        "outputId": "aa7128a4-198f-4a0a-81f7-9396218d91d2"
      },
      "source": [
        "tokenizer = Tokenizer()\n",
        "!wget -c --no-check-certificate \\\n",
        "    https://storage.googleapis.com/laurencemoroney-blog.appspot.com/sonnets.txt \\\n",
        "    -O /tmp/sonnets.txt\n",
        "data = open('/tmp/sonnets.txt').read()\n",
        "\n",
        "corpus = data.lower().split(\"\\n\")\n",
        "\n",
        "\n",
        "tokenizer.fit_on_texts(corpus)\n",
        "total_words = len(tokenizer.word_index) + 1\n",
        "\n",
        "# create input sequences using list of tokens\n",
        "input_sequences = []\n",
        "for line in corpus:\n",
        "\ttoken_list = tokenizer.texts_to_sequences([line])[0]\n",
        "\tfor i in range(1, len(token_list)):\n",
        "\t\tn_gram_sequence = token_list[:i+1]\n",
        "\t\tinput_sequences.append(n_gram_sequence)\n",
        "\n",
        "\n",
        "# pad sequences \n",
        "max_sequence_len = max([len(x) for x in input_sequences])\n",
        "input_sequences = np.array(pad_sequences(input_sequences, maxlen=max_sequence_len, padding='pre'))\n",
        "\n",
        "# create predictors and label\n",
        "predictors, label = input_sequences[:,:-1],input_sequences[:,-1]\n",
        "\n",
        "label = ku.to_categorical(label, num_classes=total_words)"
      ],
      "execution_count": 3,
      "outputs": [
        {
          "output_type": "stream",
          "text": [
            "--2020-03-26 03:27:54--  https://storage.googleapis.com/laurencemoroney-blog.appspot.com/sonnets.txt\n",
            "Resolving storage.googleapis.com (storage.googleapis.com)... 74.125.28.128, 2607:f8b0:400e:c07::80\n",
            "Connecting to storage.googleapis.com (storage.googleapis.com)|74.125.28.128|:443... connected.\n",
            "HTTP request sent, awaiting response... 200 OK\n",
            "Length: 93578 (91K) [text/plain]\n",
            "Saving to: ‘/tmp/sonnets.txt’\n",
            "\n",
            "\r/tmp/sonnets.txt      0%[                    ]       0  --.-KB/s               \r/tmp/sonnets.txt    100%[===================>]  91.38K  --.-KB/s    in 0.001s  \n",
            "\n",
            "2020-03-26 03:27:55 (115 MB/s) - ‘/tmp/sonnets.txt’ saved [93578/93578]\n",
            "\n"
          ],
          "name": "stdout"
        }
      ]
    },
    {
      "cell_type": "code",
      "metadata": {
        "id": "S1Ke_JNCicXa",
        "colab_type": "code",
        "colab": {
          "base_uri": "https://localhost:8080/",
          "height": 34
        },
        "outputId": "0d0c11e2-12bf-4fc5-d68a-9eafe0fb78f6"
      },
      "source": [
        "label.shape"
      ],
      "execution_count": 4,
      "outputs": [
        {
          "output_type": "execute_result",
          "data": {
            "text/plain": [
              "(15462, 3211)"
            ]
          },
          "metadata": {
            "tags": []
          },
          "execution_count": 4
        }
      ]
    },
    {
      "cell_type": "code",
      "metadata": {
        "id": "w9vH8Y59ajYL",
        "colab_type": "code",
        "colab": {
          "base_uri": "https://localhost:8080/",
          "height": 510
        },
        "outputId": "ac77b3c0-e8c5-49c3-e2b3-aa49fbb3c735"
      },
      "source": [
        "model = Sequential()\n",
        "model.add(tf.keras.layers.Embedding(total_words, 100, trainable=False))\n",
        "model.add(tf.keras.layers.Bidirectional(tf.keras.layers.LSTM(256, activation='relu', return_sequences=True)))\n",
        "model.add(tf.keras.layers.Dropout(0.25))\n",
        "model.add(tf.keras.layers.Bidirectional(tf.keras.layers.LSTM(256, activation='relu', return_sequences=True)))\n",
        "model.add(tf.keras.layers.Dropout(0.25))\n",
        "model.add(tf.keras.layers.LSTM(256, activation='relu'))\n",
        "model.add(tf.keras.layers.Flatten())\n",
        "model.add(tf.keras.layers.Dense(total_words/2, activation='relu', kernel_regularizer=l2(0.01)))\n",
        "model.add(tf.keras.layers.Dense(total_words/2, activation='relu', kernel_regularizer=l2(0.01)))\n",
        "model.add(tf.keras.layers.Dense(total_words, activation='softmax'))\n",
        "\n",
        "model.compile(\n",
        "    optimizer=tf.keras.optimizers.Adam(0.01), \n",
        "    loss=tf.keras.losses.CategoricalCrossentropy(), \n",
        "    metrics=['accuracy']\n",
        ")\n",
        "print(model.summary())"
      ],
      "execution_count": 9,
      "outputs": [
        {
          "output_type": "stream",
          "text": [
            "Model: \"sequential_2\"\n",
            "_________________________________________________________________\n",
            "Layer (type)                 Output Shape              Param #   \n",
            "=================================================================\n",
            "embedding_2 (Embedding)      (None, None, 100)         321100    \n",
            "_________________________________________________________________\n",
            "bidirectional_3 (Bidirection (None, None, 512)         731136    \n",
            "_________________________________________________________________\n",
            "dropout_2 (Dropout)          (None, None, 512)         0         \n",
            "_________________________________________________________________\n",
            "bidirectional_4 (Bidirection (None, None, 512)         1574912   \n",
            "_________________________________________________________________\n",
            "dropout_3 (Dropout)          (None, None, 512)         0         \n",
            "_________________________________________________________________\n",
            "lstm_6 (LSTM)                (None, 256)               787456    \n",
            "_________________________________________________________________\n",
            "flatten_2 (Flatten)          (None, 256)               0         \n",
            "_________________________________________________________________\n",
            "dense_4 (Dense)              (None, 1605)              412485    \n",
            "_________________________________________________________________\n",
            "dense_5 (Dense)              (None, 1605)              2577630   \n",
            "_________________________________________________________________\n",
            "dense_6 (Dense)              (None, 3211)              5156866   \n",
            "=================================================================\n",
            "Total params: 11,561,585\n",
            "Trainable params: 11,240,485\n",
            "Non-trainable params: 321,100\n",
            "_________________________________________________________________\n",
            "None\n"
          ],
          "name": "stdout"
        }
      ]
    },
    {
      "cell_type": "code",
      "metadata": {
        "id": "AIg2f1HBxqof",
        "colab_type": "code",
        "colab": {
          "base_uri": "https://localhost:8080/",
          "height": 1000
        },
        "outputId": "775d4008-1448-446f-ccc1-23b702b5d250"
      },
      "source": [
        "history = model.fit(predictors, label, epochs=100, verbose=1)"
      ],
      "execution_count": 10,
      "outputs": [
        {
          "output_type": "stream",
          "text": [
            "Train on 15462 samples\n",
            "Epoch 1/100\n",
            "15462/15462 [==============================] - 24s 2ms/sample - loss: 38.8107 - accuracy: 0.0213\n",
            "Epoch 2/100\n",
            "15462/15462 [==============================] - 21s 1ms/sample - loss: 12.5671 - accuracy: 0.0215\n",
            "Epoch 3/100\n",
            "15462/15462 [==============================] - 21s 1ms/sample - loss: 9.7246 - accuracy: 0.0205\n",
            "Epoch 4/100\n",
            "15462/15462 [==============================] - 21s 1ms/sample - loss: 8.2180 - accuracy: 0.0208\n",
            "Epoch 5/100\n",
            "15462/15462 [==============================] - 20s 1ms/sample - loss: 7.4116 - accuracy: 0.0212\n",
            "Epoch 6/100\n",
            "15462/15462 [==============================] - 20s 1ms/sample - loss: 6.9916 - accuracy: 0.0196\n",
            "Epoch 7/100\n",
            "15462/15462 [==============================] - 21s 1ms/sample - loss: 6.7751 - accuracy: 0.0224\n",
            "Epoch 8/100\n",
            "15462/15462 [==============================] - 20s 1ms/sample - loss: 6.6657 - accuracy: 0.0221\n",
            "Epoch 9/100\n",
            "15462/15462 [==============================] - 20s 1ms/sample - loss: 6.6091 - accuracy: 0.0206\n",
            "Epoch 10/100\n",
            "15462/15462 [==============================] - 20s 1ms/sample - loss: 6.5815 - accuracy: 0.0234\n",
            "Epoch 11/100\n",
            "15462/15462 [==============================] - 20s 1ms/sample - loss: 6.5685 - accuracy: 0.0222\n",
            "Epoch 12/100\n",
            "15462/15462 [==============================] - 21s 1ms/sample - loss: 6.5635 - accuracy: 0.0204\n",
            "Epoch 13/100\n",
            "15462/15462 [==============================] - 20s 1ms/sample - loss: 6.5602 - accuracy: 0.0224\n",
            "Epoch 14/100\n",
            "15462/15462 [==============================] - 20s 1ms/sample - loss: 6.5580 - accuracy: 0.0228\n",
            "Epoch 15/100\n",
            "15462/15462 [==============================] - 21s 1ms/sample - loss: 6.5591 - accuracy: 0.0211\n",
            "Epoch 16/100\n",
            "15462/15462 [==============================] - 20s 1ms/sample - loss: 6.5576 - accuracy: 0.0221\n",
            "Epoch 17/100\n",
            "15462/15462 [==============================] - 20s 1ms/sample - loss: 6.5568 - accuracy: 0.0217\n",
            "Epoch 18/100\n",
            "15462/15462 [==============================] - 20s 1ms/sample - loss: 6.5554 - accuracy: 0.0224\n",
            "Epoch 19/100\n",
            "15462/15462 [==============================] - 21s 1ms/sample - loss: 6.5552 - accuracy: 0.0213\n",
            "Epoch 20/100\n",
            "15462/15462 [==============================] - 20s 1ms/sample - loss: 6.5540 - accuracy: 0.0222\n",
            "Epoch 21/100\n",
            "15462/15462 [==============================] - 20s 1ms/sample - loss: 6.5549 - accuracy: 0.0220\n",
            "Epoch 22/100\n",
            "15462/15462 [==============================] - 20s 1ms/sample - loss: 6.5535 - accuracy: 0.0226\n",
            "Epoch 23/100\n",
            "15462/15462 [==============================] - 20s 1ms/sample - loss: 6.5518 - accuracy: 0.0204\n",
            "Epoch 24/100\n",
            "15462/15462 [==============================] - 20s 1ms/sample - loss: 6.5503 - accuracy: 0.0208\n",
            "Epoch 25/100\n",
            "15462/15462 [==============================] - 20s 1ms/sample - loss: 6.5500 - accuracy: 0.0210\n",
            "Epoch 26/100\n",
            "15462/15462 [==============================] - 20s 1ms/sample - loss: 6.5501 - accuracy: 0.0226\n",
            "Epoch 27/100\n",
            "15462/15462 [==============================] - 20s 1ms/sample - loss: 6.5489 - accuracy: 0.0226\n",
            "Epoch 28/100\n",
            "15462/15462 [==============================] - 20s 1ms/sample - loss: 6.5471 - accuracy: 0.0242\n",
            "Epoch 29/100\n",
            "15462/15462 [==============================] - 20s 1ms/sample - loss: 6.5477 - accuracy: 0.0227\n",
            "Epoch 30/100\n",
            "15462/15462 [==============================] - 20s 1ms/sample - loss: 6.5468 - accuracy: 0.0225\n",
            "Epoch 31/100\n",
            "15462/15462 [==============================] - 20s 1ms/sample - loss: 6.5465 - accuracy: 0.0208\n",
            "Epoch 32/100\n",
            "15462/15462 [==============================] - 20s 1ms/sample - loss: 6.5470 - accuracy: 0.0226\n",
            "Epoch 33/100\n",
            "15462/15462 [==============================] - 20s 1ms/sample - loss: 6.5458 - accuracy: 0.0211\n",
            "Epoch 34/100\n",
            "15462/15462 [==============================] - 21s 1ms/sample - loss: 6.5445 - accuracy: 0.0217\n",
            "Epoch 35/100\n",
            "15462/15462 [==============================] - 20s 1ms/sample - loss: 6.5444 - accuracy: 0.0207\n",
            "Epoch 36/100\n",
            "15462/15462 [==============================] - 20s 1ms/sample - loss: 6.5447 - accuracy: 0.0233\n",
            "Epoch 37/100\n",
            "15462/15462 [==============================] - 20s 1ms/sample - loss: 6.5428 - accuracy: 0.0230\n",
            "Epoch 38/100\n",
            "15462/15462 [==============================] - 20s 1ms/sample - loss: 6.5420 - accuracy: 0.0226\n",
            "Epoch 39/100\n",
            "15462/15462 [==============================] - 20s 1ms/sample - loss: 6.5422 - accuracy: 0.0211\n",
            "Epoch 40/100\n",
            "15462/15462 [==============================] - 20s 1ms/sample - loss: 6.5421 - accuracy: 0.0216\n",
            "Epoch 41/100\n",
            "15462/15462 [==============================] - 20s 1ms/sample - loss: 6.5422 - accuracy: 0.0239\n",
            "Epoch 42/100\n",
            "15462/15462 [==============================] - 20s 1ms/sample - loss: 6.5422 - accuracy: 0.0222\n",
            "Epoch 43/100\n",
            "15462/15462 [==============================] - 21s 1ms/sample - loss: 6.5419 - accuracy: 0.0222\n",
            "Epoch 44/100\n",
            "15462/15462 [==============================] - 21s 1ms/sample - loss: 6.5420 - accuracy: 0.0229\n",
            "Epoch 45/100\n",
            "15462/15462 [==============================] - 21s 1ms/sample - loss: 6.5419 - accuracy: 0.0215\n",
            "Epoch 46/100\n",
            "15462/15462 [==============================] - 21s 1ms/sample - loss: 6.5424 - accuracy: 0.0213\n",
            "Epoch 47/100\n",
            "15462/15462 [==============================] - 21s 1ms/sample - loss: 6.5422 - accuracy: 0.0230\n",
            "Epoch 48/100\n",
            "15462/15462 [==============================] - 21s 1ms/sample - loss: 6.5418 - accuracy: 0.0237\n",
            "Epoch 49/100\n",
            "15462/15462 [==============================] - 21s 1ms/sample - loss: 6.5421 - accuracy: 0.0237\n",
            "Epoch 50/100\n",
            "15462/15462 [==============================] - 21s 1ms/sample - loss: 6.5424 - accuracy: 0.0222\n",
            "Epoch 51/100\n",
            "15462/15462 [==============================] - 21s 1ms/sample - loss: 6.5422 - accuracy: 0.0219\n",
            "Epoch 52/100\n",
            "15462/15462 [==============================] - 21s 1ms/sample - loss: 6.5418 - accuracy: 0.0226\n",
            "Epoch 53/100\n",
            "15462/15462 [==============================] - 21s 1ms/sample - loss: 6.5421 - accuracy: 0.0213\n",
            "Epoch 54/100\n",
            "15462/15462 [==============================] - 20s 1ms/sample - loss: 6.5419 - accuracy: 0.0211\n",
            "Epoch 55/100\n",
            "15462/15462 [==============================] - 21s 1ms/sample - loss: 6.5424 - accuracy: 0.0215\n",
            "Epoch 56/100\n",
            "15462/15462 [==============================] - 21s 1ms/sample - loss: 6.5423 - accuracy: 0.0228\n",
            "Epoch 57/100\n",
            "15462/15462 [==============================] - 21s 1ms/sample - loss: 6.5420 - accuracy: 0.0221\n",
            "Epoch 58/100\n",
            "15462/15462 [==============================] - 21s 1ms/sample - loss: 6.5422 - accuracy: 0.0212\n",
            "Epoch 59/100\n",
            "15462/15462 [==============================] - 21s 1ms/sample - loss: 6.5422 - accuracy: 0.0217\n",
            "Epoch 60/100\n",
            "15462/15462 [==============================] - 21s 1ms/sample - loss: 6.5421 - accuracy: 0.0226\n",
            "Epoch 61/100\n",
            "15462/15462 [==============================] - 21s 1ms/sample - loss: 6.5420 - accuracy: 0.0225\n",
            "Epoch 62/100\n",
            "15462/15462 [==============================] - 21s 1ms/sample - loss: 6.5422 - accuracy: 0.0232\n",
            "Epoch 63/100\n",
            "15462/15462 [==============================] - 22s 1ms/sample - loss: 6.5421 - accuracy: 0.0241\n",
            "Epoch 64/100\n",
            "15462/15462 [==============================] - 21s 1ms/sample - loss: 6.5418 - accuracy: 0.0232\n",
            "Epoch 65/100\n",
            "15462/15462 [==============================] - 21s 1ms/sample - loss: 6.5424 - accuracy: 0.0222\n",
            "Epoch 66/100\n",
            "15462/15462 [==============================] - 21s 1ms/sample - loss: 6.5419 - accuracy: 0.0217\n",
            "Epoch 67/100\n",
            "15462/15462 [==============================] - 21s 1ms/sample - loss: 6.5423 - accuracy: 0.0210\n",
            "Epoch 68/100\n",
            "15462/15462 [==============================] - 21s 1ms/sample - loss: 6.5420 - accuracy: 0.0224\n",
            "Epoch 69/100\n",
            "15462/15462 [==============================] - 21s 1ms/sample - loss: 6.5418 - accuracy: 0.0221\n",
            "Epoch 70/100\n",
            "15462/15462 [==============================] - 21s 1ms/sample - loss: 6.5422 - accuracy: 0.0227\n",
            "Epoch 71/100\n",
            "15462/15462 [==============================] - 21s 1ms/sample - loss: 6.5417 - accuracy: 0.0248\n",
            "Epoch 72/100\n",
            "15462/15462 [==============================] - 21s 1ms/sample - loss: 6.5420 - accuracy: 0.0190\n",
            "Epoch 73/100\n",
            "15462/15462 [==============================] - 20s 1ms/sample - loss: 6.5424 - accuracy: 0.0214\n",
            "Epoch 74/100\n",
            "15462/15462 [==============================] - 20s 1ms/sample - loss: 6.5419 - accuracy: 0.0222\n",
            "Epoch 75/100\n",
            "15462/15462 [==============================] - 20s 1ms/sample - loss: 6.5420 - accuracy: 0.0214\n",
            "Epoch 76/100\n",
            "15462/15462 [==============================] - 20s 1ms/sample - loss: 6.5418 - accuracy: 0.0221\n",
            "Epoch 77/100\n",
            "15462/15462 [==============================] - 20s 1ms/sample - loss: 6.5423 - accuracy: 0.0222\n",
            "Epoch 78/100\n",
            "15462/15462 [==============================] - 20s 1ms/sample - loss: 6.5418 - accuracy: 0.0227\n",
            "Epoch 79/100\n",
            "15462/15462 [==============================] - 21s 1ms/sample - loss: 6.5420 - accuracy: 0.0213\n",
            "Epoch 80/100\n",
            "15462/15462 [==============================] - 20s 1ms/sample - loss: 6.5421 - accuracy: 0.0224\n",
            "Epoch 81/100\n",
            "15462/15462 [==============================] - 20s 1ms/sample - loss: 6.5421 - accuracy: 0.0232\n",
            "Epoch 82/100\n",
            "15462/15462 [==============================] - 20s 1ms/sample - loss: 6.5419 - accuracy: 0.0217\n",
            "Epoch 83/100\n",
            "15462/15462 [==============================] - 20s 1ms/sample - loss: 6.5422 - accuracy: 0.0221\n",
            "Epoch 84/100\n",
            "15462/15462 [==============================] - 20s 1ms/sample - loss: 6.5423 - accuracy: 0.0246\n",
            "Epoch 85/100\n",
            "15462/15462 [==============================] - 20s 1ms/sample - loss: 6.5421 - accuracy: 0.0230\n",
            "Epoch 86/100\n",
            "15462/15462 [==============================] - 20s 1ms/sample - loss: 6.5420 - accuracy: 0.0236\n",
            "Epoch 87/100\n",
            "15462/15462 [==============================] - 20s 1ms/sample - loss: 6.5424 - accuracy: 0.0219\n",
            "Epoch 88/100\n",
            "15462/15462 [==============================] - 20s 1ms/sample - loss: 6.5422 - accuracy: 0.0215\n",
            "Epoch 89/100\n",
            "15462/15462 [==============================] - 20s 1ms/sample - loss: 6.5423 - accuracy: 0.0232\n",
            "Epoch 90/100\n",
            "15462/15462 [==============================] - 20s 1ms/sample - loss: 6.5422 - accuracy: 0.0217\n",
            "Epoch 91/100\n",
            "15462/15462 [==============================] - 20s 1ms/sample - loss: 6.5421 - accuracy: 0.0218\n",
            "Epoch 92/100\n",
            "15462/15462 [==============================] - 20s 1ms/sample - loss: 6.5421 - accuracy: 0.0229\n",
            "Epoch 93/100\n",
            "15462/15462 [==============================] - 20s 1ms/sample - loss: 6.5422 - accuracy: 0.0208\n",
            "Epoch 94/100\n",
            "15462/15462 [==============================] - 21s 1ms/sample - loss: 6.5420 - accuracy: 0.0210\n",
            "Epoch 95/100\n",
            "15462/15462 [==============================] - 21s 1ms/sample - loss: 6.5421 - accuracy: 0.0219\n",
            "Epoch 96/100\n",
            "15462/15462 [==============================] - 20s 1ms/sample - loss: 6.5421 - accuracy: 0.0224\n",
            "Epoch 97/100\n",
            "15462/15462 [==============================] - 20s 1ms/sample - loss: 6.5420 - accuracy: 0.0230\n",
            "Epoch 98/100\n",
            "15462/15462 [==============================] - 20s 1ms/sample - loss: 6.5421 - accuracy: 0.0215\n",
            "Epoch 99/100\n",
            "15462/15462 [==============================] - 20s 1ms/sample - loss: 6.5420 - accuracy: 0.0217\n",
            "Epoch 100/100\n",
            "15462/15462 [==============================] - 20s 1ms/sample - loss: 6.5423 - accuracy: 0.0222\n"
          ],
          "name": "stdout"
        }
      ]
    },
    {
      "cell_type": "code",
      "metadata": {
        "id": "1fXTEO3GJ282",
        "colab_type": "code",
        "colab": {
          "base_uri": "https://localhost:8080/",
          "height": 545
        },
        "outputId": "ee9d4654-55af-4cb8-967d-9095295fe193"
      },
      "source": [
        "import matplotlib.pyplot as plt\n",
        "acc  = history.history['accuracy']\n",
        "loss = history.history['loss']\n",
        "\n",
        "epochs = range(len(acc))\n",
        "\n",
        "plt.plot(epochs, acc, 'b', label='Training accuracy')\n",
        "plt.title('Training accuracy')\n",
        "\n",
        "plt.figure()\n",
        "\n",
        "plt.plot(epochs, loss, 'b', label='Training Loss')\n",
        "plt.title('Training loss')\n",
        "plt.legend()\n",
        "\n",
        "plt.show()"
      ],
      "execution_count": 11,
      "outputs": [
        {
          "output_type": "display_data",
          "data": {
            "image/png": "[encoded data removed]",
            "text/plain": [
              "<Figure size 432x288 with 1 Axes>"
            ]
          },
          "metadata": {
            "tags": []
          }
        },
        {
          "output_type": "display_data",
          "data": {
            "image/png": "[encoded data removed]",
            "text/plain": [
              "<Figure size 432x288 with 1 Axes>"
            ]
          },
          "metadata": {
            "tags": []
          }
        }
      ]
    },
    {
      "cell_type": "code",
      "metadata": {
        "id": "6Vc6PHgxa6Hm",
        "colab_type": "code",
        "colab": {
          "base_uri": "https://localhost:8080/",
          "height": 54
        },
        "outputId": "6a8e9002-fc00-47e7-a9ad-b7ef1cd0c9f7"
      },
      "source": [
        "seed_text = \"Help me Obi Wan Kenobi, you're my only hope\"\n",
        "next_words = 100\n",
        "  \n",
        "for _ in range(next_words):\n",
        "\ttoken_list = tokenizer.texts_to_sequences([seed_text])[0]\n",
        "\ttoken_list = pad_sequences([token_list], maxlen=max_sequence_len-1, padding='pre')\n",
        "\tpredicted  = model.predict_classes(token_list, verbose=0)\n",
        "\toutput_word = \"\"\n",
        "\tfor word, index in tokenizer.word_index.items():\n",
        "\t\tif index == predicted:\n",
        "\t\t\toutput_word = word\n",
        "\t\t\tbreak\n",
        "\tseed_text += \" \" + output_word\n",
        "print(seed_text)"
      ],
      "execution_count": 12,
      "outputs": [
        {
          "output_type": "stream",
          "text": [
            "Help me Obi Wan Kenobi, you're my only hope the the the the the the the the the the the the the the the the the the the the the the the the the the the the the the the the the the the the the the the the the the the the the the the the the the the the the the the the the the the the the the the the the the the the the the the the the the the the the the the the the the the the the the the the the the the the the the the the the the the the\n"
          ],
          "name": "stdout"
        }
      ]
    },
    {
      "cell_type": "code",
      "metadata": {
        "id": "QF7t9kFADj7c",
        "colab_type": "code",
        "colab": {}
      },
      "source": [
        ""
      ],
      "execution_count": 0,
      "outputs": []
    }
  ]
}