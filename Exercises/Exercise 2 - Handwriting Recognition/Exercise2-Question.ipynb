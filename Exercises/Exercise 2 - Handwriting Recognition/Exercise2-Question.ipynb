{
  "nbformat": 4,
  "nbformat_minor": 0,
  "metadata": {
    "colab": {
      "name": "Exercise2-Question.ipynb",
      "provenance": [],
      "collapsed_sections": [],
      "include_colab_link": true
    },
    "kernelspec": {
      "name": "python3",
      "display_name": "Python 3"
    }
  },
  "cells": [
    {
      "cell_type": "markdown",
      "metadata": {
        "id": "view-in-github",
        "colab_type": "text"
      },
      "source": [
        "<a href=\"https://colab.research.google.com/github/JamesMcGuigan/dlaicourse/blob/master/Exercises/Exercise%202%20-%20Handwriting%20Recognition/Exercise2-Question.ipynb\" target=\"_parent\"><img src=\"https://colab.research.google.com/assets/colab-badge.svg\" alt=\"Open In Colab\"/></a>"
      ]
    },
    {
      "cell_type": "markdown",
      "metadata": {
        "id": "tOoyQ70H00_s",
        "colab_type": "text"
      },
      "source": [
        "## Exercise 2\n",
        "In the course you learned how to do classification using Fashion MNIST, a data set containing items of clothing. There's another, similar dataset called MNIST which has items of handwriting -- the digits 0 through 9.\n",
        "\n",
        "Write an MNIST classifier that trains to 99% accuracy or above, and does it without a fixed number of epochs -- i.e. you should stop training once you reach that level of accuracy.\n",
        "\n",
        "Some notes:\n",
        "1. It should succeed in less than 10 epochs, so it is okay to change epochs to 10, but nothing larger\n",
        "2. When it reaches 99% or greater it should print out the string \"Reached 99% accuracy so cancelling training!\"\n",
        "3. If you add any additional variables, make sure you use the same names as the ones used in the class\n",
        "\n",
        "I've started the code for you below -- how would you finish it? "
      ]
    },
    {
      "cell_type": "code",
      "metadata": {
        "id": "9rvXQGAA0ssC",
        "colab_type": "code",
        "colab": {
          "base_uri": "https://localhost:8080/",
          "height": 272
        },
        "outputId": "e6aac7a4-3d83-4303-fb8f-24dc0039e0f8"
      },
      "source": [
        "# YOUR CODE SHOULD START HERE\n",
        "# YOUR CODE SHOULD END HERE\n",
        "import tensorflow as tf\n",
        "mnist = tf.keras.datasets.mnist\n",
        "\n",
        "(x_train, y_train),(x_test, y_test) = mnist.load_data()\n",
        "x_train, x_test = x_train / 255., x_test / 255.  # Normalize Data \n",
        "\n",
        "class stopOnAccuracy(tf.keras.callbacks.Callback):\n",
        "    def __init__(self, min_acc, **kwargs):\n",
        "        super().__init__(**kwargs)\n",
        "        self.min_acc = min_acc        \n",
        "        \n",
        "    def on_epoch_end(self, epoch, logs={}):\n",
        "        if logs.get('acc') > self.min_acc:\n",
        "            self.model.stop_training = True\n",
        "            print(f\"\\nReached {int(self.min_acc*100)}% accuracy so cancelling training!\\n\")\n",
        "\n",
        "# YOUR CODE SHOULD END HERE\n",
        "model = tf.keras.models.Sequential([\n",
        "    tf.keras.layers.Flatten(input_shape=(28, 28)),\n",
        "    tf.keras.layers.Dense(1024, activation=tf.nn.relu),\n",
        "    tf.keras.layers.Dense(10,   activation=tf.nn.softmax),\n",
        "])\n",
        "\n",
        "model.compile(optimizer='adam',\n",
        "              loss='sparse_categorical_crossentropy',\n",
        "              metrics=['accuracy'])\n",
        "\n",
        "# YOUR CODE SHOULD START HERE\n",
        "history = model.fit(\n",
        "    x_train, \n",
        "    y_train, \n",
        "    epochs=10, \n",
        "    callbacks=[\n",
        "        stopOnAccuracy(0.99)\n",
        "    ]        \n",
        ")\n",
        "print(history)"
      ],
      "execution_count": 2,
      "outputs": [
        {
          "output_type": "stream",
          "text": [
            "Train on 60000 samples\n",
            "Epoch 1/10\n",
            "60000/60000 [==============================] - 11s 184us/sample - loss: 0.1847 - acc: 0.9446\n",
            "Epoch 2/10\n",
            "60000/60000 [==============================] - 11s 179us/sample - loss: 0.0755 - acc: 0.9768\n",
            "Epoch 3/10\n",
            "60000/60000 [==============================] - 11s 180us/sample - loss: 0.0490 - acc: 0.9840\n",
            "Epoch 4/10\n",
            "60000/60000 [==============================] - 11s 185us/sample - loss: 0.0343 - acc: 0.9886\n",
            "Epoch 5/10\n",
            "59776/60000 [============================>.] - ETA: 0s - loss: 0.0270 - acc: 0.9910\n",
            "Reached 99% accuracy so cancelling training!\n",
            "\n",
            "60000/60000 [==============================] - 11s 189us/sample - loss: 0.0269 - acc: 0.9911\n",
            "<tensorflow.python.keras.callbacks.History object at 0x7f0496399fd0>\n"
          ],
          "name": "stdout"
        }
      ]
    }
  ]
}