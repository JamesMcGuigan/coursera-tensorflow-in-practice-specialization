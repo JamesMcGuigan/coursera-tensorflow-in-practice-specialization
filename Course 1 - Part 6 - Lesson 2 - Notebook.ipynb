{
  "nbformat": 4,
  "nbformat_minor": 0,
  "metadata": {
    "colab": {
      "name": "Course 1 - Part 6 - Lesson 2 - Notebook.ipynb",
      "provenance": [],
      "collapsed_sections": [],
      "include_colab_link": true
    },
    "kernelspec": {
      "name": "python3",
      "display_name": "Python 3"
    },
    "accelerator": "GPU"
  },
  "cells": [
    {
      "cell_type": "markdown",
      "metadata": {
        "id": "view-in-github",
        "colab_type": "text"
      },
      "source": [
        "<a href=\"https://colab.research.google.com/github/JamesMcGuigan/dlaicourse/blob/master/Course%201%20-%20Part%206%20-%20Lesson%202%20-%20Notebook.ipynb\" target=\"_parent\"><img src=\"https://colab.research.google.com/assets/colab-badge.svg\" alt=\"Open In Colab\"/></a>"
      ]
    },
    {
      "cell_type": "markdown",
      "metadata": {
        "id": "R6gHiH-I7uFa",
        "colab_type": "text"
      },
      "source": [
        "#Improving Computer Vision Accuracy using Convolutions\n",
        "\n",
        "In the previous lessons you saw how to do fashion recognition using a Deep Neural Network (DNN) containing three layers -- the input layer (in the shape of the data), the output layer (in the shape of the desired output) and a hidden layer. You experimented with the impact of different sized of hidden layer, number of training epochs etc on the final accuracy.\n",
        "\n",
        "For convenience, here's the entire code again. Run it and take a note of the test accuracy that is printed out at the end. "
      ]
    },
    {
      "cell_type": "code",
      "metadata": {
        "id": "xcsRtq9OLorS",
        "colab_type": "code",
        "outputId": "b7c47c12-8932-4dba-f61f-a0215d6fa47b",
        "colab": {
          "base_uri": "https://localhost:8080/",
          "height": 986
        }
      },
      "source": [
        "import tensorflow as tf\n",
        "mnist = tf.keras.datasets.fashion_mnist\n",
        "(training_images, training_labels), (test_images, test_labels) = mnist.load_data()\n",
        "training_images=training_images / 255.0\n",
        "test_images=test_images / 255.0\n",
        "model = tf.keras.models.Sequential([\n",
        "  tf.keras.layers.Flatten(input_shape=(28, 28)),\n",
        "  tf.keras.layers.Dense(128, activation=tf.nn.relu),\n",
        "  tf.keras.layers.Dense(10, activation=tf.nn.softmax)\n",
        "])\n",
        "model.compile(\n",
        "    optimizer='adam', \n",
        "    loss='sparse_categorical_crossentropy', \n",
        "    metrics=['accuracy']\n",
        ")\n",
        "model.summary()\n",
        "model.fit(\n",
        "    training_images, training_labels, \n",
        "    validation_data=(test_images, test_labels),\n",
        "    epochs=20,\n",
        ")\n",
        "print('----- test_loss')\n",
        "test_loss = model.evaluate(test_images, test_labels)"
      ],
      "execution_count": 5,
      "outputs": [
        {
          "output_type": "stream",
          "text": [
            "Model: \"sequential_4\"\n",
            "_________________________________________________________________\n",
            "Layer (type)                 Output Shape              Param #   \n",
            "=================================================================\n",
            "flatten_4 (Flatten)          (None, 784)               0         \n",
            "_________________________________________________________________\n",
            "dense_8 (Dense)              (None, 128)               100480    \n",
            "_________________________________________________________________\n",
            "dense_9 (Dense)              (None, 10)                1290      \n",
            "=================================================================\n",
            "Total params: 101,770\n",
            "Trainable params: 101,770\n",
            "Non-trainable params: 0\n",
            "_________________________________________________________________\n",
            "Train on 60000 samples, validate on 10000 samples\n",
            "Epoch 1/20\n",
            "60000/60000 [==============================] - 5s 80us/sample - loss: 0.5008 - acc: 0.8243 - val_loss: 0.4561 - val_acc: 0.8373\n",
            "Epoch 2/20\n",
            "60000/60000 [==============================] - 4s 73us/sample - loss: 0.3775 - acc: 0.8636 - val_loss: 0.4006 - val_acc: 0.8578\n",
            "Epoch 3/20\n",
            "60000/60000 [==============================] - 4s 73us/sample - loss: 0.3368 - acc: 0.8759 - val_loss: 0.3721 - val_acc: 0.8697\n",
            "Epoch 4/20\n",
            "60000/60000 [==============================] - 4s 72us/sample - loss: 0.3113 - acc: 0.8858 - val_loss: 0.3468 - val_acc: 0.8749\n",
            "Epoch 5/20\n",
            "60000/60000 [==============================] - 4s 72us/sample - loss: 0.2927 - acc: 0.8917 - val_loss: 0.3580 - val_acc: 0.8703\n",
            "Epoch 6/20\n",
            "60000/60000 [==============================] - 4s 74us/sample - loss: 0.2796 - acc: 0.8960 - val_loss: 0.3348 - val_acc: 0.8765\n",
            "Epoch 7/20\n",
            "60000/60000 [==============================] - 4s 71us/sample - loss: 0.2682 - acc: 0.9010 - val_loss: 0.3497 - val_acc: 0.8780\n",
            "Epoch 8/20\n",
            "60000/60000 [==============================] - 4s 71us/sample - loss: 0.2584 - acc: 0.9036 - val_loss: 0.3544 - val_acc: 0.8761\n",
            "Epoch 9/20\n",
            "60000/60000 [==============================] - 4s 72us/sample - loss: 0.2493 - acc: 0.9058 - val_loss: 0.3421 - val_acc: 0.8796\n",
            "Epoch 10/20\n",
            "60000/60000 [==============================] - 4s 72us/sample - loss: 0.2418 - acc: 0.9086 - val_loss: 0.3525 - val_acc: 0.8774\n",
            "Epoch 11/20\n",
            "60000/60000 [==============================] - 4s 73us/sample - loss: 0.2314 - acc: 0.9136 - val_loss: 0.3440 - val_acc: 0.8809\n",
            "Epoch 12/20\n",
            "60000/60000 [==============================] - 4s 71us/sample - loss: 0.2243 - acc: 0.9150 - val_loss: 0.3437 - val_acc: 0.8796\n",
            "Epoch 13/20\n",
            "60000/60000 [==============================] - 4s 74us/sample - loss: 0.2184 - acc: 0.9174 - val_loss: 0.3306 - val_acc: 0.8862\n",
            "Epoch 14/20\n",
            "60000/60000 [==============================] - 4s 72us/sample - loss: 0.2116 - acc: 0.9208 - val_loss: 0.3291 - val_acc: 0.8872\n",
            "Epoch 15/20\n",
            "60000/60000 [==============================] - 4s 72us/sample - loss: 0.2057 - acc: 0.9219 - val_loss: 0.3402 - val_acc: 0.8840\n",
            "Epoch 16/20\n",
            "60000/60000 [==============================] - 4s 71us/sample - loss: 0.1988 - acc: 0.9253 - val_loss: 0.3539 - val_acc: 0.8800\n",
            "Epoch 17/20\n",
            "60000/60000 [==============================] - 4s 71us/sample - loss: 0.1940 - acc: 0.9275 - val_loss: 0.3545 - val_acc: 0.8838\n",
            "Epoch 18/20\n",
            "60000/60000 [==============================] - 4s 70us/sample - loss: 0.1908 - acc: 0.9274 - val_loss: 0.3500 - val_acc: 0.8878\n",
            "Epoch 19/20\n",
            "60000/60000 [==============================] - 4s 73us/sample - loss: 0.1859 - acc: 0.9305 - val_loss: 0.3544 - val_acc: 0.8881\n",
            "Epoch 20/20\n",
            "60000/60000 [==============================] - 4s 71us/sample - loss: 0.1822 - acc: 0.9316 - val_loss: 0.3623 - val_acc: 0.8860\n",
            "----- test_loss\n",
            "10000/10000 [==============================] - 0s 43us/sample - loss: 0.3623 - acc: 0.8860\n"
          ],
          "name": "stdout"
        }
      ]
    },
    {
      "cell_type": "markdown",
      "metadata": {
        "id": "zldEXSsF8Noz",
        "colab_type": "text"
      },
      "source": [
        "Your accuracy is probably about 89% on training and 87% on validation...not bad...But how do you make that even better? One way is to use something called Convolutions. I'm not going to details on Convolutions here, but the ultimate concept is that they narrow down the content of the image to focus on specific, distinct, details. \n",
        "\n",
        "If you've ever done image processing using a filter (like this: https://en.wikipedia.org/wiki/Kernel_(image_processing)) then convolutions will look very familiar.\n",
        "\n",
        "In short, you take an array (usually 3x3 or 5x5) and pass it over the image. By changing the underlying pixels based on the formula within that matrix, you can do things like edge detection. So, for example, if you look at the above link, you'll see a 3x3 that is defined for edge detection where the middle cell is 8, and all of its neighbors are -1. In this case, for each pixel, you would multiply its value by 8, then subtract the value of each neighbor. Do this for every pixel, and you'll end up with a new image that has the edges enhanced.\n",
        "\n",
        "This is perfect for computer vision, because often it's features that can get highlighted like this that distinguish one item for another, and the amount of information needed is then much less...because you'll just train on the highlighted features.\n",
        "\n",
        "That's the concept of Convolutional Neural Networks. Add some layers to do convolution before you have the dense layers, and then the information going to the dense layers is more focussed, and possibly more accurate.\n",
        "\n",
        "Run the below code -- this is the same neural network as earlier, but this time with Convolutional layers added first. It will take longer, but look at the impact on the accuracy:"
      ]
    },
    {
      "cell_type": "code",
      "metadata": {
        "id": "C0tFgT1MMKi6",
        "colab_type": "code",
        "outputId": "9e9dc334-d088-4fc3-ad61-8254f51c5ae2",
        "colab": {
          "base_uri": "https://localhost:8080/",
          "height": 1000
        }
      },
      "source": [
        "# 2 * Conv2D(3, 16)  = Total params:    55,098 | Epoch 11 |  6s 100us/sample - loss: 0.1072 - acc: 0.9585 - val_loss: 0.3485 - val_acc: 0.9019 \n",
        "# 2 * Conv2D(3, 32)  = Total params:   113,386 | Epoch  8 |  6s 101us/sample - loss: 0.1676 - acc: 0.9364 - val_loss: 0.2672 - val_acc: 0.9081\n",
        "# 2 * Conv2D(3, 64)  = Total params:   243,786 | Epoch  8 |  6s 106us/sample - loss: 0.1335 - acc: 0.9493 - val_loss: 0.2688 - val_acc: 0.9152\n",
        "# 2 * Conv2D(3, 128) = Total params:   559,882 | Epoch  8 |  7s 123us/sample - loss: 0.1102 - acc: 0.9583 - val_loss: 0.2836 - val_acc: 0.9128\n",
        "# 2 * Conv2D(3, 256) = Total params: 1,413,258 | Epoch  7 | 10s 162us/sample - loss: 0.1080 - acc: 0.9594 - val_loss: 0.2989 - val_acc: 0.9115\n",
        "\n",
        "# 1 * Conv2D(3, 256) = Total params: 5,541,770 | Epoch  7 |  8s 138us/sample - loss: 0.0808 - acc: 0.9708 - val_loss: 0.3168 - val_acc: 0.9123\n",
        "# 1 * Conv2D(3, 128) = Total params: 2,771,594 | Epoch  7 |  7s 113us/sample - loss: 0.0895 - acc: 0.9659 - val_loss: 0.2907 - val_acc: 0.9147\n",
        "# 1 * Conv2D(5, 128) = Total params: 2,364,042 | Epoch  8 |  7s 123us/sample - loss: 0.0878 - acc: 0.9670 - val_loss: 0.3187 - val_acc: 0.9072\n",
        "\n",
        "\n",
        "# 3 * Conv2D(3, 128, valid) + 2*MaxPool() = Total params:   445,322 | Epoch  8 |  8s 132us/sample - loss: 0.1236 - acc: 0.9533 - val_loss: 0.3006 - val_acc: 0.9064\n",
        "# 3 * Conv2D(3, 128, same)  + 2*MaxPool() = Total params: 1,100,682 | Epoch  6 |  9s 143us/sample - loss: 0.1095 - acc: 0.9589 - val_loss: 0.2557 - val_acc: 0.9207\n",
        "# 3 * Conv2D(3, 128, same)  + 3*MaxPool() = Total params:   445,322 | Epoch  8 |  9s 143us/sample - loss: 0.1040 - acc: 0.9609 - val_loss: 0.2593 - val_acc: 0.9136\n",
        "# 3 * Conv2D(3, 256, same)  + 2*MaxPool() = Total params: 2,789,770 | Epoch  8 | 13s 212us/sample - loss: 0.0676 - acc: 0.9745 - val_loss: 0.3377 - val_acc: 0.9150\n",
        "\n",
        "# 3 * Conv2D(5, 128, same)  + 2*MaxPool()    = Total params:  1,627,018 | Epoch  6 | 11s 179us/sample - loss: 0.1246 - acc: 0.9519 - val_loss: 0.2649 - val_acc: 0.9180\n",
        "# 3 * Conv2D(5,  64, same)  + 2*MaxPool()    = Total params:    609,418 | Epoch  7 |  8s 136us/sample - loss: 0.1170 - acc: 0.9553 - val_loss: 0.2654 - val_acc: 0.9156\n",
        "# Conv2D(5,64,same) + 2*Conv2D(3,64,same)    = Total params:    478,346 | Epoch  7 |  8s 126us/sample - loss: 0.1194 - acc: 0.9550 - val_loss: 0.2633 - val_acc: 0.9190\n",
        "# 3 * Conv2D(7/5/3, 128, same) + 2*MaxPool() = Total params:  1,367,946 | Epoch  8 | 10s 171us/sample - loss: 0.1037 - acc: 0.9599 - val_loss: 0.2948 - val_acc: 0.9159 - patience=3 (default)\n",
        "# 3 * Conv2D(7/5/3, 128, same) + 2*MaxPool() = Total params:  1,367,946 | Epoch 14 | 10s 175us/sample - loss: 0.0524 - acc: 0.9804 - val_loss: 0.4592 - val_acc: 0.9170 - patience=10\n",
        "# 3 * Conv2D(7/5/3, 256, same) + 2*MaxPool() = Total params:  3,848,586 | Epoch  8 | 17s 284us/sample - loss: 0.0992 - acc: 0.9620 - val_loss: 0.2987 - val_acc: 0.9160\n",
        "# 3 * Conv2D(7/5/3, 512, same) + 2*MaxPool() = Total params: 12,152,202 | Epoch  8 | 38s 638us/sample - loss: 0.0956 - acc: 0.9638 - val_loss: 0.2840 - val_acc: 0.9138\n",
        "\n",
        "\n",
        "\n",
        "import tensorflow as tf\n",
        "from tensorflow_core.python.keras.callbacks import EarlyStopping\n",
        "\n",
        "print(tf.__version__)\n",
        "mnist = tf.keras.datasets.fashion_mnist\n",
        "(training_images, training_labels), (test_images, test_labels) = mnist.load_data()\n",
        "training_images=training_images.reshape(60000, 28, 28, 1)\n",
        "training_images=training_images / 255.0\n",
        "test_images = test_images.reshape(10000, 28, 28, 1)\n",
        "test_images=test_images/255.0\n",
        "model = tf.keras.models.Sequential([\n",
        "  tf.keras.layers.Conv2D(128, (7,7), activation='relu', padding='same', input_shape=(28, 28, 1)),\n",
        "  tf.keras.layers.MaxPooling2D(2, 2),\n",
        "  tf.keras.layers.Conv2D(128, (5,5), activation='relu', padding='same',),\n",
        "  tf.keras.layers.MaxPooling2D(2,2),\n",
        "  tf.keras.layers.Conv2D(128, (3,3), activation='relu', padding='same',),  \n",
        "  tf.keras.layers.Flatten(),\n",
        "  tf.keras.layers.Dense(128, activation='relu'),\n",
        "  tf.keras.layers.Dense(10, activation='softmax')\n",
        "])\n",
        "model.compile(\n",
        "    optimizer='adam', \n",
        "    loss='sparse_categorical_crossentropy', \n",
        "    metrics=['accuracy']\n",
        ")\n",
        "model.summary()\n",
        "model.fit(\n",
        "    training_images, training_labels, \n",
        "    validation_data=(test_images, test_labels),\n",
        "    epochs=99,\n",
        "    callbacks = [\n",
        "      EarlyStopping(monitor='val_loss', mode='min', verbose=1, patience=3),                              \n",
        "      EarlyStopping(monitor='loss', mode='min', verbose=1, patience=10),             \n",
        "    ]    \n",
        ")\n",
        "\n",
        "print('----- test_loss')\n",
        "test_loss = model.evaluate(test_images, test_labels)\n"
      ],
      "execution_count": 86,
      "outputs": [
        {
          "output_type": "stream",
          "text": [
            "1.15.0\n",
            "Model: \"sequential_46\"\n",
            "_________________________________________________________________\n",
            "Layer (type)                 Output Shape              Param #   \n",
            "=================================================================\n",
            "conv2d_86 (Conv2D)           (None, 28, 28, 128)       6400      \n",
            "_________________________________________________________________\n",
            "max_pooling2d_73 (MaxPooling (None, 14, 14, 128)       0         \n",
            "_________________________________________________________________\n",
            "conv2d_87 (Conv2D)           (None, 14, 14, 128)       409728    \n",
            "_________________________________________________________________\n",
            "max_pooling2d_74 (MaxPooling (None, 7, 7, 128)         0         \n",
            "_________________________________________________________________\n",
            "conv2d_88 (Conv2D)           (None, 7, 7, 128)         147584    \n",
            "_________________________________________________________________\n",
            "flatten_46 (Flatten)         (None, 6272)              0         \n",
            "_________________________________________________________________\n",
            "dense_92 (Dense)             (None, 128)               802944    \n",
            "_________________________________________________________________\n",
            "dense_93 (Dense)             (None, 10)                1290      \n",
            "=================================================================\n",
            "Total params: 1,367,946\n",
            "Trainable params: 1,367,946\n",
            "Non-trainable params: 0\n",
            "_________________________________________________________________\n",
            "Train on 60000 samples, validate on 10000 samples\n",
            "Epoch 1/99\n",
            "60000/60000 [==============================] - 12s 199us/sample - loss: 0.4013 - acc: 0.8526 - val_loss: 0.3180 - val_acc: 0.8805\n",
            "Epoch 2/99\n",
            "60000/60000 [==============================] - 11s 183us/sample - loss: 0.2674 - acc: 0.9002 - val_loss: 0.2867 - val_acc: 0.8980\n",
            "Epoch 3/99\n",
            "60000/60000 [==============================] - 11s 189us/sample - loss: 0.2220 - acc: 0.9169 - val_loss: 0.2603 - val_acc: 0.9045\n",
            "Epoch 4/99\n",
            "60000/60000 [==============================] - 11s 188us/sample - loss: 0.1927 - acc: 0.9271 - val_loss: 0.2606 - val_acc: 0.9064\n",
            "Epoch 5/99\n",
            "60000/60000 [==============================] - 11s 184us/sample - loss: 0.1643 - acc: 0.9369 - val_loss: 0.2761 - val_acc: 0.9074\n",
            "Epoch 6/99\n",
            "60000/60000 [==============================] - 11s 183us/sample - loss: 0.1419 - acc: 0.9456 - val_loss: 0.2673 - val_acc: 0.9143\n",
            "Epoch 7/99\n",
            "60000/60000 [==============================] - 11s 183us/sample - loss: 0.1201 - acc: 0.9545 - val_loss: 0.2873 - val_acc: 0.9166\n",
            "Epoch 8/99\n",
            "60000/60000 [==============================] - 11s 182us/sample - loss: 0.1047 - acc: 0.9606 - val_loss: 0.3121 - val_acc: 0.9122\n",
            "Epoch 9/99\n",
            "60000/60000 [==============================] - 11s 184us/sample - loss: 0.0907 - acc: 0.9658 - val_loss: 0.3431 - val_acc: 0.9194\n",
            "Epoch 10/99\n",
            "60000/60000 [==============================] - 11s 184us/sample - loss: 0.0815 - acc: 0.9687 - val_loss: 0.3585 - val_acc: 0.9150\n",
            "Epoch 11/99\n",
            "60000/60000 [==============================] - 11s 185us/sample - loss: 0.0712 - acc: 0.9731 - val_loss: 0.3894 - val_acc: 0.9159\n",
            "Epoch 12/99\n",
            "60000/60000 [==============================] - 11s 182us/sample - loss: 0.0627 - acc: 0.9767 - val_loss: 0.4278 - val_acc: 0.9150\n",
            "Epoch 13/99\n",
            "60000/60000 [==============================] - 11s 184us/sample - loss: 0.0604 - acc: 0.9782 - val_loss: 0.4998 - val_acc: 0.9156\n",
            "Epoch 14/99\n",
            "60000/60000 [==============================] - 11s 184us/sample - loss: 0.0547 - acc: 0.9798 - val_loss: 0.4690 - val_acc: 0.9102\n",
            "Epoch 15/99\n",
            "60000/60000 [==============================] - 11s 182us/sample - loss: 0.0493 - acc: 0.9824 - val_loss: 0.4969 - val_acc: 0.9157\n",
            "Epoch 16/99\n",
            "60000/60000 [==============================] - 11s 185us/sample - loss: 0.0488 - acc: 0.9826 - val_loss: 0.5178 - val_acc: 0.9128\n",
            "Epoch 17/99\n",
            "60000/60000 [==============================] - 11s 185us/sample - loss: 0.0465 - acc: 0.9836 - val_loss: 0.5601 - val_acc: 0.9119\n",
            "Epoch 18/99\n",
            "60000/60000 [==============================] - 11s 186us/sample - loss: 0.0506 - acc: 0.9835 - val_loss: 0.5012 - val_acc: 0.9114\n",
            "Epoch 19/99\n",
            "60000/60000 [==============================] - 11s 190us/sample - loss: 0.0397 - acc: 0.9863 - val_loss: 0.5507 - val_acc: 0.9111\n",
            "Epoch 20/99\n",
            "60000/60000 [==============================] - 11s 184us/sample - loss: 0.0411 - acc: 0.9859 - val_loss: 0.6445 - val_acc: 0.9153\n",
            "Epoch 21/99\n",
            "60000/60000 [==============================] - 11s 186us/sample - loss: 0.0423 - acc: 0.9859 - val_loss: 0.6687 - val_acc: 0.9137\n",
            "Epoch 22/99\n",
            "60000/60000 [==============================] - 11s 187us/sample - loss: 0.0418 - acc: 0.9866 - val_loss: 0.5933 - val_acc: 0.9080\n",
            "Epoch 23/99\n",
            "60000/60000 [==============================] - 11s 187us/sample - loss: 0.0395 - acc: 0.9871 - val_loss: 0.6970 - val_acc: 0.9191\n",
            "Epoch 24/99\n",
            "60000/60000 [==============================] - 11s 186us/sample - loss: 0.0362 - acc: 0.9875 - val_loss: 0.6703 - val_acc: 0.9158\n",
            "Epoch 25/99\n",
            "60000/60000 [==============================] - 11s 184us/sample - loss: 0.0341 - acc: 0.9888 - val_loss: 0.6965 - val_acc: 0.9156\n",
            "Epoch 26/99\n",
            "60000/60000 [==============================] - 11s 183us/sample - loss: 0.0349 - acc: 0.9887 - val_loss: 0.6472 - val_acc: 0.9145\n",
            "Epoch 27/99\n",
            "60000/60000 [==============================] - 11s 183us/sample - loss: 0.0381 - acc: 0.9880 - val_loss: 0.7749 - val_acc: 0.9151\n",
            "Epoch 28/99\n",
            "60000/60000 [==============================] - 11s 184us/sample - loss: 0.0308 - acc: 0.9900 - val_loss: 0.7333 - val_acc: 0.9110\n",
            "Epoch 29/99\n",
            "60000/60000 [==============================] - 11s 183us/sample - loss: 0.0334 - acc: 0.9898 - val_loss: 0.7265 - val_acc: 0.9091\n",
            "Epoch 30/99\n",
            "60000/60000 [==============================] - 11s 184us/sample - loss: 0.0352 - acc: 0.9889 - val_loss: 0.7566 - val_acc: 0.9095\n",
            "Epoch 31/99\n",
            "60000/60000 [==============================] - 11s 187us/sample - loss: 0.0322 - acc: 0.9904 - val_loss: 0.7906 - val_acc: 0.9133\n",
            "Epoch 32/99\n",
            "60000/60000 [==============================] - 11s 187us/sample - loss: 0.0331 - acc: 0.9899 - val_loss: 0.8405 - val_acc: 0.9148\n",
            "Epoch 33/99\n",
            "60000/60000 [==============================] - 11s 186us/sample - loss: 0.0317 - acc: 0.9904 - val_loss: 0.8626 - val_acc: 0.9128\n",
            "Epoch 34/99\n",
            "60000/60000 [==============================] - 11s 183us/sample - loss: 0.0361 - acc: 0.9902 - val_loss: 0.9199 - val_acc: 0.9105\n",
            "Epoch 35/99\n",
            "60000/60000 [==============================] - 11s 183us/sample - loss: 0.0354 - acc: 0.9900 - val_loss: 0.8726 - val_acc: 0.9104\n",
            "Epoch 36/99\n",
            "60000/60000 [==============================] - 11s 184us/sample - loss: 0.0265 - acc: 0.9925 - val_loss: 1.0221 - val_acc: 0.9147\n",
            "Epoch 37/99\n",
            "60000/60000 [==============================] - 11s 183us/sample - loss: 0.0345 - acc: 0.9902 - val_loss: 1.0438 - val_acc: 0.9105\n",
            "Epoch 38/99\n",
            "60000/60000 [==============================] - 11s 183us/sample - loss: 0.0284 - acc: 0.9922 - val_loss: 0.9758 - val_acc: 0.9068\n",
            "Epoch 39/99\n",
            "60000/60000 [==============================] - 11s 183us/sample - loss: 0.0324 - acc: 0.9908 - val_loss: 1.0497 - val_acc: 0.9135\n",
            "Epoch 40/99\n",
            "60000/60000 [==============================] - 11s 185us/sample - loss: 0.0298 - acc: 0.9919 - val_loss: 1.0340 - val_acc: 0.9114\n",
            "Epoch 41/99\n",
            "60000/60000 [==============================] - 11s 184us/sample - loss: 0.0326 - acc: 0.9913 - val_loss: 1.0707 - val_acc: 0.9150\n",
            "Epoch 42/99\n",
            "60000/60000 [==============================] - 11s 184us/sample - loss: 0.0334 - acc: 0.9907 - val_loss: 1.0378 - val_acc: 0.9168\n",
            "Epoch 43/99\n",
            "60000/60000 [==============================] - 11s 183us/sample - loss: 0.0263 - acc: 0.9925 - val_loss: 1.0012 - val_acc: 0.9095\n",
            "Epoch 44/99\n",
            "60000/60000 [==============================] - 11s 183us/sample - loss: 0.0338 - acc: 0.9911 - val_loss: 1.1826 - val_acc: 0.9143\n",
            "Epoch 45/99\n",
            "60000/60000 [==============================] - 11s 182us/sample - loss: 0.0331 - acc: 0.9922 - val_loss: 1.1655 - val_acc: 0.9114\n",
            "Epoch 46/99\n",
            "60000/60000 [==============================] - 11s 183us/sample - loss: 0.0320 - acc: 0.9920 - val_loss: 1.2023 - val_acc: 0.9164\n",
            "Epoch 47/99\n",
            "60000/60000 [==============================] - 11s 184us/sample - loss: 0.0347 - acc: 0.9915 - val_loss: 1.2012 - val_acc: 0.9164\n",
            "Epoch 48/99\n",
            "60000/60000 [==============================] - 11s 182us/sample - loss: 0.0329 - acc: 0.9920 - val_loss: 1.1987 - val_acc: 0.9146\n",
            "Epoch 49/99\n",
            "60000/60000 [==============================] - 11s 182us/sample - loss: 0.0360 - acc: 0.9909 - val_loss: 1.1840 - val_acc: 0.9141\n",
            "Epoch 50/99\n",
            "60000/60000 [==============================] - 11s 182us/sample - loss: 0.0261 - acc: 0.9933 - val_loss: 1.3798 - val_acc: 0.9166\n",
            "Epoch 51/99\n",
            "60000/60000 [==============================] - 11s 181us/sample - loss: 0.0346 - acc: 0.9922 - val_loss: 1.2920 - val_acc: 0.9135\n",
            "Epoch 52/99\n",
            "60000/60000 [==============================] - 11s 183us/sample - loss: 0.0366 - acc: 0.9915 - val_loss: 1.1666 - val_acc: 0.9157\n",
            "Epoch 53/99\n",
            "60000/60000 [==============================] - 11s 181us/sample - loss: 0.0271 - acc: 0.9928 - val_loss: 1.3619 - val_acc: 0.9156\n",
            "Epoch 54/99\n",
            "60000/60000 [==============================] - 11s 182us/sample - loss: 0.0348 - acc: 0.9924 - val_loss: 1.4101 - val_acc: 0.9094\n",
            "Epoch 55/99\n",
            "60000/60000 [==============================] - 11s 185us/sample - loss: 0.0364 - acc: 0.9916 - val_loss: 1.2904 - val_acc: 0.9113\n",
            "Epoch 56/99\n",
            "60000/60000 [==============================] - 11s 181us/sample - loss: 0.0311 - acc: 0.9926 - val_loss: 1.1975 - val_acc: 0.9138\n",
            "Epoch 57/99\n",
            "60000/60000 [==============================] - 11s 182us/sample - loss: 0.0377 - acc: 0.9917 - val_loss: 1.2486 - val_acc: 0.9119\n",
            "Epoch 58/99\n",
            "60000/60000 [==============================] - 11s 182us/sample - loss: 0.0266 - acc: 0.9939 - val_loss: 1.5104 - val_acc: 0.9117\n",
            "Epoch 59/99\n",
            "60000/60000 [==============================] - 11s 183us/sample - loss: 0.0334 - acc: 0.9926 - val_loss: 1.2469 - val_acc: 0.9088\n",
            "Epoch 60/99\n",
            "60000/60000 [==============================] - 11s 187us/sample - loss: 0.0369 - acc: 0.9920 - val_loss: 1.3688 - val_acc: 0.9092\n",
            "Epoch 00060: early stopping\n",
            "----- test_loss\n",
            "10000/10000 [==============================] - 1s 93us/sample - loss: 1.3688 - acc: 0.9092\n"
          ],
          "name": "stdout"
        }
      ]
    },
    {
      "cell_type": "markdown",
      "metadata": {
        "id": "uRLfZ0jt-fQI",
        "colab_type": "text"
      },
      "source": [
        "It's likely gone up to about 93% on the training data and 91% on the validation data. \n",
        "\n",
        "That's significant, and a step in the right direction!\n",
        "\n",
        "Try running it for more epochs -- say about 20, and explore the results! But while the results might seem really good, the validation results may actually go down, due to something called 'overfitting' which will be discussed later. \n",
        "\n",
        "(In a nutshell, 'overfitting' occurs when the network learns the data from the training set really well, but it's too specialised to only that data, and as a result is less effective at seeing *other* data. For example, if all your life you only saw red shoes, then when you see a red shoe you would be very good at identifying it, but blue suade shoes might confuse you...and you know you should never mess with my blue suede shoes.)\n",
        "\n",
        "Then, look at the code again, and see, step by step how the Convolutions were built:"
      ]
    },
    {
      "cell_type": "markdown",
      "metadata": {
        "id": "RaLX5cgI_JDb",
        "colab_type": "text"
      },
      "source": [
        "Step 1 is to gather the data. You'll notice that there's a bit of a change here in that the training data needed to be reshaped. That's because the first convolution expects a single tensor containing everything, so instead of 60,000 28x28x1 items in a list, we have a single 4D list that is 60,000x28x28x1, and the same for the test images. If you don't do this, you'll get an error when training as the Convolutions do not recognize the shape. \n",
        "\n",
        "\n",
        "\n",
        "```\n",
        "import tensorflow as tf\n",
        "mnist = tf.keras.datasets.fashion_mnist\n",
        "(training_images, training_labels), (test_images, test_labels) = mnist.load_data()\n",
        "training_images=training_images.reshape(60000, 28, 28, 1)\n",
        "training_images=training_images / 255.0\n",
        "test_images = test_images.reshape(10000, 28, 28, 1)\n",
        "test_images=test_images/255.0\n",
        "```\n",
        "\n"
      ]
    },
    {
      "cell_type": "markdown",
      "metadata": {
        "id": "SS_W_INc_kJQ",
        "colab_type": "text"
      },
      "source": [
        "Next is to define your model. Now instead of the input layer at the top, you're going to add a Convolution. The parameters are:\n",
        "\n",
        "1. The number of convolutions you want to generate. Purely arbitrary, but good to start with something in the order of 32\n",
        "2. The size of the Convolution, in this case a 3x3 grid\n",
        "3. The activation function to use -- in this case we'll use relu, which you might recall is the equivalent of returning x when x>0, else returning 0\n",
        "4. In the first layer, the shape of the input data.\n",
        "\n",
        "You'll follow the Convolution with a MaxPooling layer which is then designed to compress the image, while maintaining the content of the features that were highlighted by the convlution. By specifying (2,2) for the MaxPooling, the effect is to quarter the size of the image. Without going into too much detail here, the idea is that it creates a 2x2 array of pixels, and picks the biggest one, thus turning 4 pixels into 1. It repeats this across the image, and in so doing halves the number of horizontal, and halves the number of vertical pixels, effectively reducing the image by 25%.\n",
        "\n",
        "You can call model.summary() to see the size and shape of the network, and you'll notice that after every MaxPooling layer, the image size is reduced in this way. \n",
        "\n",
        "\n",
        "```\n",
        "model = tf.keras.models.Sequential([\n",
        "  tf.keras.layers.Conv2D(32, (3,3), activation='relu', input_shape=(28, 28, 1)),\n",
        "  tf.keras.layers.MaxPooling2D(2, 2),\n",
        "```\n",
        "\n"
      ]
    },
    {
      "cell_type": "markdown",
      "metadata": {
        "id": "RMorM6daADjA",
        "colab_type": "text"
      },
      "source": [
        "Add another convolution\n",
        "\n",
        "\n",
        "\n",
        "```\n",
        "  tf.keras.layers.Conv2D(64, (3,3), activation='relu'),\n",
        "  tf.keras.layers.MaxPooling2D(2,2)\n",
        "```\n",
        "\n"
      ]
    },
    {
      "cell_type": "markdown",
      "metadata": {
        "colab_type": "text",
        "id": "b1-x-kZF4_tC"
      },
      "source": [
        "Now flatten the output. After this you'll just have the same DNN structure as the non convolutional version\n",
        "\n",
        "```\n",
        "  tf.keras.layers.Flatten(),\n",
        "```\n",
        "\n"
      ]
    },
    {
      "cell_type": "markdown",
      "metadata": {
        "id": "qPtqR23uASjX",
        "colab_type": "text"
      },
      "source": [
        "The same 128 dense layers, and 10 output layers as in the pre-convolution example:\n",
        "\n",
        "\n",
        "\n",
        "```\n",
        "  tf.keras.layers.Dense(128, activation='relu'),\n",
        "  tf.keras.layers.Dense(10, activation='softmax')\n",
        "])\n",
        "```\n",
        "\n"
      ]
    },
    {
      "cell_type": "markdown",
      "metadata": {
        "id": "C0GSsjUhAaSj",
        "colab_type": "text"
      },
      "source": [
        "Now compile the model, call the fit method to do the training, and evaluate the loss and accuracy from the test set.\n",
        "\n",
        "\n",
        "\n",
        "```\n",
        "model.compile(optimizer='adam', loss='sparse_categorical_crossentropy', metrics=['accuracy'])\n",
        "model.fit(training_images, training_labels, epochs=5)\n",
        "test_loss, test_acc = model.evaluate(test_images, test_labels)\n",
        "print(test_acc)\n",
        "```\n",
        "\n",
        "\n"
      ]
    },
    {
      "cell_type": "markdown",
      "metadata": {
        "id": "IXx_LX3SAlFs",
        "colab_type": "text"
      },
      "source": [
        "# Visualizing the Convolutions and Pooling\n",
        "\n",
        "This code will show us the convolutions graphically. The print (test_labels[;100]) shows us the first 100 labels in the test set, and you can see that the ones at index 0, index 23 and index 28 are all the same value (9). They're all shoes. Let's take a look at the result of running the convolution on each, and you'll begin to see common features between them emerge. Now, when the DNN is training on that data, it's working with a lot less, and it's perhaps finding a commonality between shoes based on this convolution/pooling combination."
      ]
    },
    {
      "cell_type": "code",
      "metadata": {
        "id": "f-6nX4QsOku6",
        "colab_type": "code",
        "outputId": "bed2c818-86ff-4c3a-9571-c015ca44eb37",
        "colab": {
          "base_uri": "https://localhost:8080/",
          "height": 187
        }
      },
      "source": [
        "print(test_labels[:100].reshape((10,10)))"
      ],
      "execution_count": 9,
      "outputs": [
        {
          "output_type": "stream",
          "text": [
            "[[9 2 1 1 6 1 4 6 5 7]\n",
            " [4 5 7 3 4 1 2 4 8 0]\n",
            " [2 5 7 9 1 4 6 0 9 3]\n",
            " [8 8 3 3 8 0 7 5 7 9]\n",
            " [6 1 3 7 6 7 2 1 2 2]\n",
            " [4 4 5 8 2 2 8 4 8 0]\n",
            " [7 7 8 5 1 1 2 3 9 8]\n",
            " [7 0 2 6 2 3 1 2 8 4]\n",
            " [1 8 5 9 5 0 3 2 0 6]\n",
            " [5 3 6 7 1 8 0 1 4 2]]\n"
          ],
          "name": "stdout"
        }
      ]
    },
    {
      "cell_type": "code",
      "metadata": {
        "id": "9FGsHhv6JvDx",
        "colab_type": "code",
        "outputId": "0d4be668-539d-4733-f517-d36229241b85",
        "colab": {
          "base_uri": "https://localhost:8080/",
          "height": 296
        }
      },
      "source": [
        "import matplotlib.pyplot as plt\n",
        "f, axarr = plt.subplots(3,5)\n",
        "\n",
        "### = 0\n",
        "FIRST_IMAGE=19\n",
        "SECOND_IMAGE=27\n",
        "THIRD_IMAGE=35\n",
        "\n",
        "# ### = 1\n",
        "# FIRST_IMAGE=2\n",
        "# SECOND_IMAGE=3\n",
        "# THIRD_IMAGE=5\n",
        "\n",
        "### = 9\n",
        "# FIRST_IMAGE=0\n",
        "# SECOND_IMAGE=28\n",
        "# THIRD_IMAGE=39\n",
        "\n",
        "print( test_labels[FIRST_IMAGE], test_labels[SECOND_IMAGE], test_labels[THIRD_IMAGE] )\n",
        "CONVOLUTION_NUMBER = 1\n",
        "from tensorflow.keras import models\n",
        "layer_outputs = [layer.output for layer in model.layers]\n",
        "activation_model = tf.keras.models.Model(inputs = model.input, outputs = layer_outputs)\n",
        "\n",
        "for x in range(0,4):\n",
        "  f1 = activation_model.predict(test_images[FIRST_IMAGE].reshape(1, 28, 28, 1))[x]\n",
        "  axarr[0,x].imshow(f1[0, : , :, CONVOLUTION_NUMBER], cmap='inferno')\n",
        "  axarr[0,x].grid(False)\n",
        "  f2 = activation_model.predict(test_images[SECOND_IMAGE].reshape(1, 28, 28, 1))[x]\n",
        "  axarr[1,x].imshow(f2[0, : , :, CONVOLUTION_NUMBER], cmap='inferno')\n",
        "  axarr[1,x].grid(False)\n",
        "  f3 = activation_model.predict(test_images[THIRD_IMAGE].reshape(1, 28, 28, 1))[x]\n",
        "  axarr[2,x].imshow(f3[0, : , :, CONVOLUTION_NUMBER], cmap='inferno')\n",
        "  axarr[2,x].grid(False)\n",
        "\n",
        "axarr[0,4].imshow(test_images[FIRST_IMAGE].reshape((28,28)))\n",
        "axarr[1,4].imshow(test_images[SECOND_IMAGE].reshape((28,28)))\n",
        "axarr[2,4].imshow(test_images[THIRD_IMAGE].reshape((28,28)))"
      ],
      "execution_count": 74,
      "outputs": [
        {
          "output_type": "stream",
          "text": [
            "0 0 0\n"
          ],
          "name": "stdout"
        },
        {
          "output_type": "execute_result",
          "data": {
            "text/plain": [
              "<matplotlib.image.AxesImage at 0x7f66012ee5c0>"
            ]
          },
          "metadata": {
            "tags": []
          },
          "execution_count": 74
        },
        {
          "output_type": "display_data",
          "data": {
            "image/png": "[encoded data removed]",
            "text/plain": [
              "<Figure size 432x288 with 15 Axes>"
            ]
          },
          "metadata": {
            "tags": []
          }
        }
      ]
    },
    {
      "cell_type": "code",
      "metadata": {
        "id": "tQoBV50i8147",
        "colab_type": "code",
        "colab": {
          "base_uri": "https://localhost:8080/",
          "height": 296
        },
        "outputId": "6a72ff9d-c221-4a1c-d3d8-a695b5435903"
      },
      "source": [
        "import matplotlib.pyplot as plt\n",
        "f, axarr = plt.subplots(3,5)\n",
        "\n",
        "### = 0\n",
        "FIRST_IMAGE=19\n",
        "SECOND_IMAGE=27\n",
        "THIRD_IMAGE=35\n",
        "\n",
        "# ### = 1\n",
        "# FIRST_IMAGE=2\n",
        "# SECOND_IMAGE=3\n",
        "# THIRD_IMAGE=5\n",
        "\n",
        "### = 9\n",
        "# FIRST_IMAGE=0\n",
        "# SECOND_IMAGE=28\n",
        "# THIRD_IMAGE=39\n",
        "\n",
        "print( test_labels[FIRST_IMAGE], test_labels[SECOND_IMAGE], test_labels[THIRD_IMAGE] )\n",
        "CONVOLUTION_NUMBER = 1\n",
        "from tensorflow.keras import models\n",
        "layer_outputs = [layer.output for layer in model.layers]\n",
        "activation_model = tf.keras.models.Model(inputs = model.input, outputs = layer_outputs)\n",
        "\n",
        "for x in range(0,4):\n",
        "  f1 = activation_model.predict(test_images[FIRST_IMAGE].reshape(1, 28, 28, 1))[x]\n",
        "  axarr[0,x].imshow(f1[0, : , :, CONVOLUTION_NUMBER], cmap='inferno')\n",
        "  axarr[0,x].grid(False)\n",
        "  f2 = activation_model.predict(test_images[SECOND_IMAGE].reshape(1, 28, 28, 1))[x]\n",
        "  axarr[1,x].imshow(f2[0, : , :, CONVOLUTION_NUMBER], cmap='inferno')\n",
        "  axarr[1,x].grid(False)\n",
        "  f3 = activation_model.predict(test_images[THIRD_IMAGE].reshape(1, 28, 28, 1))[x]\n",
        "  axarr[2,x].imshow(f3[0, : , :, CONVOLUTION_NUMBER], cmap='inferno')\n",
        "  axarr[2,x].grid(False)\n",
        "\n",
        "axarr[0,4].imshow(test_images[FIRST_IMAGE].reshape((28,28)))\n",
        "axarr[1,4].imshow(test_images[SECOND_IMAGE].reshape((28,28)))\n",
        "axarr[2,4].imshow(test_images[THIRD_IMAGE].reshape((28,28)))"
      ],
      "execution_count": 44,
      "outputs": [
        {
          "output_type": "stream",
          "text": [
            "0 0 0\n"
          ],
          "name": "stdout"
        },
        {
          "output_type": "execute_result",
          "data": {
            "text/plain": [
              "<matplotlib.image.AxesImage at 0x7f66340996a0>"
            ]
          },
          "metadata": {
            "tags": []
          },
          "execution_count": 44
        },
        {
          "output_type": "display_data",
          "data": {
            "image/png": "[encoded data removed]",
            "text/plain": [
              "<Figure size 432x288 with 15 Axes>"
            ]
          },
          "metadata": {
            "tags": []
          }
        }
      ]
    },
    {
      "cell_type": "markdown",
      "metadata": {
        "id": "8KVPZqgHo5Ux",
        "colab_type": "text"
      },
      "source": [
        "EXERCISES\n",
        "\n",
        "1. Try editing the convolutions. Change the 32s to either 16 or 64. What impact will this have on accuracy and/or training time.\n",
        "\n",
        "2. Remove the final Convolution. What impact will this have on accuracy or training time?\n",
        "\n",
        "3. How about adding more Convolutions? What impact do you think this will have? Experiment with it.\n",
        "\n",
        "4. Remove all Convolutions but the first. What impact do you think this will have? Experiment with it. \n",
        "\n",
        "5. In the previous lesson you implemented a callback to check on the loss function and to cancel training once it hit a certain amount. See if you can implement that here!"
      ]
    },
    {
      "cell_type": "code",
      "metadata": {
        "id": "ZpYRidBXpBPM",
        "colab_type": "code",
        "outputId": "70253c13-f6e9-4c19-a737-747f557bac51",
        "colab": {
          "base_uri": "https://localhost:8080/",
          "height": 748
        }
      },
      "source": [
        "import tensorflow as tf\n",
        "print(tf.__version__)\n",
        "mnist = tf.keras.datasets.mnist\n",
        "(training_images, training_labels), (test_images, test_labels) = mnist.load_data()\n",
        "training_images=training_images.reshape(60000, 28, 28, 1)\n",
        "training_images=training_images / 255.0\n",
        "test_images = test_images.reshape(10000, 28, 28, 1)\n",
        "test_images=test_images/255.0\n",
        "\n",
        "class stopOnPercentage(tf.keras.callbacks.Callback):\n",
        "  def __init__(self, acc=0.99):\n",
        "    super().__init__()\n",
        "    self.min_acc = acc\n",
        "\n",
        "  def on_epoch_end(self, epoch, logs):\n",
        "    if logs.get('acc') > self.min_acc:\n",
        "      self.model.stop_training = True\n",
        "\n",
        "model = tf.keras.models.Sequential([\n",
        "  tf.keras.layers.Conv2D(64, (5,5), activation='relu', input_shape=(28, 28, 1)),\n",
        "  tf.keras.layers.MaxPooling2D(2, 2),\n",
        "  tf.keras.layers.Flatten(),\n",
        "  tf.keras.layers.Dense(128, activation='relu'),\n",
        "  tf.keras.layers.Dense(10, activation='softmax')\n",
        "])\n",
        "model.compile(optimizer='adam', loss='sparse_categorical_crossentropy', metrics=['accuracy'])\n",
        "model.summary()\n",
        "model.fit(\n",
        "    training_images, training_labels, \n",
        "    validation_data=(test_images, test_labels),\n",
        "    epochs=10,\n",
        "    callbacks = [\n",
        "      stopOnPercentage(.9999)\n",
        "    ])\n",
        "test_loss, test_acc = model.evaluate(test_images, test_labels)\n",
        "print('----- test_loss')\n",
        "test_loss = model.evaluate(test_images, test_labels)"
      ],
      "execution_count": 85,
      "outputs": [
        {
          "output_type": "stream",
          "text": [
            "1.15.0\n",
            "Model: \"sequential_45\"\n",
            "_________________________________________________________________\n",
            "Layer (type)                 Output Shape              Param #   \n",
            "=================================================================\n",
            "conv2d_85 (Conv2D)           (None, 24, 24, 64)        1664      \n",
            "_________________________________________________________________\n",
            "max_pooling2d_72 (MaxPooling (None, 12, 12, 64)        0         \n",
            "_________________________________________________________________\n",
            "flatten_45 (Flatten)         (None, 9216)              0         \n",
            "_________________________________________________________________\n",
            "dense_90 (Dense)             (None, 128)               1179776   \n",
            "_________________________________________________________________\n",
            "dense_91 (Dense)             (None, 10)                1290      \n",
            "=================================================================\n",
            "Total params: 1,182,730\n",
            "Trainable params: 1,182,730\n",
            "Non-trainable params: 0\n",
            "_________________________________________________________________\n",
            "Train on 60000 samples, validate on 10000 samples\n",
            "Epoch 1/10\n",
            "60000/60000 [==============================] - 8s 127us/sample - loss: 0.1162 - acc: 0.9648 - val_loss: 0.0500 - val_acc: 0.9840\n",
            "Epoch 2/10\n",
            "60000/60000 [==============================] - 7s 109us/sample - loss: 0.0410 - acc: 0.9870 - val_loss: 0.0372 - val_acc: 0.9877\n",
            "Epoch 3/10\n",
            "60000/60000 [==============================] - 7s 113us/sample - loss: 0.0249 - acc: 0.9920 - val_loss: 0.0372 - val_acc: 0.9870\n",
            "Epoch 4/10\n",
            "60000/60000 [==============================] - 7s 111us/sample - loss: 0.0174 - acc: 0.9944 - val_loss: 0.0370 - val_acc: 0.9889\n",
            "Epoch 5/10\n",
            "60000/60000 [==============================] - 7s 110us/sample - loss: 0.0122 - acc: 0.9961 - val_loss: 0.0351 - val_acc: 0.9893\n",
            "Epoch 6/10\n",
            "60000/60000 [==============================] - 7s 112us/sample - loss: 0.0102 - acc: 0.9966 - val_loss: 0.0483 - val_acc: 0.9876\n",
            "Epoch 7/10\n",
            "60000/60000 [==============================] - 7s 113us/sample - loss: 0.0067 - acc: 0.9978 - val_loss: 0.0448 - val_acc: 0.9890\n",
            "Epoch 8/10\n",
            "60000/60000 [==============================] - 7s 111us/sample - loss: 0.0068 - acc: 0.9977 - val_loss: 0.0390 - val_acc: 0.9905\n",
            "Epoch 9/10\n",
            "60000/60000 [==============================] - 7s 114us/sample - loss: 0.0053 - acc: 0.9981 - val_loss: 0.0429 - val_acc: 0.9899\n",
            "Epoch 10/10\n",
            "60000/60000 [==============================] - 7s 110us/sample - loss: 0.0036 - acc: 0.9989 - val_loss: 0.0606 - val_acc: 0.9885\n",
            "10000/10000 [==============================] - 1s 73us/sample - loss: 0.0606 - acc: 0.9885\n",
            "----- test_loss\n",
            "10000/10000 [==============================] - 1s 73us/sample - loss: 0.0606 - acc: 0.9885\n"
          ],
          "name": "stdout"
        }
      ]
    },
    {
      "cell_type": "code",
      "metadata": {
        "id": "-EtZ92T2OR4U",
        "colab_type": "code",
        "colab": {}
      },
      "source": [
        ""
      ],
      "execution_count": 0,
      "outputs": []
    }
  ]
}